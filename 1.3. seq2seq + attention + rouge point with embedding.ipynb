{
  "nbformat": 4,
  "nbformat_minor": 0,
  "metadata": {
    "colab": {
      "name": "word2vec embedding(trainable).ipynb",
      "provenance": [],
      "collapsed_sections": []
    },
    "kernelspec": {
      "name": "python3",
      "display_name": "Python 3"
    },
    "accelerator": "GPU",
    "widgets": {
      "application/vnd.jupyter.widget-state+json": {
        "1f5e93bbdb90462cbd6311ce4468ffdb": {
          "model_module": "@jupyter-widgets/controls",
          "model_name": "HBoxModel",
          "state": {
            "_view_name": "HBoxView",
            "_dom_classes": [],
            "_model_name": "HBoxModel",
            "_view_module": "@jupyter-widgets/controls",
            "_model_module_version": "1.5.0",
            "_view_count": null,
            "_view_module_version": "1.5.0",
            "box_style": "",
            "layout": "IPY_MODEL_efd312a352264a4c9201bea1e8159faa",
            "_model_module": "@jupyter-widgets/controls",
            "children": [
              "IPY_MODEL_77d1ab9744ac4b5ca52ad371167e4095",
              "IPY_MODEL_0775b10a14f8449e8947b32d06f57a54"
            ]
          }
        },
        "efd312a352264a4c9201bea1e8159faa": {
          "model_module": "@jupyter-widgets/base",
          "model_name": "LayoutModel",
          "state": {
            "_view_name": "LayoutView",
            "grid_template_rows": null,
            "right": null,
            "justify_content": null,
            "_view_module": "@jupyter-widgets/base",
            "overflow": null,
            "_model_module_version": "1.2.0",
            "_view_count": null,
            "flex_flow": null,
            "width": null,
            "min_width": null,
            "border": null,
            "align_items": null,
            "bottom": null,
            "_model_module": "@jupyter-widgets/base",
            "top": null,
            "grid_column": null,
            "overflow_y": null,
            "overflow_x": null,
            "grid_auto_flow": null,
            "grid_area": null,
            "grid_template_columns": null,
            "flex": null,
            "_model_name": "LayoutModel",
            "justify_items": null,
            "grid_row": null,
            "max_height": null,
            "align_content": null,
            "visibility": null,
            "align_self": null,
            "height": null,
            "min_height": null,
            "padding": null,
            "grid_auto_rows": null,
            "grid_gap": null,
            "max_width": null,
            "order": null,
            "_view_module_version": "1.2.0",
            "grid_template_areas": null,
            "object_position": null,
            "object_fit": null,
            "grid_auto_columns": null,
            "margin": null,
            "display": null,
            "left": null
          }
        },
        "77d1ab9744ac4b5ca52ad371167e4095": {
          "model_module": "@jupyter-widgets/controls",
          "model_name": "IntProgressModel",
          "state": {
            "_view_name": "ProgressView",
            "style": "IPY_MODEL_b925ca01e2ee4681a363f173b807c327",
            "_dom_classes": [],
            "description": "Epoch 5",
            "_model_name": "IntProgressModel",
            "bar_style": "success",
            "max": 5,
            "_view_module": "@jupyter-widgets/controls",
            "_model_module_version": "1.5.0",
            "value": 5,
            "_view_count": null,
            "_view_module_version": "1.5.0",
            "orientation": "horizontal",
            "min": 0,
            "description_tooltip": null,
            "_model_module": "@jupyter-widgets/controls",
            "layout": "IPY_MODEL_adbcdda2fee64f93896530b0a1f03c94"
          }
        },
        "0775b10a14f8449e8947b32d06f57a54": {
          "model_module": "@jupyter-widgets/controls",
          "model_name": "HTMLModel",
          "state": {
            "_view_name": "HTMLView",
            "style": "IPY_MODEL_6950894017db4fd696f11bb95db49d93",
            "_dom_classes": [],
            "description": "",
            "_model_name": "HTMLModel",
            "placeholder": "​",
            "_view_module": "@jupyter-widgets/controls",
            "_model_module_version": "1.5.0",
            "value": "100% 5/5 [29:53&lt;00:00, 361.64s/it, Loss=tf.Tensor(4.467425, shape=(), dtype=float32)]",
            "_view_count": null,
            "_view_module_version": "1.5.0",
            "description_tooltip": null,
            "_model_module": "@jupyter-widgets/controls",
            "layout": "IPY_MODEL_9ed6f3edde644963af25737fa9fe31b9"
          }
        },
        "b925ca01e2ee4681a363f173b807c327": {
          "model_module": "@jupyter-widgets/controls",
          "model_name": "ProgressStyleModel",
          "state": {
            "_view_name": "StyleView",
            "_model_name": "ProgressStyleModel",
            "description_width": "initial",
            "_view_module": "@jupyter-widgets/base",
            "_model_module_version": "1.5.0",
            "_view_count": null,
            "_view_module_version": "1.2.0",
            "bar_color": null,
            "_model_module": "@jupyter-widgets/controls"
          }
        },
        "adbcdda2fee64f93896530b0a1f03c94": {
          "model_module": "@jupyter-widgets/base",
          "model_name": "LayoutModel",
          "state": {
            "_view_name": "LayoutView",
            "grid_template_rows": null,
            "right": null,
            "justify_content": null,
            "_view_module": "@jupyter-widgets/base",
            "overflow": null,
            "_model_module_version": "1.2.0",
            "_view_count": null,
            "flex_flow": null,
            "width": null,
            "min_width": null,
            "border": null,
            "align_items": null,
            "bottom": null,
            "_model_module": "@jupyter-widgets/base",
            "top": null,
            "grid_column": null,
            "overflow_y": null,
            "overflow_x": null,
            "grid_auto_flow": null,
            "grid_area": null,
            "grid_template_columns": null,
            "flex": null,
            "_model_name": "LayoutModel",
            "justify_items": null,
            "grid_row": null,
            "max_height": null,
            "align_content": null,
            "visibility": null,
            "align_self": null,
            "height": null,
            "min_height": null,
            "padding": null,
            "grid_auto_rows": null,
            "grid_gap": null,
            "max_width": null,
            "order": null,
            "_view_module_version": "1.2.0",
            "grid_template_areas": null,
            "object_position": null,
            "object_fit": null,
            "grid_auto_columns": null,
            "margin": null,
            "display": null,
            "left": null
          }
        },
        "6950894017db4fd696f11bb95db49d93": {
          "model_module": "@jupyter-widgets/controls",
          "model_name": "DescriptionStyleModel",
          "state": {
            "_view_name": "StyleView",
            "_model_name": "DescriptionStyleModel",
            "description_width": "",
            "_view_module": "@jupyter-widgets/base",
            "_model_module_version": "1.5.0",
            "_view_count": null,
            "_view_module_version": "1.2.0",
            "_model_module": "@jupyter-widgets/controls"
          }
        },
        "9ed6f3edde644963af25737fa9fe31b9": {
          "model_module": "@jupyter-widgets/base",
          "model_name": "LayoutModel",
          "state": {
            "_view_name": "LayoutView",
            "grid_template_rows": null,
            "right": null,
            "justify_content": null,
            "_view_module": "@jupyter-widgets/base",
            "overflow": null,
            "_model_module_version": "1.2.0",
            "_view_count": null,
            "flex_flow": null,
            "width": null,
            "min_width": null,
            "border": null,
            "align_items": null,
            "bottom": null,
            "_model_module": "@jupyter-widgets/base",
            "top": null,
            "grid_column": null,
            "overflow_y": null,
            "overflow_x": null,
            "grid_auto_flow": null,
            "grid_area": null,
            "grid_template_columns": null,
            "flex": null,
            "_model_name": "LayoutModel",
            "justify_items": null,
            "grid_row": null,
            "max_height": null,
            "align_content": null,
            "visibility": null,
            "align_self": null,
            "height": null,
            "min_height": null,
            "padding": null,
            "grid_auto_rows": null,
            "grid_gap": null,
            "max_width": null,
            "order": null,
            "_view_module_version": "1.2.0",
            "grid_template_areas": null,
            "object_position": null,
            "object_fit": null,
            "grid_auto_columns": null,
            "margin": null,
            "display": null,
            "left": null
          }
        },
        "d22b7a92c1d34275924cd174319de022": {
          "model_module": "@jupyter-widgets/controls",
          "model_name": "HBoxModel",
          "state": {
            "_view_name": "HBoxView",
            "_dom_classes": [],
            "_model_name": "HBoxModel",
            "_view_module": "@jupyter-widgets/controls",
            "_model_module_version": "1.5.0",
            "_view_count": null,
            "_view_module_version": "1.5.0",
            "box_style": "",
            "layout": "IPY_MODEL_52b6398ad6674faf90e3b0623a663f91",
            "_model_module": "@jupyter-widgets/controls",
            "children": [
              "IPY_MODEL_c2938ed21c6645cfa20331b96a05775b",
              "IPY_MODEL_be8f229fa191498f8272afdd42d49ac5"
            ]
          }
        },
        "52b6398ad6674faf90e3b0623a663f91": {
          "model_module": "@jupyter-widgets/base",
          "model_name": "LayoutModel",
          "state": {
            "_view_name": "LayoutView",
            "grid_template_rows": null,
            "right": null,
            "justify_content": null,
            "_view_module": "@jupyter-widgets/base",
            "overflow": null,
            "_model_module_version": "1.2.0",
            "_view_count": null,
            "flex_flow": null,
            "width": null,
            "min_width": null,
            "border": null,
            "align_items": null,
            "bottom": null,
            "_model_module": "@jupyter-widgets/base",
            "top": null,
            "grid_column": null,
            "overflow_y": null,
            "overflow_x": null,
            "grid_auto_flow": null,
            "grid_area": null,
            "grid_template_columns": null,
            "flex": null,
            "_model_name": "LayoutModel",
            "justify_items": null,
            "grid_row": null,
            "max_height": null,
            "align_content": null,
            "visibility": null,
            "align_self": null,
            "height": null,
            "min_height": null,
            "padding": null,
            "grid_auto_rows": null,
            "grid_gap": null,
            "max_width": null,
            "order": null,
            "_view_module_version": "1.2.0",
            "grid_template_areas": null,
            "object_position": null,
            "object_fit": null,
            "grid_auto_columns": null,
            "margin": null,
            "display": null,
            "left": null
          }
        },
        "c2938ed21c6645cfa20331b96a05775b": {
          "model_module": "@jupyter-widgets/controls",
          "model_name": "IntProgressModel",
          "state": {
            "_view_name": "ProgressView",
            "style": "IPY_MODEL_27aced8955654bcb8af8152ef34f065a",
            "_dom_classes": [],
            "description": "Epoch 1",
            "_model_name": "IntProgressModel",
            "bar_style": "success",
            "max": 385,
            "_view_module": "@jupyter-widgets/controls",
            "_model_module_version": "1.5.0",
            "value": 385,
            "_view_count": null,
            "_view_module_version": "1.5.0",
            "orientation": "horizontal",
            "min": 0,
            "description_tooltip": null,
            "_model_module": "@jupyter-widgets/controls",
            "layout": "IPY_MODEL_c97c14ae2b0a4ef99c13a29a9465d625"
          }
        },
        "be8f229fa191498f8272afdd42d49ac5": {
          "model_module": "@jupyter-widgets/controls",
          "model_name": "HTMLModel",
          "state": {
            "_view_name": "HTMLView",
            "style": "IPY_MODEL_af3ac72f4d524378a12a242c40a0af1f",
            "_dom_classes": [],
            "description": "",
            "_model_name": "HTMLModel",
            "placeholder": "​",
            "_view_module": "@jupyter-widgets/controls",
            "_model_module_version": "1.5.0",
            "value": "100% 385/385 [07:00&lt;00:00,  1.13it/s, Batch=380, Loss=6.72]",
            "_view_count": null,
            "_view_module_version": "1.5.0",
            "description_tooltip": null,
            "_model_module": "@jupyter-widgets/controls",
            "layout": "IPY_MODEL_047850b867234d599b848ea79371d336"
          }
        },
        "27aced8955654bcb8af8152ef34f065a": {
          "model_module": "@jupyter-widgets/controls",
          "model_name": "ProgressStyleModel",
          "state": {
            "_view_name": "StyleView",
            "_model_name": "ProgressStyleModel",
            "description_width": "initial",
            "_view_module": "@jupyter-widgets/base",
            "_model_module_version": "1.5.0",
            "_view_count": null,
            "_view_module_version": "1.2.0",
            "bar_color": null,
            "_model_module": "@jupyter-widgets/controls"
          }
        },
        "c97c14ae2b0a4ef99c13a29a9465d625": {
          "model_module": "@jupyter-widgets/base",
          "model_name": "LayoutModel",
          "state": {
            "_view_name": "LayoutView",
            "grid_template_rows": null,
            "right": null,
            "justify_content": null,
            "_view_module": "@jupyter-widgets/base",
            "overflow": null,
            "_model_module_version": "1.2.0",
            "_view_count": null,
            "flex_flow": null,
            "width": null,
            "min_width": null,
            "border": null,
            "align_items": null,
            "bottom": null,
            "_model_module": "@jupyter-widgets/base",
            "top": null,
            "grid_column": null,
            "overflow_y": null,
            "overflow_x": null,
            "grid_auto_flow": null,
            "grid_area": null,
            "grid_template_columns": null,
            "flex": null,
            "_model_name": "LayoutModel",
            "justify_items": null,
            "grid_row": null,
            "max_height": null,
            "align_content": null,
            "visibility": null,
            "align_self": null,
            "height": null,
            "min_height": null,
            "padding": null,
            "grid_auto_rows": null,
            "grid_gap": null,
            "max_width": null,
            "order": null,
            "_view_module_version": "1.2.0",
            "grid_template_areas": null,
            "object_position": null,
            "object_fit": null,
            "grid_auto_columns": null,
            "margin": null,
            "display": null,
            "left": null
          }
        },
        "af3ac72f4d524378a12a242c40a0af1f": {
          "model_module": "@jupyter-widgets/controls",
          "model_name": "DescriptionStyleModel",
          "state": {
            "_view_name": "StyleView",
            "_model_name": "DescriptionStyleModel",
            "description_width": "",
            "_view_module": "@jupyter-widgets/base",
            "_model_module_version": "1.5.0",
            "_view_count": null,
            "_view_module_version": "1.2.0",
            "_model_module": "@jupyter-widgets/controls"
          }
        },
        "047850b867234d599b848ea79371d336": {
          "model_module": "@jupyter-widgets/base",
          "model_name": "LayoutModel",
          "state": {
            "_view_name": "LayoutView",
            "grid_template_rows": null,
            "right": null,
            "justify_content": null,
            "_view_module": "@jupyter-widgets/base",
            "overflow": null,
            "_model_module_version": "1.2.0",
            "_view_count": null,
            "flex_flow": null,
            "width": null,
            "min_width": null,
            "border": null,
            "align_items": null,
            "bottom": null,
            "_model_module": "@jupyter-widgets/base",
            "top": null,
            "grid_column": null,
            "overflow_y": null,
            "overflow_x": null,
            "grid_auto_flow": null,
            "grid_area": null,
            "grid_template_columns": null,
            "flex": null,
            "_model_name": "LayoutModel",
            "justify_items": null,
            "grid_row": null,
            "max_height": null,
            "align_content": null,
            "visibility": null,
            "align_self": null,
            "height": null,
            "min_height": null,
            "padding": null,
            "grid_auto_rows": null,
            "grid_gap": null,
            "max_width": null,
            "order": null,
            "_view_module_version": "1.2.0",
            "grid_template_areas": null,
            "object_position": null,
            "object_fit": null,
            "grid_auto_columns": null,
            "margin": null,
            "display": null,
            "left": null
          }
        },
        "b33d0f2e3b11455da3ca1a6a28d40907": {
          "model_module": "@jupyter-widgets/controls",
          "model_name": "HBoxModel",
          "state": {
            "_view_name": "HBoxView",
            "_dom_classes": [],
            "_model_name": "HBoxModel",
            "_view_module": "@jupyter-widgets/controls",
            "_model_module_version": "1.5.0",
            "_view_count": null,
            "_view_module_version": "1.5.0",
            "box_style": "",
            "layout": "IPY_MODEL_a6cd1d15035145da9dc98bfdaa78650b",
            "_model_module": "@jupyter-widgets/controls",
            "children": [
              "IPY_MODEL_037d379be8a04c59a64a1ac145809267",
              "IPY_MODEL_142cd5d405ef4fbdba6dfb473f826946"
            ]
          }
        },
        "a6cd1d15035145da9dc98bfdaa78650b": {
          "model_module": "@jupyter-widgets/base",
          "model_name": "LayoutModel",
          "state": {
            "_view_name": "LayoutView",
            "grid_template_rows": null,
            "right": null,
            "justify_content": null,
            "_view_module": "@jupyter-widgets/base",
            "overflow": null,
            "_model_module_version": "1.2.0",
            "_view_count": null,
            "flex_flow": null,
            "width": null,
            "min_width": null,
            "border": null,
            "align_items": null,
            "bottom": null,
            "_model_module": "@jupyter-widgets/base",
            "top": null,
            "grid_column": null,
            "overflow_y": null,
            "overflow_x": null,
            "grid_auto_flow": null,
            "grid_area": null,
            "grid_template_columns": null,
            "flex": null,
            "_model_name": "LayoutModel",
            "justify_items": null,
            "grid_row": null,
            "max_height": null,
            "align_content": null,
            "visibility": null,
            "align_self": null,
            "height": null,
            "min_height": null,
            "padding": null,
            "grid_auto_rows": null,
            "grid_gap": null,
            "max_width": null,
            "order": null,
            "_view_module_version": "1.2.0",
            "grid_template_areas": null,
            "object_position": null,
            "object_fit": null,
            "grid_auto_columns": null,
            "margin": null,
            "display": null,
            "left": null
          }
        },
        "037d379be8a04c59a64a1ac145809267": {
          "model_module": "@jupyter-widgets/controls",
          "model_name": "IntProgressModel",
          "state": {
            "_view_name": "ProgressView",
            "style": "IPY_MODEL_1ac785e7b7924fd49100112fdf33d71c",
            "_dom_classes": [],
            "description": "Epoch 2",
            "_model_name": "IntProgressModel",
            "bar_style": "success",
            "max": 385,
            "_view_module": "@jupyter-widgets/controls",
            "_model_module_version": "1.5.0",
            "value": 385,
            "_view_count": null,
            "_view_module_version": "1.5.0",
            "orientation": "horizontal",
            "min": 0,
            "description_tooltip": null,
            "_model_module": "@jupyter-widgets/controls",
            "layout": "IPY_MODEL_94aa967a8110403b959477d3007accfc"
          }
        },
        "142cd5d405ef4fbdba6dfb473f826946": {
          "model_module": "@jupyter-widgets/controls",
          "model_name": "HTMLModel",
          "state": {
            "_view_name": "HTMLView",
            "style": "IPY_MODEL_16b92839026a4de1b503deb06cccf6cb",
            "_dom_classes": [],
            "description": "",
            "_model_name": "HTMLModel",
            "placeholder": "​",
            "_view_module": "@jupyter-widgets/controls",
            "_model_module_version": "1.5.0",
            "value": "100% 385/385 [05:43&lt;00:00,  1.11it/s, Batch=380, Loss=6.03]",
            "_view_count": null,
            "_view_module_version": "1.5.0",
            "description_tooltip": null,
            "_model_module": "@jupyter-widgets/controls",
            "layout": "IPY_MODEL_ba3487df016f4cf7a8d4cd94c3831fc7"
          }
        },
        "1ac785e7b7924fd49100112fdf33d71c": {
          "model_module": "@jupyter-widgets/controls",
          "model_name": "ProgressStyleModel",
          "state": {
            "_view_name": "StyleView",
            "_model_name": "ProgressStyleModel",
            "description_width": "initial",
            "_view_module": "@jupyter-widgets/base",
            "_model_module_version": "1.5.0",
            "_view_count": null,
            "_view_module_version": "1.2.0",
            "bar_color": null,
            "_model_module": "@jupyter-widgets/controls"
          }
        },
        "94aa967a8110403b959477d3007accfc": {
          "model_module": "@jupyter-widgets/base",
          "model_name": "LayoutModel",
          "state": {
            "_view_name": "LayoutView",
            "grid_template_rows": null,
            "right": null,
            "justify_content": null,
            "_view_module": "@jupyter-widgets/base",
            "overflow": null,
            "_model_module_version": "1.2.0",
            "_view_count": null,
            "flex_flow": null,
            "width": null,
            "min_width": null,
            "border": null,
            "align_items": null,
            "bottom": null,
            "_model_module": "@jupyter-widgets/base",
            "top": null,
            "grid_column": null,
            "overflow_y": null,
            "overflow_x": null,
            "grid_auto_flow": null,
            "grid_area": null,
            "grid_template_columns": null,
            "flex": null,
            "_model_name": "LayoutModel",
            "justify_items": null,
            "grid_row": null,
            "max_height": null,
            "align_content": null,
            "visibility": null,
            "align_self": null,
            "height": null,
            "min_height": null,
            "padding": null,
            "grid_auto_rows": null,
            "grid_gap": null,
            "max_width": null,
            "order": null,
            "_view_module_version": "1.2.0",
            "grid_template_areas": null,
            "object_position": null,
            "object_fit": null,
            "grid_auto_columns": null,
            "margin": null,
            "display": null,
            "left": null
          }
        },
        "16b92839026a4de1b503deb06cccf6cb": {
          "model_module": "@jupyter-widgets/controls",
          "model_name": "DescriptionStyleModel",
          "state": {
            "_view_name": "StyleView",
            "_model_name": "DescriptionStyleModel",
            "description_width": "",
            "_view_module": "@jupyter-widgets/base",
            "_model_module_version": "1.5.0",
            "_view_count": null,
            "_view_module_version": "1.2.0",
            "_model_module": "@jupyter-widgets/controls"
          }
        },
        "ba3487df016f4cf7a8d4cd94c3831fc7": {
          "model_module": "@jupyter-widgets/base",
          "model_name": "LayoutModel",
          "state": {
            "_view_name": "LayoutView",
            "grid_template_rows": null,
            "right": null,
            "justify_content": null,
            "_view_module": "@jupyter-widgets/base",
            "overflow": null,
            "_model_module_version": "1.2.0",
            "_view_count": null,
            "flex_flow": null,
            "width": null,
            "min_width": null,
            "border": null,
            "align_items": null,
            "bottom": null,
            "_model_module": "@jupyter-widgets/base",
            "top": null,
            "grid_column": null,
            "overflow_y": null,
            "overflow_x": null,
            "grid_auto_flow": null,
            "grid_area": null,
            "grid_template_columns": null,
            "flex": null,
            "_model_name": "LayoutModel",
            "justify_items": null,
            "grid_row": null,
            "max_height": null,
            "align_content": null,
            "visibility": null,
            "align_self": null,
            "height": null,
            "min_height": null,
            "padding": null,
            "grid_auto_rows": null,
            "grid_gap": null,
            "max_width": null,
            "order": null,
            "_view_module_version": "1.2.0",
            "grid_template_areas": null,
            "object_position": null,
            "object_fit": null,
            "grid_auto_columns": null,
            "margin": null,
            "display": null,
            "left": null
          }
        },
        "6f95a5f2a80544dfaf976ea9853a12b9": {
          "model_module": "@jupyter-widgets/controls",
          "model_name": "HBoxModel",
          "state": {
            "_view_name": "HBoxView",
            "_dom_classes": [],
            "_model_name": "HBoxModel",
            "_view_module": "@jupyter-widgets/controls",
            "_model_module_version": "1.5.0",
            "_view_count": null,
            "_view_module_version": "1.5.0",
            "box_style": "",
            "layout": "IPY_MODEL_159e038197ca48efb3eb852722c4f36d",
            "_model_module": "@jupyter-widgets/controls",
            "children": [
              "IPY_MODEL_d940efe05fd34f06b9e9e0dc178b5bad",
              "IPY_MODEL_b584a31d462a4cb5b32894d3e2b29a39"
            ]
          }
        },
        "159e038197ca48efb3eb852722c4f36d": {
          "model_module": "@jupyter-widgets/base",
          "model_name": "LayoutModel",
          "state": {
            "_view_name": "LayoutView",
            "grid_template_rows": null,
            "right": null,
            "justify_content": null,
            "_view_module": "@jupyter-widgets/base",
            "overflow": null,
            "_model_module_version": "1.2.0",
            "_view_count": null,
            "flex_flow": null,
            "width": null,
            "min_width": null,
            "border": null,
            "align_items": null,
            "bottom": null,
            "_model_module": "@jupyter-widgets/base",
            "top": null,
            "grid_column": null,
            "overflow_y": null,
            "overflow_x": null,
            "grid_auto_flow": null,
            "grid_area": null,
            "grid_template_columns": null,
            "flex": null,
            "_model_name": "LayoutModel",
            "justify_items": null,
            "grid_row": null,
            "max_height": null,
            "align_content": null,
            "visibility": null,
            "align_self": null,
            "height": null,
            "min_height": null,
            "padding": null,
            "grid_auto_rows": null,
            "grid_gap": null,
            "max_width": null,
            "order": null,
            "_view_module_version": "1.2.0",
            "grid_template_areas": null,
            "object_position": null,
            "object_fit": null,
            "grid_auto_columns": null,
            "margin": null,
            "display": null,
            "left": null
          }
        },
        "d940efe05fd34f06b9e9e0dc178b5bad": {
          "model_module": "@jupyter-widgets/controls",
          "model_name": "IntProgressModel",
          "state": {
            "_view_name": "ProgressView",
            "style": "IPY_MODEL_1afe83562b6249d4ba94289a06a48dd3",
            "_dom_classes": [],
            "description": "Epoch 3",
            "_model_name": "IntProgressModel",
            "bar_style": "success",
            "max": 385,
            "_view_module": "@jupyter-widgets/controls",
            "_model_module_version": "1.5.0",
            "value": 385,
            "_view_count": null,
            "_view_module_version": "1.5.0",
            "orientation": "horizontal",
            "min": 0,
            "description_tooltip": null,
            "_model_module": "@jupyter-widgets/controls",
            "layout": "IPY_MODEL_17cb21f384eb4449b2f8bacdb0903d13"
          }
        },
        "b584a31d462a4cb5b32894d3e2b29a39": {
          "model_module": "@jupyter-widgets/controls",
          "model_name": "HTMLModel",
          "state": {
            "_view_name": "HTMLView",
            "style": "IPY_MODEL_e88cafad6cab4f9ba5265fa27fa0c5d1",
            "_dom_classes": [],
            "description": "",
            "_model_name": "HTMLModel",
            "placeholder": "​",
            "_view_module": "@jupyter-widgets/controls",
            "_model_module_version": "1.5.0",
            "value": "100% 385/385 [05:43&lt;00:00,  1.12it/s, Batch=380, Loss=5.79]",
            "_view_count": null,
            "_view_module_version": "1.5.0",
            "description_tooltip": null,
            "_model_module": "@jupyter-widgets/controls",
            "layout": "IPY_MODEL_a06cdab527e547e9bc1a997e794bb86f"
          }
        },
        "1afe83562b6249d4ba94289a06a48dd3": {
          "model_module": "@jupyter-widgets/controls",
          "model_name": "ProgressStyleModel",
          "state": {
            "_view_name": "StyleView",
            "_model_name": "ProgressStyleModel",
            "description_width": "initial",
            "_view_module": "@jupyter-widgets/base",
            "_model_module_version": "1.5.0",
            "_view_count": null,
            "_view_module_version": "1.2.0",
            "bar_color": null,
            "_model_module": "@jupyter-widgets/controls"
          }
        },
        "17cb21f384eb4449b2f8bacdb0903d13": {
          "model_module": "@jupyter-widgets/base",
          "model_name": "LayoutModel",
          "state": {
            "_view_name": "LayoutView",
            "grid_template_rows": null,
            "right": null,
            "justify_content": null,
            "_view_module": "@jupyter-widgets/base",
            "overflow": null,
            "_model_module_version": "1.2.0",
            "_view_count": null,
            "flex_flow": null,
            "width": null,
            "min_width": null,
            "border": null,
            "align_items": null,
            "bottom": null,
            "_model_module": "@jupyter-widgets/base",
            "top": null,
            "grid_column": null,
            "overflow_y": null,
            "overflow_x": null,
            "grid_auto_flow": null,
            "grid_area": null,
            "grid_template_columns": null,
            "flex": null,
            "_model_name": "LayoutModel",
            "justify_items": null,
            "grid_row": null,
            "max_height": null,
            "align_content": null,
            "visibility": null,
            "align_self": null,
            "height": null,
            "min_height": null,
            "padding": null,
            "grid_auto_rows": null,
            "grid_gap": null,
            "max_width": null,
            "order": null,
            "_view_module_version": "1.2.0",
            "grid_template_areas": null,
            "object_position": null,
            "object_fit": null,
            "grid_auto_columns": null,
            "margin": null,
            "display": null,
            "left": null
          }
        },
        "e88cafad6cab4f9ba5265fa27fa0c5d1": {
          "model_module": "@jupyter-widgets/controls",
          "model_name": "DescriptionStyleModel",
          "state": {
            "_view_name": "StyleView",
            "_model_name": "DescriptionStyleModel",
            "description_width": "",
            "_view_module": "@jupyter-widgets/base",
            "_model_module_version": "1.5.0",
            "_view_count": null,
            "_view_module_version": "1.2.0",
            "_model_module": "@jupyter-widgets/controls"
          }
        },
        "a06cdab527e547e9bc1a997e794bb86f": {
          "model_module": "@jupyter-widgets/base",
          "model_name": "LayoutModel",
          "state": {
            "_view_name": "LayoutView",
            "grid_template_rows": null,
            "right": null,
            "justify_content": null,
            "_view_module": "@jupyter-widgets/base",
            "overflow": null,
            "_model_module_version": "1.2.0",
            "_view_count": null,
            "flex_flow": null,
            "width": null,
            "min_width": null,
            "border": null,
            "align_items": null,
            "bottom": null,
            "_model_module": "@jupyter-widgets/base",
            "top": null,
            "grid_column": null,
            "overflow_y": null,
            "overflow_x": null,
            "grid_auto_flow": null,
            "grid_area": null,
            "grid_template_columns": null,
            "flex": null,
            "_model_name": "LayoutModel",
            "justify_items": null,
            "grid_row": null,
            "max_height": null,
            "align_content": null,
            "visibility": null,
            "align_self": null,
            "height": null,
            "min_height": null,
            "padding": null,
            "grid_auto_rows": null,
            "grid_gap": null,
            "max_width": null,
            "order": null,
            "_view_module_version": "1.2.0",
            "grid_template_areas": null,
            "object_position": null,
            "object_fit": null,
            "grid_auto_columns": null,
            "margin": null,
            "display": null,
            "left": null
          }
        },
        "c408b24e707c4d0e97a15aec00c9f414": {
          "model_module": "@jupyter-widgets/controls",
          "model_name": "HBoxModel",
          "state": {
            "_view_name": "HBoxView",
            "_dom_classes": [],
            "_model_name": "HBoxModel",
            "_view_module": "@jupyter-widgets/controls",
            "_model_module_version": "1.5.0",
            "_view_count": null,
            "_view_module_version": "1.5.0",
            "box_style": "",
            "layout": "IPY_MODEL_1c523c6c116c4d51bf284e703b277f79",
            "_model_module": "@jupyter-widgets/controls",
            "children": [
              "IPY_MODEL_17c60a08a7e645cfa6deb0074539a375",
              "IPY_MODEL_fe296ba96a384a09a3c01a882ff9f1c8"
            ]
          }
        },
        "1c523c6c116c4d51bf284e703b277f79": {
          "model_module": "@jupyter-widgets/base",
          "model_name": "LayoutModel",
          "state": {
            "_view_name": "LayoutView",
            "grid_template_rows": null,
            "right": null,
            "justify_content": null,
            "_view_module": "@jupyter-widgets/base",
            "overflow": null,
            "_model_module_version": "1.2.0",
            "_view_count": null,
            "flex_flow": null,
            "width": null,
            "min_width": null,
            "border": null,
            "align_items": null,
            "bottom": null,
            "_model_module": "@jupyter-widgets/base",
            "top": null,
            "grid_column": null,
            "overflow_y": null,
            "overflow_x": null,
            "grid_auto_flow": null,
            "grid_area": null,
            "grid_template_columns": null,
            "flex": null,
            "_model_name": "LayoutModel",
            "justify_items": null,
            "grid_row": null,
            "max_height": null,
            "align_content": null,
            "visibility": null,
            "align_self": null,
            "height": null,
            "min_height": null,
            "padding": null,
            "grid_auto_rows": null,
            "grid_gap": null,
            "max_width": null,
            "order": null,
            "_view_module_version": "1.2.0",
            "grid_template_areas": null,
            "object_position": null,
            "object_fit": null,
            "grid_auto_columns": null,
            "margin": null,
            "display": null,
            "left": null
          }
        },
        "17c60a08a7e645cfa6deb0074539a375": {
          "model_module": "@jupyter-widgets/controls",
          "model_name": "IntProgressModel",
          "state": {
            "_view_name": "ProgressView",
            "style": "IPY_MODEL_59161ed0b30940639278f9008821feab",
            "_dom_classes": [],
            "description": "Epoch 4",
            "_model_name": "IntProgressModel",
            "bar_style": "success",
            "max": 385,
            "_view_module": "@jupyter-widgets/controls",
            "_model_module_version": "1.5.0",
            "value": 385,
            "_view_count": null,
            "_view_module_version": "1.5.0",
            "orientation": "horizontal",
            "min": 0,
            "description_tooltip": null,
            "_model_module": "@jupyter-widgets/controls",
            "layout": "IPY_MODEL_af8e9ce4bc6746d3b55bae12ec4c8e4e"
          }
        },
        "fe296ba96a384a09a3c01a882ff9f1c8": {
          "model_module": "@jupyter-widgets/controls",
          "model_name": "HTMLModel",
          "state": {
            "_view_name": "HTMLView",
            "style": "IPY_MODEL_0b6c59f6dd5c4503ba80a368a962ce8b",
            "_dom_classes": [],
            "description": "",
            "_model_name": "HTMLModel",
            "placeholder": "​",
            "_view_module": "@jupyter-widgets/controls",
            "_model_module_version": "1.5.0",
            "value": "100% 385/385 [05:44&lt;00:00,  1.09it/s, Batch=380, Loss=4.91]",
            "_view_count": null,
            "_view_module_version": "1.5.0",
            "description_tooltip": null,
            "_model_module": "@jupyter-widgets/controls",
            "layout": "IPY_MODEL_74f08a7e712a4427a2b2e2d1ded52ccf"
          }
        },
        "59161ed0b30940639278f9008821feab": {
          "model_module": "@jupyter-widgets/controls",
          "model_name": "ProgressStyleModel",
          "state": {
            "_view_name": "StyleView",
            "_model_name": "ProgressStyleModel",
            "description_width": "initial",
            "_view_module": "@jupyter-widgets/base",
            "_model_module_version": "1.5.0",
            "_view_count": null,
            "_view_module_version": "1.2.0",
            "bar_color": null,
            "_model_module": "@jupyter-widgets/controls"
          }
        },
        "af8e9ce4bc6746d3b55bae12ec4c8e4e": {
          "model_module": "@jupyter-widgets/base",
          "model_name": "LayoutModel",
          "state": {
            "_view_name": "LayoutView",
            "grid_template_rows": null,
            "right": null,
            "justify_content": null,
            "_view_module": "@jupyter-widgets/base",
            "overflow": null,
            "_model_module_version": "1.2.0",
            "_view_count": null,
            "flex_flow": null,
            "width": null,
            "min_width": null,
            "border": null,
            "align_items": null,
            "bottom": null,
            "_model_module": "@jupyter-widgets/base",
            "top": null,
            "grid_column": null,
            "overflow_y": null,
            "overflow_x": null,
            "grid_auto_flow": null,
            "grid_area": null,
            "grid_template_columns": null,
            "flex": null,
            "_model_name": "LayoutModel",
            "justify_items": null,
            "grid_row": null,
            "max_height": null,
            "align_content": null,
            "visibility": null,
            "align_self": null,
            "height": null,
            "min_height": null,
            "padding": null,
            "grid_auto_rows": null,
            "grid_gap": null,
            "max_width": null,
            "order": null,
            "_view_module_version": "1.2.0",
            "grid_template_areas": null,
            "object_position": null,
            "object_fit": null,
            "grid_auto_columns": null,
            "margin": null,
            "display": null,
            "left": null
          }
        },
        "0b6c59f6dd5c4503ba80a368a962ce8b": {
          "model_module": "@jupyter-widgets/controls",
          "model_name": "DescriptionStyleModel",
          "state": {
            "_view_name": "StyleView",
            "_model_name": "DescriptionStyleModel",
            "description_width": "",
            "_view_module": "@jupyter-widgets/base",
            "_model_module_version": "1.5.0",
            "_view_count": null,
            "_view_module_version": "1.2.0",
            "_model_module": "@jupyter-widgets/controls"
          }
        },
        "74f08a7e712a4427a2b2e2d1ded52ccf": {
          "model_module": "@jupyter-widgets/base",
          "model_name": "LayoutModel",
          "state": {
            "_view_name": "LayoutView",
            "grid_template_rows": null,
            "right": null,
            "justify_content": null,
            "_view_module": "@jupyter-widgets/base",
            "overflow": null,
            "_model_module_version": "1.2.0",
            "_view_count": null,
            "flex_flow": null,
            "width": null,
            "min_width": null,
            "border": null,
            "align_items": null,
            "bottom": null,
            "_model_module": "@jupyter-widgets/base",
            "top": null,
            "grid_column": null,
            "overflow_y": null,
            "overflow_x": null,
            "grid_auto_flow": null,
            "grid_area": null,
            "grid_template_columns": null,
            "flex": null,
            "_model_name": "LayoutModel",
            "justify_items": null,
            "grid_row": null,
            "max_height": null,
            "align_content": null,
            "visibility": null,
            "align_self": null,
            "height": null,
            "min_height": null,
            "padding": null,
            "grid_auto_rows": null,
            "grid_gap": null,
            "max_width": null,
            "order": null,
            "_view_module_version": "1.2.0",
            "grid_template_areas": null,
            "object_position": null,
            "object_fit": null,
            "grid_auto_columns": null,
            "margin": null,
            "display": null,
            "left": null
          }
        },
        "9a344cab441e499899b34e8b9a69601a": {
          "model_module": "@jupyter-widgets/controls",
          "model_name": "HBoxModel",
          "state": {
            "_view_name": "HBoxView",
            "_dom_classes": [],
            "_model_name": "HBoxModel",
            "_view_module": "@jupyter-widgets/controls",
            "_model_module_version": "1.5.0",
            "_view_count": null,
            "_view_module_version": "1.5.0",
            "box_style": "",
            "layout": "IPY_MODEL_78e2dc04f60b478386c5464d67a590c9",
            "_model_module": "@jupyter-widgets/controls",
            "children": [
              "IPY_MODEL_64a2fc4c6bc34533aa3c6765176d094d",
              "IPY_MODEL_ec43815f0bdc4a88b4f63c1384ae8838"
            ]
          }
        },
        "78e2dc04f60b478386c5464d67a590c9": {
          "model_module": "@jupyter-widgets/base",
          "model_name": "LayoutModel",
          "state": {
            "_view_name": "LayoutView",
            "grid_template_rows": null,
            "right": null,
            "justify_content": null,
            "_view_module": "@jupyter-widgets/base",
            "overflow": null,
            "_model_module_version": "1.2.0",
            "_view_count": null,
            "flex_flow": null,
            "width": null,
            "min_width": null,
            "border": null,
            "align_items": null,
            "bottom": null,
            "_model_module": "@jupyter-widgets/base",
            "top": null,
            "grid_column": null,
            "overflow_y": null,
            "overflow_x": null,
            "grid_auto_flow": null,
            "grid_area": null,
            "grid_template_columns": null,
            "flex": null,
            "_model_name": "LayoutModel",
            "justify_items": null,
            "grid_row": null,
            "max_height": null,
            "align_content": null,
            "visibility": null,
            "align_self": null,
            "height": null,
            "min_height": null,
            "padding": null,
            "grid_auto_rows": null,
            "grid_gap": null,
            "max_width": null,
            "order": null,
            "_view_module_version": "1.2.0",
            "grid_template_areas": null,
            "object_position": null,
            "object_fit": null,
            "grid_auto_columns": null,
            "margin": null,
            "display": null,
            "left": null
          }
        },
        "64a2fc4c6bc34533aa3c6765176d094d": {
          "model_module": "@jupyter-widgets/controls",
          "model_name": "IntProgressModel",
          "state": {
            "_view_name": "ProgressView",
            "style": "IPY_MODEL_e8756786e71d4f3a810357fe2194f4e1",
            "_dom_classes": [],
            "description": "Epoch 5",
            "_model_name": "IntProgressModel",
            "bar_style": "success",
            "max": 385,
            "_view_module": "@jupyter-widgets/controls",
            "_model_module_version": "1.5.0",
            "value": 385,
            "_view_count": null,
            "_view_module_version": "1.5.0",
            "orientation": "horizontal",
            "min": 0,
            "description_tooltip": null,
            "_model_module": "@jupyter-widgets/controls",
            "layout": "IPY_MODEL_b0545ce064074f7796d559930e770f3f"
          }
        },
        "ec43815f0bdc4a88b4f63c1384ae8838": {
          "model_module": "@jupyter-widgets/controls",
          "model_name": "HTMLModel",
          "state": {
            "_view_name": "HTMLView",
            "style": "IPY_MODEL_d7c014dcdfa6456196ce1632919d4a7b",
            "_dom_classes": [],
            "description": "",
            "_model_name": "HTMLModel",
            "placeholder": "​",
            "_view_module": "@jupyter-widgets/controls",
            "_model_module_version": "1.5.0",
            "value": "100% 385/385 [05:41&lt;00:00,  1.15it/s, Batch=380, Loss=4.53]",
            "_view_count": null,
            "_view_module_version": "1.5.0",
            "description_tooltip": null,
            "_model_module": "@jupyter-widgets/controls",
            "layout": "IPY_MODEL_a99652cafe2f43afadc166d8c5b218e5"
          }
        },
        "e8756786e71d4f3a810357fe2194f4e1": {
          "model_module": "@jupyter-widgets/controls",
          "model_name": "ProgressStyleModel",
          "state": {
            "_view_name": "StyleView",
            "_model_name": "ProgressStyleModel",
            "description_width": "initial",
            "_view_module": "@jupyter-widgets/base",
            "_model_module_version": "1.5.0",
            "_view_count": null,
            "_view_module_version": "1.2.0",
            "bar_color": null,
            "_model_module": "@jupyter-widgets/controls"
          }
        },
        "b0545ce064074f7796d559930e770f3f": {
          "model_module": "@jupyter-widgets/base",
          "model_name": "LayoutModel",
          "state": {
            "_view_name": "LayoutView",
            "grid_template_rows": null,
            "right": null,
            "justify_content": null,
            "_view_module": "@jupyter-widgets/base",
            "overflow": null,
            "_model_module_version": "1.2.0",
            "_view_count": null,
            "flex_flow": null,
            "width": null,
            "min_width": null,
            "border": null,
            "align_items": null,
            "bottom": null,
            "_model_module": "@jupyter-widgets/base",
            "top": null,
            "grid_column": null,
            "overflow_y": null,
            "overflow_x": null,
            "grid_auto_flow": null,
            "grid_area": null,
            "grid_template_columns": null,
            "flex": null,
            "_model_name": "LayoutModel",
            "justify_items": null,
            "grid_row": null,
            "max_height": null,
            "align_content": null,
            "visibility": null,
            "align_self": null,
            "height": null,
            "min_height": null,
            "padding": null,
            "grid_auto_rows": null,
            "grid_gap": null,
            "max_width": null,
            "order": null,
            "_view_module_version": "1.2.0",
            "grid_template_areas": null,
            "object_position": null,
            "object_fit": null,
            "grid_auto_columns": null,
            "margin": null,
            "display": null,
            "left": null
          }
        },
        "d7c014dcdfa6456196ce1632919d4a7b": {
          "model_module": "@jupyter-widgets/controls",
          "model_name": "DescriptionStyleModel",
          "state": {
            "_view_name": "StyleView",
            "_model_name": "DescriptionStyleModel",
            "description_width": "",
            "_view_module": "@jupyter-widgets/base",
            "_model_module_version": "1.5.0",
            "_view_count": null,
            "_view_module_version": "1.2.0",
            "_model_module": "@jupyter-widgets/controls"
          }
        },
        "a99652cafe2f43afadc166d8c5b218e5": {
          "model_module": "@jupyter-widgets/base",
          "model_name": "LayoutModel",
          "state": {
            "_view_name": "LayoutView",
            "grid_template_rows": null,
            "right": null,
            "justify_content": null,
            "_view_module": "@jupyter-widgets/base",
            "overflow": null,
            "_model_module_version": "1.2.0",
            "_view_count": null,
            "flex_flow": null,
            "width": null,
            "min_width": null,
            "border": null,
            "align_items": null,
            "bottom": null,
            "_model_module": "@jupyter-widgets/base",
            "top": null,
            "grid_column": null,
            "overflow_y": null,
            "overflow_x": null,
            "grid_auto_flow": null,
            "grid_area": null,
            "grid_template_columns": null,
            "flex": null,
            "_model_name": "LayoutModel",
            "justify_items": null,
            "grid_row": null,
            "max_height": null,
            "align_content": null,
            "visibility": null,
            "align_self": null,
            "height": null,
            "min_height": null,
            "padding": null,
            "grid_auto_rows": null,
            "grid_gap": null,
            "max_width": null,
            "order": null,
            "_view_module_version": "1.2.0",
            "grid_template_areas": null,
            "object_position": null,
            "object_fit": null,
            "grid_auto_columns": null,
            "margin": null,
            "display": null,
            "left": null
          }
        },
        "16a309471e4a4ac6a9a421c85da297ff": {
          "model_module": "@jupyter-widgets/controls",
          "model_name": "HBoxModel",
          "state": {
            "_view_name": "HBoxView",
            "_dom_classes": [],
            "_model_name": "HBoxModel",
            "_view_module": "@jupyter-widgets/controls",
            "_model_module_version": "1.5.0",
            "_view_count": null,
            "_view_module_version": "1.5.0",
            "box_style": "",
            "layout": "IPY_MODEL_d4e4c2708c7e42a4a2c58550024c861d",
            "_model_module": "@jupyter-widgets/controls",
            "children": [
              "IPY_MODEL_8b10f173dcd947a38e7aa02b256b4428",
              "IPY_MODEL_ad4a3c0478254d3588f54de8d7bd36a3"
            ]
          }
        },
        "d4e4c2708c7e42a4a2c58550024c861d": {
          "model_module": "@jupyter-widgets/base",
          "model_name": "LayoutModel",
          "state": {
            "_view_name": "LayoutView",
            "grid_template_rows": null,
            "right": null,
            "justify_content": null,
            "_view_module": "@jupyter-widgets/base",
            "overflow": null,
            "_model_module_version": "1.2.0",
            "_view_count": null,
            "flex_flow": null,
            "width": null,
            "min_width": null,
            "border": null,
            "align_items": null,
            "bottom": null,
            "_model_module": "@jupyter-widgets/base",
            "top": null,
            "grid_column": null,
            "overflow_y": null,
            "overflow_x": null,
            "grid_auto_flow": null,
            "grid_area": null,
            "grid_template_columns": null,
            "flex": null,
            "_model_name": "LayoutModel",
            "justify_items": null,
            "grid_row": null,
            "max_height": null,
            "align_content": null,
            "visibility": null,
            "align_self": null,
            "height": null,
            "min_height": null,
            "padding": null,
            "grid_auto_rows": null,
            "grid_gap": null,
            "max_width": null,
            "order": null,
            "_view_module_version": "1.2.0",
            "grid_template_areas": null,
            "object_position": null,
            "object_fit": null,
            "grid_auto_columns": null,
            "margin": null,
            "display": null,
            "left": null
          }
        },
        "8b10f173dcd947a38e7aa02b256b4428": {
          "model_module": "@jupyter-widgets/controls",
          "model_name": "IntProgressModel",
          "state": {
            "_view_name": "ProgressView",
            "style": "IPY_MODEL_a767ceec8b1944bfb426f41a3eeff750",
            "_dom_classes": [],
            "description": "",
            "_model_name": "IntProgressModel",
            "bar_style": "danger",
            "max": 684,
            "_view_module": "@jupyter-widgets/controls",
            "_model_module_version": "1.5.0",
            "value": 0,
            "_view_count": null,
            "_view_module_version": "1.5.0",
            "orientation": "horizontal",
            "min": 0,
            "description_tooltip": null,
            "_model_module": "@jupyter-widgets/controls",
            "layout": "IPY_MODEL_86b3d3ee2a3d4ec4876a7b4f9bc985d9"
          }
        },
        "ad4a3c0478254d3588f54de8d7bd36a3": {
          "model_module": "@jupyter-widgets/controls",
          "model_name": "HTMLModel",
          "state": {
            "_view_name": "HTMLView",
            "style": "IPY_MODEL_3fb28a94484443e0ad463317803a2cec",
            "_dom_classes": [],
            "description": "",
            "_model_name": "HTMLModel",
            "placeholder": "​",
            "_view_module": "@jupyter-widgets/controls",
            "_model_module_version": "1.5.0",
            "value": "  0% 0/684 [00:00&lt;?, ?it/s]",
            "_view_count": null,
            "_view_module_version": "1.5.0",
            "description_tooltip": null,
            "_model_module": "@jupyter-widgets/controls",
            "layout": "IPY_MODEL_c3f347a9e7f94126a3e8a722dadddffd"
          }
        },
        "a767ceec8b1944bfb426f41a3eeff750": {
          "model_module": "@jupyter-widgets/controls",
          "model_name": "ProgressStyleModel",
          "state": {
            "_view_name": "StyleView",
            "_model_name": "ProgressStyleModel",
            "description_width": "",
            "_view_module": "@jupyter-widgets/base",
            "_model_module_version": "1.5.0",
            "_view_count": null,
            "_view_module_version": "1.2.0",
            "bar_color": null,
            "_model_module": "@jupyter-widgets/controls"
          }
        },
        "86b3d3ee2a3d4ec4876a7b4f9bc985d9": {
          "model_module": "@jupyter-widgets/base",
          "model_name": "LayoutModel",
          "state": {
            "_view_name": "LayoutView",
            "grid_template_rows": null,
            "right": null,
            "justify_content": null,
            "_view_module": "@jupyter-widgets/base",
            "overflow": null,
            "_model_module_version": "1.2.0",
            "_view_count": null,
            "flex_flow": null,
            "width": null,
            "min_width": null,
            "border": null,
            "align_items": null,
            "bottom": null,
            "_model_module": "@jupyter-widgets/base",
            "top": null,
            "grid_column": null,
            "overflow_y": null,
            "overflow_x": null,
            "grid_auto_flow": null,
            "grid_area": null,
            "grid_template_columns": null,
            "flex": null,
            "_model_name": "LayoutModel",
            "justify_items": null,
            "grid_row": null,
            "max_height": null,
            "align_content": null,
            "visibility": null,
            "align_self": null,
            "height": null,
            "min_height": null,
            "padding": null,
            "grid_auto_rows": null,
            "grid_gap": null,
            "max_width": null,
            "order": null,
            "_view_module_version": "1.2.0",
            "grid_template_areas": null,
            "object_position": null,
            "object_fit": null,
            "grid_auto_columns": null,
            "margin": null,
            "display": null,
            "left": null
          }
        },
        "3fb28a94484443e0ad463317803a2cec": {
          "model_module": "@jupyter-widgets/controls",
          "model_name": "DescriptionStyleModel",
          "state": {
            "_view_name": "StyleView",
            "_model_name": "DescriptionStyleModel",
            "description_width": "",
            "_view_module": "@jupyter-widgets/base",
            "_model_module_version": "1.5.0",
            "_view_count": null,
            "_view_module_version": "1.2.0",
            "_model_module": "@jupyter-widgets/controls"
          }
        },
        "c3f347a9e7f94126a3e8a722dadddffd": {
          "model_module": "@jupyter-widgets/base",
          "model_name": "LayoutModel",
          "state": {
            "_view_name": "LayoutView",
            "grid_template_rows": null,
            "right": null,
            "justify_content": null,
            "_view_module": "@jupyter-widgets/base",
            "overflow": null,
            "_model_module_version": "1.2.0",
            "_view_count": null,
            "flex_flow": null,
            "width": null,
            "min_width": null,
            "border": null,
            "align_items": null,
            "bottom": null,
            "_model_module": "@jupyter-widgets/base",
            "top": null,
            "grid_column": null,
            "overflow_y": null,
            "overflow_x": null,
            "grid_auto_flow": null,
            "grid_area": null,
            "grid_template_columns": null,
            "flex": null,
            "_model_name": "LayoutModel",
            "justify_items": null,
            "grid_row": null,
            "max_height": null,
            "align_content": null,
            "visibility": null,
            "align_self": null,
            "height": null,
            "min_height": null,
            "padding": null,
            "grid_auto_rows": null,
            "grid_gap": null,
            "max_width": null,
            "order": null,
            "_view_module_version": "1.2.0",
            "grid_template_areas": null,
            "object_position": null,
            "object_fit": null,
            "grid_auto_columns": null,
            "margin": null,
            "display": null,
            "left": null
          }
        }
      }
    }
  },
  "cells": [
    {
      "cell_type": "code",
      "metadata": {
        "id": "z6YcmNYRS2XN",
        "colab_type": "code",
        "outputId": "194cde51-7b70-435a-b654-c03f1b269dae",
        "colab": {
          "base_uri": "https://localhost:8080/",
          "height": 34
        }
      },
      "source": [
        "try:\n",
        "    %tensorflow_version 2.x\n",
        "except Exception:   \n",
        "    pass\n",
        "\n",
        "import tensorflow as tf\n",
        "import os\n",
        "import numpy as np"
      ],
      "execution_count": 1,
      "outputs": [
        {
          "output_type": "stream",
          "text": [
            "TensorFlow 2.x selected.\n"
          ],
          "name": "stdout"
        }
      ]
    },
    {
      "cell_type": "markdown",
      "metadata": {
        "id": "8XFPMTnOV7rV",
        "colab_type": "text"
      },
      "source": [
        "Load the text files"
      ]
    },
    {
      "cell_type": "code",
      "metadata": {
        "id": "7iSTmwbxS7cJ",
        "colab_type": "code",
        "outputId": "36e6ca88-183f-41f1-b66c-84b1753c519a",
        "colab": {
          "base_uri": "https://localhost:8080/",
          "height": 389
        }
      },
      "source": [
        "if not os.path.exists('tok.valid.abstract.txt'):\n",
        "  !wget -O 'tok.valid.abstract.txt' 'https://www.dropbox.com/s/0c6e9yf8yhf9a75/tok.valid.abstract.txt?dl=1'\n",
        "if not os.path.exists('tok.valid.body.txt'):\n",
        "  !wget -O 'tok.valid.title.txt' 'https://www.dropbox.com/s/aiy87847kusb7ju/tok.valid.title.txt?dl=1'"
      ],
      "execution_count": 2,
      "outputs": [
        {
          "output_type": "stream",
          "text": [
            "--2019-12-05 14:51:33--  https://www.dropbox.com/s/aiy87847kusb7ju/tok.valid.title.txt?dl=1\n",
            "Resolving www.dropbox.com (www.dropbox.com)... 162.125.82.1, 2620:100:6032:1::a27d:5201\n",
            "Connecting to www.dropbox.com (www.dropbox.com)|162.125.82.1|:443... connected.\n",
            "HTTP request sent, awaiting response... 301 Moved Permanently\n",
            "Location: /s/dl/aiy87847kusb7ju/tok.valid.title.txt [following]\n",
            "--2019-12-05 14:51:33--  https://www.dropbox.com/s/dl/aiy87847kusb7ju/tok.valid.title.txt\n",
            "Reusing existing connection to www.dropbox.com:443.\n",
            "HTTP request sent, awaiting response... 302 Found\n",
            "Location: https://uce4bd33f670f8bd280646dff04f.dl.dropboxusercontent.com/cd/0/get/Atovz8wdtGuRs_Ym52C1OkyV0A8vk6j_uk7jIWhhZbvQ3Rozoft2iEMtmqPjRyuolDiljuz9JBwsGGkh3i3CWummyjg-wJ6ubFQ5P1jtd5ahKZH1VLS3w1i4xKGv5r8Qiwc/file?dl=1# [following]\n",
            "--2019-12-05 14:51:34--  https://uce4bd33f670f8bd280646dff04f.dl.dropboxusercontent.com/cd/0/get/Atovz8wdtGuRs_Ym52C1OkyV0A8vk6j_uk7jIWhhZbvQ3Rozoft2iEMtmqPjRyuolDiljuz9JBwsGGkh3i3CWummyjg-wJ6ubFQ5P1jtd5ahKZH1VLS3w1i4xKGv5r8Qiwc/file?dl=1\n",
            "Resolving uce4bd33f670f8bd280646dff04f.dl.dropboxusercontent.com (uce4bd33f670f8bd280646dff04f.dl.dropboxusercontent.com)... 162.125.82.6, 2620:100:6032:6::a27d:5206\n",
            "Connecting to uce4bd33f670f8bd280646dff04f.dl.dropboxusercontent.com (uce4bd33f670f8bd280646dff04f.dl.dropboxusercontent.com)|162.125.82.6|:443... connected.\n",
            "HTTP request sent, awaiting response... 200 OK\n",
            "Length: 711754 (695K) [application/binary]\n",
            "Saving to: ‘tok.valid.title.txt’\n",
            "\n",
            "tok.valid.title.txt 100%[===================>] 695.07K   589KB/s    in 1.2s    \n",
            "\n",
            "2019-12-05 14:51:36 (589 KB/s) - ‘tok.valid.title.txt’ saved [711754/711754]\n",
            "\n"
          ],
          "name": "stdout"
        }
      ]
    },
    {
      "cell_type": "code",
      "metadata": {
        "id": "VZGjRsj3TdyM",
        "colab_type": "code",
        "colab": {}
      },
      "source": [
        "with open('tok.valid.abstract.txt','rb') as f:\n",
        "    body_data = f.read().decode(\"utf-8\").split('\\n')\n",
        "    \n",
        "with open('tok.valid.title.txt','rb') as f:\n",
        "    target_data = f.read().decode(\"utf-8\").split('\\n')"
      ],
      "execution_count": 0,
      "outputs": []
    },
    {
      "cell_type": "markdown",
      "metadata": {
        "id": "-tZMq4lCWA5x",
        "colab_type": "text"
      },
      "source": [
        "Create vocabulary using keras tokenizer"
      ]
    },
    {
      "cell_type": "code",
      "metadata": {
        "id": "QRFn7JpiUc6l",
        "colab_type": "code",
        "colab": {
          "base_uri": "https://localhost:8080/",
          "height": 72
        },
        "outputId": "afec399d-79c7-45c9-8dba-d13074bffb6e"
      },
      "source": [
        "tokenizer = tf.keras.preprocessing.text.Tokenizer(oov_token='<UNK>')\n",
        "tokenizer.fit_on_texts(body_data)\n",
        "vocab = dict(map(reversed, tokenizer.word_index.items()))\n",
        "print(len(vocab))\n",
        "vocab[len(vocab)+1] = '<s>'\n",
        "vocab[len(vocab)+1] = '</s>'\n",
        "print(vocab)\n"
      ],
      "execution_count": 4,
      "outputs": [
        {
          "output_type": "stream",
          "text": [
            "50591\n",
          ],
          "name": "stdout"
        }
      ]
    },
    {
      "cell_type": "markdown",
      "metadata": {
        "id": "j0dDtN5jmUlQ",
        "colab_type": "text"
      },
      "source": [
        "Convert text to numeric indicies"
      ]
    },
    {
      "cell_type": "code",
      "metadata": {
        "id": "lKe9LKo7WZnN",
        "colab_type": "code",
        "colab": {}
      },
      "source": [
        "body_seqs=tokenizer.texts_to_sequences(body_data)\n",
        "target_seqs=tokenizer.texts_to_sequences(target_data)"
      ],
      "execution_count": 0,
      "outputs": []
    },
    {
      "cell_type": "markdown",
      "metadata": {
        "id": "61FYCoAHL1Qq",
        "colab_type": "text"
      },
      "source": [
        "Add start and end tokens to all sequences. Start token index = vocab.size and end token index = vocab.size+1"
      ]
    },
    {
      "cell_type": "code",
      "metadata": {
        "id": "iAQioivgL0d7",
        "colab_type": "code",
        "colab": {}
      },
      "source": [
        "body_seqs = [[len(vocab)-1]+seq+[len(vocab)] for seq in body_seqs]\n",
        "target_seqs = [[len(vocab)-1]+seq+[len(vocab)] for seq in target_seqs]"
      ],
      "execution_count": 0,
      "outputs": []
    },
    {
      "cell_type": "markdown",
      "metadata": {
        "id": "7dI4drSSmeH9",
        "colab_type": "text"
      },
      "source": [
        "Pad all sequences with zeros up to the maximum sequence length"
      ]
    },
    {
      "cell_type": "code",
      "metadata": {
        "id": "lgghEtRqXDCR",
        "colab_type": "code",
        "colab": {}
      },
      "source": [
        "max_len_body = max([len(seq) for seq in body_seqs])\n",
        "max_len_target = max([len(seq) for seq in target_seqs])\n",
        "body_seqs=tf.keras.preprocessing.sequence.pad_sequences(body_seqs, maxlen=max_len_body, padding=\"post\")\n",
        "target_seqs=tf.keras.preprocessing.sequence.pad_sequences(target_seqs, maxlen=max_len_target, padding=\"post\")\n"
      ],
      "execution_count": 0,
      "outputs": []
    },
    {
      "cell_type": "markdown",
      "metadata": {
        "id": "0HK2PW96uL-v",
        "colab_type": "text"
      },
      "source": [
        "pre-trained word embedding"
      ]
    },
    {
      "cell_type": "code",
      "metadata": {
        "id": "SInIZ7b-jgSM",
        "colab_type": "code",
        "colab": {
          "base_uri": "https://localhost:8080/",
          "height": 72
        },
        "outputId": "13477e1c-42be-4b58-b68f-d0dd40d9555a"
      },
      "source": [
        "import gensim\n",
        "import gzip\n",
        "import zipfile\n",
        "\n",
        "EMBED_DICT = {0: 'word2vec', 1: 'glove', 2: 'BioWordVec'}\n",
        "mode = 0 # it can be changed\n",
        "\n",
        "def get_vector(word):\n",
        "    if word in word2vec_model:\n",
        "        return word2vec_model[word]\n",
        "    else:\n",
        "        return None\n",
        "\n",
        "if EMBED_DICT[mode] == 'word2vec':\n",
        "    embedding_dim = 300\n",
        "    if not os.path.exists('/root/input/GoogleNews-vectors-negative300.bin.gz'):\n",
        "        !wget -P /root/input/ -c \"https://s3.amazonaws.com/dl4j-distribution/GoogleNews-vectors-negative300.bin.gz\"\n",
        "\n",
        "    word2vec_model = gensim.models.KeyedVectors.load_word2vec_format('/root/input/GoogleNews-vectors-negative300.bin.gz', binary=True)  \n",
        "    embedding_matrix = np.zeros((len(vocab)+1, 300))\n",
        "    for word, i in tokenizer.word_index.items():\n",
        "        temp = get_vector(word)\n",
        "        if temp is not None:\n",
        "            embedding_matrix[i] = temp\n",
        "\n",
        "elif EMBED_DICT[mode] == 'glove':\n",
        "    embedding_dim = 300\n",
        "    if not os.path.exists('/root/input/glove.6B.zip'):\n",
        "        !wget -P /root/input/ -c \"http://nlp.stanford.edu/data/glove.6B.zip\"\n",
        "\n",
        "    open_zip = zipfile.ZipFile('/root/input/glove.6B.zip')\n",
        "    open_zip.extract('glove.6B.300d.txt', '/root/input')\n",
        "\n",
        "    embedding_dict = dict()\n",
        "    f = open('/root/input/glove.6B.300d.txt', encoding=\"utf8\")\n",
        "\n",
        "    for line in f:\n",
        "        word_vector = line.split()\n",
        "        word = word_vector[0]\n",
        "        word_vector_arr = np.asarray(word_vector[1:], dtype='float32')\n",
        "        embedding_dict[word] = word_vector_arr\n",
        "    f.close()\n",
        "\n",
        "    embedding_matrix = np.zeros((len(vocab)+1, 300))\n",
        "    for word, i in tokenizer.word_index.items():\n",
        "        temp = embedding_dict.get(word)\n",
        "        if temp is not None:\n",
        "            embedding_matrix[i] = temp\n",
        "\n",
        "elif EMBED_DICT[mode] == 'BioWordVec':\n",
        "    embedding_dim = 200\n",
        "    if not os.path.exists('GoogleNews-vectors-negative300.bin'):\n",
        "        !wget -P /root/input/ -c \"https://ftp.ncbi.nlm.nih.gov/pub/lu/Suppl/BioSentVec/BioWordVec_PubMed_MIMICIII_d200.vec.bin\"\n",
        "\n",
        "    word2vec_model = gensim.models.KeyedVectors.load_word2vec_format('/root/input/BioWordVec_PubMed_MIMICIII_d200.vec.bin', binary=True)  \n",
        "    embedding_matrix = np.zeros((len(vocab)+1, 200))\n",
        "    for word, i in tokenizer.word_index.items():\n",
        "        temp = get_vector(word)\n",
        "        if temp is not None:\n",
        "            embedding_matrix[i] = temp\n",
        "\n",
        "else:\n",
        "    embedding_dim = 128 # any number you want\n",
        "    embedding_matrix = None"
      ],
      "execution_count": 8,
      "outputs": [
        {
          "output_type": "stream",
          "text": [
            "/usr/local/lib/python3.6/dist-packages/smart_open/smart_open_lib.py:402: UserWarning: This function is deprecated, use smart_open.open instead. See the migration notes for details: https://github.com/RaRe-Technologies/smart_open/blob/master/README.rst#migrating-to-the-new-open-function\n",
            "  'See the migration notes for details: %s' % _MIGRATION_NOTES_URL\n"
          ],
          "name": "stderr"
        }
      ]
    },
    {
      "cell_type": "code",
      "metadata": {
        "id": "FAL5kupqezVY",
        "colab_type": "code",
        "outputId": "c6242389-8557-487e-af91-7f762a64e2d1",
        "colab": {
          "base_uri": "https://localhost:8080/",
          "height": 34
        }
      },
      "source": [
        "m=len(body_seqs)//10\n",
        "body_seqs_val = body_seqs[:m]\n",
        "body_seqs = body_seqs[m:]\n",
        "target_seqs_val = target_seqs[:m]\n",
        "target_seqs = target_seqs[m:] \n",
        "print(len(body_seqs_val),len(target_seqs_val))"
      ],
      "execution_count": 9,
      "outputs": [
        {
          "output_type": "stream",
          "text": [
            "684 684\n"
          ],
          "name": "stdout"
        }
      ]
    },
    {
      "cell_type": "markdown",
      "metadata": {
        "id": "d0iPCVdBmn0b",
        "colab_type": "text"
      },
      "source": [
        "Create a dataset from which batches of a certain size can be extracted"
      ]
    },
    {
      "cell_type": "code",
      "metadata": {
        "id": "4rl-aGPvYU4n",
        "colab_type": "code",
        "outputId": "66d7dd5b-0411-4764-aa0c-6aa812f079b3",
        "colab": {
          "base_uri": "https://localhost:8080/",
          "height": 34
        }
      },
      "source": [
        "buffer_size = len(body_seqs)\n",
        "batch_size = 16\n",
        "dataset_tensor = tf.data.Dataset.from_tensor_slices((body_seqs,target_seqs))\n",
        "validation_tensor = tf.data.Dataset.from_tensor_slices((body_seqs_val,target_seqs_val))\n",
        "print(len(body_seqs_val),len(target_seqs_val),(validation_tensor))\n",
        "batch_size_val = 1\n",
        "dataset_tensor = dataset_tensor.shuffle(buffer_size).batch(batch_size, drop_remainder=True)\n",
        "validation_tensor = validation_tensor.shuffle(buffer_size).batch(1, drop_remainder=True)"
      ],
      "execution_count": 10,
      "outputs": [
        {
          "output_type": "stream",
          "text": [
            "684 684 <TensorSliceDataset shapes: ((394,), (36,)), types: (tf.int32, tf.int32)>\n"
          ],
          "name": "stdout"
        }
      ]
    },
    {
      "cell_type": "code",
      "metadata": {
        "id": "Cg2rZviFl_MA",
        "colab_type": "code",
        "colab": {}
      },
      "source": [
        "class Encoder(tf.keras.Model):\n",
        "    def __init__(self, vocab_size, embedding_dim, hidden_units, embedding_matrix):\n",
        "        super().__init__()\n",
        "        \n",
        "        self.hidden_units = hidden_units\n",
        "        if embedding_matrix is not None:\n",
        "            self.embedding = tf.keras.layers.Embedding(vocab_size, embedding_dim, weights=[embedding_matrix])\n",
        "        else:\n",
        "            self.embedding = tf.keras.layers.Embedding(vocab_size, embedding_dim)\n",
        "        self.bi_lstm = tf.keras.layers.Bidirectional(tf.keras.layers.LSTM(\n",
        "            self.hidden_units,\n",
        "            return_state=True,\n",
        "            return_sequences=True\n",
        "        ))\n",
        "        \n",
        "    def call(self, encoder_input,encoder_state):\n",
        "        # inputs: encoder_input = (batch_size, seq_length)\n",
        "        #         encoder_state = (batch_size, hidden_units)\n",
        "        \n",
        "        # embedding look-up layer\n",
        "        encoder_emb = self.embedding(encoder_input) # (batch_size,seq_length,embedding_dim)\n",
        "        \n",
        "        # encoder_output = (batch_size,seq_length,hidden_units)\n",
        "        # states = (batch_size,hidden_units)\n",
        "        encoder_output, state_h_fwd, state_c_fwd, state_h_back, state_c_back = self.bi_lstm(encoder_emb,initial_state=encoder_state)\n",
        "        encoder_states = [state_h_fwd,state_c_fwd]\n",
        "\n",
        "        return encoder_output, encoder_states"
      ],
      "execution_count": 0,
      "outputs": []
    },
    {
      "cell_type": "code",
      "metadata": {
        "id": "IsySdqmepD5q",
        "colab_type": "code",
        "colab": {}
      },
      "source": [
        "class BahdanauAttention(tf.keras.layers.Layer):\n",
        "    def __init__(self, hidden_units):\n",
        "        super().__init__()\n",
        "        \n",
        "        self.Wh = tf.keras.layers.Dense(hidden_units) # weight matrix for encoder hidden state\n",
        "        self.Ws = tf.keras.layers.Dense(hidden_units) # weight matrix for decoder state\n",
        "        self.V = tf.keras.layers.Dense(1)\n",
        "        \n",
        "    def call(self, decoder_state, encoder_output):\n",
        "        # inputs: decoder_state = (batch_size, hidden_units)\n",
        "        #         encoder_output = (batch_size, seq_length, hidden_units)\n",
        "        \n",
        "        # expand dimension of decoder state to allow addition\n",
        "        decoder_state = tf.expand_dims(decoder_state, 1) # decoder_state = (batch_size, 1, hidden_units)\n",
        "        \n",
        "        # calculate attention scores\n",
        "        score = self.V(tf.nn.tanh(self.Wh(encoder_output) # (batch_size, seq_length, hidden_units) -> (batch_size, seq_length, attention_units)\n",
        "                      +self.Ws(decoder_state))) # (batch_size, 1, hidden_units) -> (batch_size, 1, attention_units)\n",
        "        \n",
        "        # attention_weights = (batch_size, length, 1)\n",
        "        attention_weights = tf.nn.softmax(score, axis=1)\n",
        "\n",
        "        # context_vector = (batch_size, length, hidden_units)\n",
        "        context_vector = attention_weights * encoder_output\n",
        "        # context_vector = (batch_size, hidden_units)\n",
        "        context_vector = tf.reduce_sum(context_vector, axis=1)\n",
        "\n",
        "        return context_vector, attention_weights"
      ],
      "execution_count": 0,
      "outputs": []
    },
    {
      "cell_type": "code",
      "metadata": {
        "id": "DBONK9JFpGFj",
        "colab_type": "code",
        "colab": {}
      },
      "source": [
        "class Decoder(tf.keras.Model):\n",
        "    def __init__(self, vocab_size, embedding_dim, hidden_units, embedding_matrix):\n",
        "        super().__init__()\n",
        "        \n",
        "        self.batch_size = batch_size\n",
        "        self.hidden_units = hidden_units\n",
        "        if embedding_matrix is not None:\n",
        "            self.embedding = tf.keras.layers.Embedding(vocab_size, embedding_dim, weights=[embedding_matrix])\n",
        "        else:\n",
        "            self.embedding = tf.keras.layers.Embedding(vocab_size, embedding_dim)\n",
        "        self.lstm = tf.keras.layers.LSTM(\n",
        "            self.hidden_units,\n",
        "            return_sequences=True,\n",
        "            return_state=True,\n",
        "        )\n",
        "        self.attention = BahdanauAttention(self.hidden_units)\n",
        "        self.W1 = tf.keras.layers.Dense(hidden_units)\n",
        "        self.W2 = tf.keras.layers.Dense(vocab_size)\n",
        "      \n",
        "    def call(self, decoder_input, decoder_init_state, encoder_output,mode=\"Train\"):\n",
        "        # inputs: decoder_input = (batch_size, 1)\n",
        "        #         decoder_state = (batch_size, hidden_units)\n",
        "        #         encoder_output = (batch_size, seq_length, hidden_units)\n",
        "        if mode == \"Train\":\n",
        "            # embedding look-up layer\n",
        "            decoder_input = self.embedding(decoder_input) # (batch_size, seq_length, embeding_dim)\n",
        "\n",
        "            # decoder_output = (batch_size,seq_length,hidden_units)\n",
        "            # states = (batch_size,hidden_units)\n",
        "            decoder_output, state_h, state_c = self.lstm(decoder_input,initial_state=decoder_init_state)\n",
        "            decoder_state = [state_h,state_c]\n",
        "\n",
        "            # get context vector and attention weights\n",
        "            context_vector, attention_weights = self.attention(state_h, encoder_output)\n",
        "\n",
        "            # concatenate context vector and decoder state \n",
        "            concat_vector = tf.concat([context_vector,state_h], axis=-1)\n",
        "            # reshape to 1d array\n",
        "            concat_vector = tf.reshape(concat_vector, (-1, concat_vector.shape[1]))\n",
        "            # create vocabulary distribution\n",
        "            p_vocab = tf.nn.log_softmax(self.W2(self.W1(concat_vector)))\n",
        "            return p_vocab \n",
        "\n",
        "        if mode == \"Test\":\n",
        "            # inputs: decoder_input = (batch_size, 1)\n",
        "            #         decoder_state = (batch_size, hidden_units)\n",
        "            #         encoder_output = (batch_size, seq_length, hidden_units)\n",
        "            \n",
        "            # embedding look-up layer\n",
        "            decoder_input = self.embedding(decoder_input) # (batch_size, seq_length, hidden_units)\n",
        "\n",
        "            # decoder_output = (batch_size,seq_length,hidden_units)\n",
        "            # states = (batch_size,hidden_units)\n",
        "            decoder_output, state_h, state_c = self.lstm(decoder_input,initial_state=decoder_init_state)\n",
        "            decoder_states = [state_h,state_c]\n",
        "\n",
        "            # get context vector and attention weights\n",
        "            context_vector, attention_weights = self.attention(state_h, encoder_output)\n",
        "\n",
        "            # concatenate context vector and decoder state \n",
        "            concat_vector = tf.concat([context_vector,state_h], axis=-1)\n",
        "            # reshape to 1d array\n",
        "            concat_vector = tf.reshape(concat_vector, (-1, concat_vector.shape[1]))\n",
        "            # create vocabulary distribution\n",
        "            p_vocab = tf.nn.log_softmax(self.W2(self.W1(concat_vector)))\n",
        "            return p_vocab, decoder_states"
      ],
      "execution_count": 0,
      "outputs": []
    },
    {
      "cell_type": "markdown",
      "metadata": {
        "id": "9udcRhiTdREd",
        "colab_type": "text"
      },
      "source": [
        "Initialize encoder and decoder"
      ]
    },
    {
      "cell_type": "code",
      "metadata": {
        "id": "cIdpMfncpK5q",
        "colab_type": "code",
        "colab": {}
      },
      "source": [
        "hidden_units = 256\n",
        "encoder = Encoder(len(vocab)+1, embedding_dim, hidden_units, embedding_matrix) # +2 on due to start and end tokens\n",
        "decoder = Decoder(len(vocab)+1, embedding_dim, hidden_units, embedding_matrix)"
      ],
      "execution_count": 0,
      "outputs": []
    },
    {
      "cell_type": "markdown",
      "metadata": {
        "id": "pC567knspwSz",
        "colab_type": "text"
      },
      "source": [
        "Define optimizer and loss function"
      ]
    },
    {
      "cell_type": "code",
      "metadata": {
        "id": "sVNa8U62pvUO",
        "colab_type": "code",
        "colab": {}
      },
      "source": [
        "optimizer = tf.keras.optimizers.Adam()\n",
        "\n",
        "def masked_nll(p_vocab,target):\n",
        "    # apply a mask such that pad zeros do not affect the loss\n",
        "    mask = tf.math.logical_not(tf.math.equal(target, 0))\n",
        "    loss = -p_vocab\n",
        "    mask = tf.cast(mask, dtype=loss.dtype)\n",
        "    loss *= mask\n",
        "    return loss"
      ],
      "execution_count": 0,
      "outputs": []
    },
    {
      "cell_type": "markdown",
      "metadata": {
        "id": "ctb2Zl8RuxnA",
        "colab_type": "text"
      },
      "source": [
        "Define a function for performing one training step (one batch)"
      ]
    },
    {
      "cell_type": "code",
      "metadata": {
        "id": "Ee51wXkDkfcO",
        "colab_type": "code",
        "colab": {}
      },
      "source": [
        "@tf.function\n",
        "def train_step(encoder_input, decoder_target):\n",
        "    \"\"\"Function which performs one training step (batch)\"\"\"\n",
        "    loss = tf.zeros(batch_size)\n",
        "    with tf.GradientTape() as tape:\n",
        "        # run body_sequence input through encoder\n",
        "        encoder_init_states = [tf.zeros((batch_size, encoder.hidden_units)) for i in range(4)]\n",
        "        encoder_output, encoder_states = encoder(encoder_input,encoder_init_states)\n",
        "        # initialize decoder with encoder forward state\n",
        "        decoder_state = encoder_states\n",
        "        \n",
        "        # loop over each word in target sequence\n",
        "        for t in range(decoder_target.shape[1]-1):\n",
        "            # run decoder input through decoder and generate vocabulary distribution\n",
        "            decoder_input_t = decoder_target[:,t]\n",
        "            decoder_target_t = decoder_target[:,t+1]\n",
        "            # get vocabulary distribution for each batch at time t\n",
        "            p_vocab = decoder(tf.expand_dims(decoder_input_t,1),decoder_state,encoder_output)\n",
        "            # for each batch get the probability of the target word at time t+1\n",
        "            p_vocab_list = []\n",
        "            for i in range(len(decoder_target_t)):\n",
        "                p_vocab_list.append(p_vocab[i,decoder_target_t[i]])\n",
        "            p_vocab_target = tf.stack(p_vocab_list)\n",
        "            # calculate the loss at each time step t and add to current loss\n",
        "            loss += masked_nll(p_vocab_target,decoder_target_t)\n",
        "            \n",
        "        # get the non-padded length of each sequence in the batch\n",
        "        seq_len_mask = tf.cast(tf.math.logical_not(tf.math.equal(decoder_target, 0)),tf.float32)\n",
        "        batch_seq_len = tf.reduce_sum(seq_len_mask,axis=1)\n",
        "\n",
        "    # get batch loss by dividing the loss of each batch by the target sequence length and mean\n",
        "    batch_loss = tf.reduce_mean(loss/batch_seq_len)\n",
        "    \n",
        "    # update trainable variables\n",
        "    variables = encoder.trainable_variables + decoder.trainable_variables\n",
        "    gradients = tape.gradient(loss, variables)\n",
        "    optimizer.apply_gradients(zip(gradients, variables))\n",
        "    \n",
        "    return batch_loss"
      ],
      "execution_count": 0,
      "outputs": []
    },
    {
      "cell_type": "markdown",
      "metadata": {
        "id": "XH_-kaqadXXo",
        "colab_type": "text"
      },
      "source": [
        "Training loop"
      ]
    },
    {
      "cell_type": "code",
      "metadata": {
        "id": "T56FA7YkX2A_",
        "colab_type": "code",
        "outputId": "54e8b788-35e9-4d62-ebf2-7901306c823f",
        "colab": {
          "base_uri": "https://localhost:8080/",
          "height": 226,
          "referenced_widgets": [
            "1f5e93bbdb90462cbd6311ce4468ffdb",
            "efd312a352264a4c9201bea1e8159faa",
            "77d1ab9744ac4b5ca52ad371167e4095",
            "0775b10a14f8449e8947b32d06f57a54",
            "b925ca01e2ee4681a363f173b807c327",
            "adbcdda2fee64f93896530b0a1f03c94",
            "6950894017db4fd696f11bb95db49d93",
            "9ed6f3edde644963af25737fa9fe31b9",
            "d22b7a92c1d34275924cd174319de022",
            "52b6398ad6674faf90e3b0623a663f91",
            "c2938ed21c6645cfa20331b96a05775b",
            "be8f229fa191498f8272afdd42d49ac5",
            "27aced8955654bcb8af8152ef34f065a",
            "c97c14ae2b0a4ef99c13a29a9465d625",
            "af3ac72f4d524378a12a242c40a0af1f",
            "047850b867234d599b848ea79371d336",
            "b33d0f2e3b11455da3ca1a6a28d40907",
            "a6cd1d15035145da9dc98bfdaa78650b",
            "037d379be8a04c59a64a1ac145809267",
            "142cd5d405ef4fbdba6dfb473f826946",
            "1ac785e7b7924fd49100112fdf33d71c",
            "94aa967a8110403b959477d3007accfc",
            "16b92839026a4de1b503deb06cccf6cb",
            "ba3487df016f4cf7a8d4cd94c3831fc7",
            "6f95a5f2a80544dfaf976ea9853a12b9",
            "159e038197ca48efb3eb852722c4f36d",
            "d940efe05fd34f06b9e9e0dc178b5bad",
            "b584a31d462a4cb5b32894d3e2b29a39",
            "1afe83562b6249d4ba94289a06a48dd3",
            "17cb21f384eb4449b2f8bacdb0903d13",
            "e88cafad6cab4f9ba5265fa27fa0c5d1",
            "a06cdab527e547e9bc1a997e794bb86f",
            "c408b24e707c4d0e97a15aec00c9f414",
            "1c523c6c116c4d51bf284e703b277f79",
            "17c60a08a7e645cfa6deb0074539a375",
            "fe296ba96a384a09a3c01a882ff9f1c8",
            "59161ed0b30940639278f9008821feab",
            "af8e9ce4bc6746d3b55bae12ec4c8e4e",
            "0b6c59f6dd5c4503ba80a368a962ce8b",
            "74f08a7e712a4427a2b2e2d1ded52ccf",
            "9a344cab441e499899b34e8b9a69601a",
            "78e2dc04f60b478386c5464d67a590c9",
            "64a2fc4c6bc34533aa3c6765176d094d",
            "ec43815f0bdc4a88b4f63c1384ae8838",
            "e8756786e71d4f3a810357fe2194f4e1",
            "b0545ce064074f7796d559930e770f3f",
            "d7c014dcdfa6456196ce1632919d4a7b",
            "a99652cafe2f43afadc166d8c5b218e5"
          ]
        }
      },
      "source": [
        "from tqdm import tqdm_notebook as tqdm\n",
        "\n",
        "epochs = 5\n",
        "\n",
        "epoch_loss = tf.keras.metrics.Mean()\n",
        "with tqdm(total=epochs) as epoch_progress:\n",
        "    for epoch in range(epochs):\n",
        "        epoch_loss.reset_states()\n",
        "\n",
        "        with tqdm(total=len(body_seqs) // batch_size) as batch_progress:\n",
        "            for batch, (encoder_input, decoder_target) in enumerate(dataset_tensor):\n",
        "                batch_loss = train_step(encoder_input, decoder_target)\n",
        "                epoch_loss(batch_loss)\n",
        "                \n",
        "                if (batch % 10) == 0:\n",
        "                    batch_progress.set_description(f'Epoch {epoch + 1}')\n",
        "                    batch_progress.set_postfix(Batch=batch, Loss=batch_loss.numpy())\n",
        "                batch_progress.update()\n",
        "        \n",
        "        epoch_progress.set_description(f'Epoch {epoch + 1}')\n",
        "        epoch_progress.set_postfix(Loss=epoch_loss.result())\n",
        "        epoch_progress.update()"
      ],
      "execution_count": 17,
      "outputs": [
        {
          "output_type": "display_data",
          "data": {
            "application/vnd.jupyter.widget-view+json": {
              "model_id": "1f5e93bbdb90462cbd6311ce4468ffdb",
              "version_minor": 0,
              "version_major": 2
            },
            "text/plain": [
              "HBox(children=(IntProgress(value=0, max=5), HTML(value='')))"
            ]
          },
          "metadata": {
            "tags": []
          }
        },
        {
          "output_type": "display_data",
          "data": {
            "application/vnd.jupyter.widget-view+json": {
              "model_id": "d22b7a92c1d34275924cd174319de022",
              "version_minor": 0,
              "version_major": 2
            },
            "text/plain": [
              "HBox(children=(IntProgress(value=0, max=385), HTML(value='')))"
            ]
          },
          "metadata": {
            "tags": []
          }
        },
        {
          "output_type": "display_data",
          "data": {
            "application/vnd.jupyter.widget-view+json": {
              "model_id": "b33d0f2e3b11455da3ca1a6a28d40907",
              "version_minor": 0,
              "version_major": 2
            },
            "text/plain": [
              "HBox(children=(IntProgress(value=0, max=385), HTML(value='')))"
            ]
          },
          "metadata": {
            "tags": []
          }
        },
        {
          "output_type": "display_data",
          "data": {
            "application/vnd.jupyter.widget-view+json": {
              "model_id": "6f95a5f2a80544dfaf976ea9853a12b9",
              "version_minor": 0,
              "version_major": 2
            },
            "text/plain": [
              "HBox(children=(IntProgress(value=0, max=385), HTML(value='')))"
            ]
          },
          "metadata": {
            "tags": []
          }
        },
        {
          "output_type": "display_data",
          "data": {
            "application/vnd.jupyter.widget-view+json": {
              "model_id": "c408b24e707c4d0e97a15aec00c9f414",
              "version_minor": 0,
              "version_major": 2
            },
            "text/plain": [
              "HBox(children=(IntProgress(value=0, max=385), HTML(value='')))"
            ]
          },
          "metadata": {
            "tags": []
          }
        },
        {
          "output_type": "display_data",
          "data": {
            "application/vnd.jupyter.widget-view+json": {
              "model_id": "9a344cab441e499899b34e8b9a69601a",
              "version_minor": 0,
              "version_major": 2
            },
            "text/plain": [
              "HBox(children=(IntProgress(value=0, max=385), HTML(value='')))"
            ]
          },
          "metadata": {
            "tags": []
          }
        },
        {
          "output_type": "stream",
          "text": [
            "\n"
          ],
          "name": "stdout"
        }
      ]
    },
    {
      "cell_type": "code",
      "metadata": {
        "id": "E6SExItm7ZEU",
        "colab_type": "code",
        "colab": {}
      },
      "source": [
        "def best_k_candidates(prev,k,encoder_output):\n",
        "      decoder_target_t = tf.expand_dims(tf.expand_dims(prev[0][-1],0),1)\n",
        "      p_vocab, decoder_states = decoder(decoder_target_t,prev[2],encoder_output,mode=\"Test\")\n",
        "      size = len(vocab)+1\n",
        "      idx = tf.argsort(p_vocab, direction='DESCENDING')  # sorted indices\n",
        "      ranks = tf.argsort(idx, direction='ASCENDING')  # ranks\n",
        "      filter_k = ranks < k\n",
        "      p_vocab = p_vocab.numpy().reshape(size,)\n",
        "      filter_k = filter_k.numpy().reshape(size,)\n",
        "      best_k_candidates = [ [prev[0]+[x],p_vocab[x]+prev[1],decoder_states] for x in range(size) if filter_k[x] ]\n",
        "      return best_k_candidates\n"
      ],
      "execution_count": 0,
      "outputs": []
    },
    {
      "cell_type": "code",
      "metadata": {
        "colab_type": "code",
        "id": "gn0g7_IwZsxT",
        "colab": {}
      },
      "source": [
        "def best_k_of_k2(best_k,k,completed,encoder_output):\n",
        "  results = []\n",
        "  for hypo in best_k:\n",
        "    results = results + best_k_candidates(hypo, k, encoder_output)\n",
        "  results = sorted(results,key = lambda x: x[1],reverse= True)[0:k]\n",
        "\n",
        "  for result in results:  \n",
        "    if result[0][-1] == len(vocab):\n",
        "      k-=1\n",
        "      results.remove(result)\n",
        "      completed += [result]\n",
        "  return results,k,completed"
      ],
      "execution_count": 0,
      "outputs": []
    },
    {
      "cell_type": "code",
      "metadata": {
        "id": "8-5M4KeONH1m",
        "colab_type": "code",
        "colab": {}
      },
      "source": [
        "def val_step(encoder_input, beam_width):\n",
        "    with tf.GradientTape() as tape:\n",
        "        # run body_sequence input through encoder\n",
        "        encoder_init_states = [tf.zeros((1, hidden_units)) for i in range(4)]\n",
        "        encoder_output, encoder_states = encoder(encoder_input,encoder_init_states)\n",
        "        # initialize decoder with last encoder states\n",
        "        decoder_states = encoder_states\n",
        "        prev = [[len(vocab)-1],0,decoder_states]\n",
        "        # decoder_target_t = tf.expand_dims(tf.expand_dims(prev[0],0),1)\n",
        "        # p_vocab = val_decoder(decoder_target_t,decoder_states,encoder_output)\n",
        "        # log_p_vocab = map(lambda x: log(x),p_vocab.numpy())\n",
        "        k = beam_width\n",
        "        completed = []\n",
        "        best_k = best_k_candidates(prev,k,encoder_output)\n",
        "        for i in range(10):\n",
        "          best_k,k,completed = best_k_of_k2(best_k,k,completed,encoder_output)\n",
        "          if len(completed) == k:\n",
        "            break \n",
        "        if len(completed) == 0:\n",
        "          completed = best_k\n",
        "        for hypo in completed:\n",
        "          hypo[1]/=len(hypo[0])\n",
        "          hypo = [hypo[1],hypo[2]]         \n",
        "        best_k = sorted(completed,key=lambda x: x[1],reverse=True)\n",
        "        return best_k[0][0]"
      ],
      "execution_count": 0,
      "outputs": []
    },
    {
      "cell_type": "code",
      "metadata": {
        "id": "qbijbllzj25Z",
        "colab_type": "code",
        "outputId": "c23d6b53-4752-493e-924c-2d775f1dd4e6",
        "colab": {
          "base_uri": "https://localhost:8080/",
          "height": 403,
          "referenced_widgets": [
            "16a309471e4a4ac6a9a421c85da297ff",
            "d4e4c2708c7e42a4a2c58550024c861d",
            "8b10f173dcd947a38e7aa02b256b4428",
            "ad4a3c0478254d3588f54de8d7bd36a3",
            "a767ceec8b1944bfb426f41a3eeff750",
            "86b3d3ee2a3d4ec4876a7b4f9bc985d9",
            "3fb28a94484443e0ad463317803a2cec",
            "c3f347a9e7f94126a3e8a722dadddffd"
          ]
        }
      },
      "source": [
        "k = 5\n",
        "preds = []\n",
        "from tqdm import tqdm_notebook as tqdm\n",
        "with tqdm(total=len(body_seqs_val)) as batch_progress:\n",
        "    for i,(encoder_input, x) in enumerate(validation_tensor):\n",
        "        if i>5:\n",
        "          break\n",
        "        print(i,\" : \",body_data[i],\"\\n\",target_data[i])\n",
        "        pred = val_step(encoder_input,5)\n",
        "        pred = list(map(lambda x: vocab[x], pred))\n",
        "        print(str(pred))\n",
        "        preds.append(pred)"
      ],
      "execution_count": 21,
      "outputs": [
        {
          "output_type": "display_data",
          "data": {
            "application/vnd.jupyter.widget-view+json": {
              "model_id": "16a309471e4a4ac6a9a421c85da297ff",
              "version_minor": 0,
              "version_major": 2
            },
            "text/plain": [
              "HBox(children=(IntProgress(value=0, max=684), HTML(value='')))"
            ]
          },
          "metadata": {
            "tags": []
          }
        },
        {
          "output_type": "stream",
          "text": [
            "0  :  in order to ascertain the correlation between progressive and transient hypoxic ventilatory drive tests , 18 healthy subjects were tested by both methods , and the results were compared . sudden cessation of steady-state hypoxia was done in 9 of the subjects to determine if an exaggerated central depressant effect of hypoxia might occur in some persons during progressive testing and explain a low response to progressive hypoxia . because the progressive hypoxia test is frequently used in evaluating the effects of therapeutic interventions on ventilatory drive , the reproducibility of this test over time was also evaluated in 10 subjects . there was a significant correlation between the results of the progressive and transient hypoxic tests when data from 17 of the 18 subjects were compared by linear regression analysis ( r = 0.56 , p less than 0.05 ) . in 1 of 18 subjects , the ventilatory response to progressive hypoxia was quite low , whereas the response to transient hypoxia was high , and this can possibly be explained by an exaggerated central depressant effect of hypoxia . the progressive hypoxia test is quite reproducible ( variance = 0.0092 ) over a 5- to 7-month period . we conclude that the use of progressive or transient hypoxic ventilatory drive tests will result in similar conclusions regarding the hypoxic ventilatory drive in most persons . in addition , the progressive hypoxia test can be reliably used to evaluate the effects of therapeutic interventions on hypoxic ventilatory drive . \n",
            " progressive and transient hypoxic ventilatory drive tests in healthy subjects .\n",
            "['<s>', 'effects', 'of', 'the', 'the', 'rat', 'brain', '</s>']\n",
            "1  :  renal oxygenation was studied during induced hypotension in mongrel dogs , anaesthetized with 1-1.5 % halothane in oxygen . hypotension was induced with an infusion i.v. of sodium nitroprusside ( snp ) 70 + / - 17 micrograms kg-1 min-1 ( mean + / - sem ) or trimetaphan ( tmp ) 36 + / - 16 micrograms kg-1 min-1 , or by controlled arterial haemorrhage ( 45 + / - 6 ml / kg of body weight ) . mean arterial pressure ( map ) , cortical ( pcto2 ) and medullary ( pmto2 ) tissue oxygen tensions , arterial ( pao2 ) , renal venous ( prvo2 ) , and urine ( puo2 ) oxygen tensions were measured during the 40-min control , hypotension , and recovery periods . map was decreased to approximately 60 % of the control value . pcto2 decreased significantly ( p less than 0.05 ) in all three groups while pmto2 decreased significantly only in the haemorrhage group . upon restoration of map to normal values , renal tissue oxygen tensions recovered in all groups , somewhat more rapidly in the snp group . there were no significant differences in pao2 , prvo2 , and puo2 during control , hypotension and recovery periods in the three groups . tissue oxygen tension values followed the changes in map , but were not hypoxic , leading us to believe that both snp and tmp are hypotensive agents safe for the kidney . \n",
            " renal tissue oxygenation following induced hypotension in dogs .\n",
            "['<s>', 'effects', 'of', 'enzymes', '</s>']\n",
            "2  :  the herbal drug aristolochic acid ( aa ) , which is derived from the aristolochia species , has been associated with the development of a novel nephropathy , designated as aristolochic acid nephropathy ( aan ) , and with human urothelial cancer . the major components of the plant extract aa are nitrophenanthrene carboxylic acids , which , after metabolic activation , are genotoxic mutagens . the major activation pathway of aa involves reduction of the nitro group , primarily catalyzed by nad ( p ) h : quinone oxidoreductase ( nqo1 ) , to an electrophilic cyclic n-acylnitrenium ion that reacts preferentially with purine bases to form covalent dna adducts . these specific aa-dna adducts have been identified and detected in experimental animals exposed to aa or botanical products containing aa , and in urothelial tissues from aan patients . in rodent tumors induced by aa the predominantly formed dna adduct 7- ( deoxyadenosin-n6-yl ) aristolactam i has been associated with the activation of ras oncogenes through the characteristic transversion mutation at-- &gt; ta . this mutation has been identified in the p53 gene of urothelial tumors of a patient with aan ( induced by use of a herbal product ) and in several patients suffering from balkan endemic nephropathy ( ben ) with specific aa-dna adducts . this is a rare example of a human cancer causally linked to a distinct environmental exposure ( ie , use of a herbal product ) , where the carcinogenic process of initiation is well established , linking formation of carcinogen-specific exposure ( specific dna adduct formation ) with the presence of characteristic human tumor mutations . \n",
            " chemical and molecular basis of the carcinogenicity of aristolochia plants .\n",
            "['<s>', 'statistical', 'analysis', '</s>']\n",
            "3  :  gibberellin 3-oxidase ( ga3ox ) catalyzes the final step in the synthesis of bioactive gibberellins ( gas ) . we examined the expression patterns of all four ga3ox genes in arabidopsis thaliana by promoter-beta-glucuronidase gene fusions and by quantitative rt-pcr and defined their physiological roles by characterizing single , double , and triple mutants . in developing flowers , ga3ox genes are only expressed in stamen filaments , anthers , and flower receptacles . mutant plants that lack both ga3ox1 and ga3ox3 functions displayed stamen and petal defects , indicating that these two genes are important for ga production in the flower . our data suggest that de novo synthesis of active gas is necessary for stamen development in early flowers and that bioactive gas made in the stamens and / or flower receptacles are transported to petals to promote their growth . in developing siliques , ga3ox1 is mainly expressed in the replums , funiculi , and the silique receptacles , whereas the other ga3ox genes are only expressed in developing seeds . active gas appear to be transported from the seed endosperm to the surrounding maternal tissues where they promote growth . the immediate upregulation of ga3ox1 and ga3ox4 after anthesis suggests that pollination and / or fertilization is a prerequisite for de novo ga biosynthesis in fruit , which in turn promotes initial elongation of the silique . \n",
            " potential sites of bioactive gibberellin production during reproductive growth in arabidopsis .\n",
            "['<s>', 'the', 'use', 'of', 'the', '<UNK>', '<UNK>', '<UNK>', '</s>']\n",
            "4  :  we present a patient who has developed cardiac arrest after penetrating cardiac wound and consequent coma , with eeg characteristics of alpha coma . at the same time , auditory evoked potentials-brainstem ( aepb ) , subcortical and cortical were not within physiological range . during the sixth day of coma , alfa rhythm was substituted with theta and delta frequency , followed by the decreased amplitude and prolonged latency of aepb and complete absence of cortical and subcortical responses . lethal outcome occurred in the fifth week of coma with neurophysiological characteristics of complete brain dysfunction . alpha coma , with eeg presentation that only resemble the normal neurophysiological cortical activity , is rather rare neurophysiological finding present mostly in cardiac arrest , metabolic disturbances and intoxication . it is probably caused by pathological pacers of alfa rhythm , so clinical presentation of alfa coma , specially in a case of cardiac arrest , does not predict a favourable outcome . \n",
            " &#91; alpha coma--a prognostic sign ? &#93; .\n",
            "['<s>', 'regulation', 'of', 't', 'cell', 'line', '</s>']\n",
            "5  :  although a strong psychoneuroendocrine linkage exists between stress , glucocorticoids and memory , the relationship is not always straightforward . eighty-eight effect sizes and 1642 participants from 28 studies were meta-analyzed for the effects of stress on memory performance and glucocorticoid activation . analyses showed that stress was associated with glucocorticoid activation and declarative memory decline . in animal studies , predator stress affected memory performance more than physical stress . in human studies , males showed higher cortisol levels than females in response to stress . further , the correlation between cortisol levels and memory deficits was stronger in studies using laboratory stressors than those examining long term effects of chronic exposure to rising basal levels of glucocorticoids and chronic life stressors . it was concluded that , although the relationship between stress , glucocorticoids , and memory loss was empirically supported , there were other factors , such as stress condition and gender , as well as individual differences within groups , that influenced the association between these variables , and warrant further examination . \n",
            " stress , glucocorticoids , and memory : a meta-analytic review .\n",
            "['<s>', 'effect', 'of', 'fibronectin', 'in', 'the', 'rat', 'liver', 'cells', '</s>']\n",
            "\n"
          ],
          "name": "stdout"
        }
      ]
    },
    {
      "cell_type": "code",
      "metadata": {
        "id": "FYIuVA7ZZOo5",
        "colab_type": "code",
        "colab": {}
      },
      "source": [
        "#target_data[:k], pred -> rouage로 넣으면 될듯"
      ],
      "execution_count": 0,
      "outputs": []
    },
    {
      "cell_type": "markdown",
      "metadata": {
        "id": "D0xPIueJqphv",
        "colab_type": "text"
      },
      "source": [
        "Rouge metric"
      ]
    },
    {
      "cell_type": "code",
      "metadata": {
        "id": "0zA2pYf6pGWk",
        "colab_type": "code",
        "colab": {
          "base_uri": "https://localhost:8080/",
          "height": 70
        },
        "outputId": "d9acf2e1-cb01-4517-9b91-44171b521ce9"
      },
      "source": [
        "!pip install py-rouge\n",
        "\n",
        "import nltk\n",
        "nltk.download('punkt')\n",
        "import rouge\n",
        "\n",
        "def prepare_results(metric, p, r, f):\n",
        "    return '\\t{}:\\t{}: {:5.2f}\\t{}: {:5.2f}\\t{}: {:5.2f}'.format(metric, 'P', 100.0 * p, 'R', 100.0 * r, 'F1', 100.0 * f)\n",
        "\n",
        "\n",
        "def print_rouge(hypo, ref):\n",
        "\n",
        "    for aggregator in ['Avg', 'Best', 'Individual']:\n",
        "        print('Evaluation with {}'.format(aggregator))\n",
        "        apply_avg = aggregator == 'Avg'\n",
        "        apply_best = aggregator == 'Best'\n",
        "\n",
        "        evaluator = rouge.Rouge(metrics=['rouge-n', 'rouge-l'],\n",
        "                            max_n=2,\n",
        "                            limit_length=True,\n",
        "                            length_limit=100,\n",
        "                            length_limit_type='words',\n",
        "                            apply_avg=apply_avg,\n",
        "                            apply_best=apply_best,\n",
        "                            alpha=0.5, # Default F1_score\n",
        "                            weight_factor=1.2,\n",
        "                            stemming=True)\n",
        "        \n",
        "        all_hypothesis = [' '.join([hypo[i][j] for j in range(len(hypo[i])) if hypo[i][j] != '<s>' and hypo[i][j] != '</s>']) for i in range(len(hypo))]\n",
        "        all_references = ref\n",
        "\n",
        "        scores = evaluator.get_scores(all_hypothesis, all_references)\n",
        "\n",
        "        for metric, results in sorted(scores.items(), key=lambda x: x[0]):\n",
        "            if not apply_avg and not apply_best: # value is a type of list as we evaluate each summary vs each reference\n",
        "                for hypothesis_id, results_per_ref in enumerate(results):\n",
        "                    nb_references = len(results_per_ref['p'])\n",
        "                    for reference_id in range(nb_references):\n",
        "                        print('\\tHypothesis #{} & Reference #{}: '.format(hypothesis_id, reference_id))\n",
        "                        print('\\t' + prepare_results(metric, results_per_ref['p'][reference_id], results_per_ref['r'][reference_id], results_per_ref['f'][reference_id]))\n",
        "                print()\n",
        "            else:\n",
        "                print(prepare_results(metric, results['p'], results['r'], results['f']))\n",
        "        print()\n"
      ],
      "execution_count": 44,
      "outputs": [
        {
          "output_type": "stream",
          "text": [
            "Requirement already satisfied: py-rouge in /usr/local/lib/python3.6/dist-packages (1.1)\n",
            "[nltk_data] Downloading package punkt to /root/nltk_data...\n",
            "[nltk_data]   Package punkt is already up-to-date!\n"
          ],
          "name": "stdout"
        }
      ]
    },
    {
      "cell_type": "code",
      "metadata": {
        "id": "gBZnup7IhmKs",
        "colab_type": "code",
        "colab": {
          "base_uri": "https://localhost:8080/",
          "height": 809
        },
        "outputId": "e55a0390-8011-43d5-a786-107d27a85e65"
      },
      "source": [
        "print_rouge(preds[:k], target_data[:k])"
      ],
      "execution_count": 51,
      "outputs": [
        {
          "output_type": "stream",
          "text": [
            "Evaluation with Avg\n",
            "\trouge-1:\tP:  2.86\tR:  1.82\tF1:  2.22\n",
            "\trouge-2:\tP:  0.00\tR:  0.00\tF1:  0.00\n",
            "\trouge-l:\tP:  3.95\tR:  2.71\tF1:  3.22\n",
            "\n",
            "Evaluation with Best\n",
            "\trouge-1:\tP:  2.86\tR:  1.82\tF1:  2.22\n",
            "\trouge-2:\tP:  0.00\tR:  0.00\tF1:  0.00\n",
            "\trouge-l:\tP:  3.95\tR:  2.71\tF1:  3.22\n",
            "\n",
            "Evaluation with Individual\n",
            "\tHypothesis #0 & Reference #0: \n",
            "\t\trouge-1:\tP:  0.00\tR:  0.00\tF1:  0.00\n",
            "\tHypothesis #1 & Reference #0: \n",
            "\t\trouge-1:\tP:  0.00\tR:  0.00\tF1:  0.00\n",
            "\tHypothesis #2 & Reference #0: \n",
            "\t\trouge-1:\tP:  0.00\tR:  0.00\tF1:  0.00\n",
            "\tHypothesis #3 & Reference #0: \n",
            "\t\trouge-1:\tP: 14.29\tR:  9.09\tF1: 11.11\n",
            "\tHypothesis #4 & Reference #0: \n",
            "\t\trouge-1:\tP:  0.00\tR:  0.00\tF1:  0.00\n",
            "\n",
            "\tHypothesis #0 & Reference #0: \n",
            "\t\trouge-2:\tP:  0.00\tR:  0.00\tF1:  0.00\n",
            "\tHypothesis #1 & Reference #0: \n",
            "\t\trouge-2:\tP:  0.00\tR:  0.00\tF1:  0.00\n",
            "\tHypothesis #2 & Reference #0: \n",
            "\t\trouge-2:\tP:  0.00\tR:  0.00\tF1:  0.00\n",
            "\tHypothesis #3 & Reference #0: \n",
            "\t\trouge-2:\tP:  0.00\tR:  0.00\tF1:  0.00\n",
            "\tHypothesis #4 & Reference #0: \n",
            "\t\trouge-2:\tP:  0.00\tR:  0.00\tF1:  0.00\n",
            "\n",
            "\tHypothesis #0 & Reference #0: \n",
            "\t\trouge-l:\tP:  0.00\tR:  0.00\tF1:  0.00\n",
            "\tHypothesis #1 & Reference #0: \n",
            "\t\trouge-l:\tP:  0.00\tR:  0.00\tF1:  0.00\n",
            "\tHypothesis #2 & Reference #0: \n",
            "\t\trouge-l:\tP:  0.00\tR:  0.00\tF1:  0.00\n",
            "\tHypothesis #3 & Reference #0: \n",
            "\t\trouge-l:\tP: 19.76\tR: 13.56\tF1: 16.08\n",
            "\tHypothesis #4 & Reference #0: \n",
            "\t\trouge-l:\tP:  0.00\tR:  0.00\tF1:  0.00\n",
            "\n",
            "\n"
          ],
          "name": "stdout"
        }
      ]
    }
  ]
}