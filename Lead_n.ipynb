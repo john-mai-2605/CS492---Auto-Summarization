{
  "nbformat": 4,
  "nbformat_minor": 0,
  "metadata": {
    "colab": {
      "name": "Lead-n.ipynb",
      "provenance": [],
      "collapsed_sections": []
    },
    "kernelspec": {
      "name": "python3",
      "display_name": "Python 3"
    }
  },
  "cells": [
    {
      "cell_type": "code",
      "metadata": {
        "id": "WHgjs61boBf-",
        "colab_type": "code",
        "colab": {
          "base_uri": "https://localhost:8080/",
          "height": 34
        },
        "outputId": "4358c2c4-65e5-45cd-ceba-a9cbf0353efe"
      },
      "source": [
        "try:\n",
        "    %tensorflow_version 2.x\n",
        "except Exception:\n",
        "    pass\n",
        "\n",
        "import tensorflow as tf\n",
        "import numpy as np\n",
        "import os"
      ],
      "execution_count": 1,
      "outputs": [
        {
          "output_type": "stream",
          "text": [
            "TensorFlow 2.x selected.\n"
          ],
          "name": "stdout"
        }
      ]
    },
    {
      "cell_type": "code",
      "metadata": {
        "id": "hFYGIY1doGji",
        "colab_type": "code",
        "colab": {
          "base_uri": "https://localhost:8080/",
          "height": 741
        },
        "outputId": "35204162-b168-4b86-df73-4cc1bb70351c"
      },
      "source": [
        "if not os.path.exists('tok.valid.abstract.txt'):\n",
        "  !wget -O 'tok.valid.abstract.txt' 'https://www.dropbox.com/s/0c6e9yf8yhf9a75/tok.valid.abstract.txt?dl=1'\n",
        "if not os.path.exists('tok.valid.body.txt'):\n",
        "  !wget -O 'tok.valid.title.txt' 'https://www.dropbox.com/s/aiy87847kusb7ju/tok.valid.title.txt?dl=1'"
      ],
      "execution_count": 2,
      "outputs": [
        {
          "output_type": "stream",
          "text": [
            "--2019-12-08 13:10:07--  https://www.dropbox.com/s/0c6e9yf8yhf9a75/tok.valid.abstract.txt?dl=1\n",
            "Resolving www.dropbox.com (www.dropbox.com)... 162.125.65.1, 2620:100:6021:1::a27d:4101\n",
            "Connecting to www.dropbox.com (www.dropbox.com)|162.125.65.1|:443... connected.\n",
            "HTTP request sent, awaiting response... 301 Moved Permanently\n",
            "Location: /s/dl/0c6e9yf8yhf9a75/tok.valid.abstract.txt [following]\n",
            "--2019-12-08 13:10:07--  https://www.dropbox.com/s/dl/0c6e9yf8yhf9a75/tok.valid.abstract.txt\n",
            "Reusing existing connection to www.dropbox.com:443.\n",
            "HTTP request sent, awaiting response... 302 Found\n",
            "Location: https://ucf9bb924bc399881be2f9ce503f.dl.dropboxusercontent.com/cd/0/get/At339IDFUWVvlppSEKekGjo4SvJ5w3v0B2JtnNKvAKSnHVvafffLqNfg_GWGIfHX0PwlfLmnKvg68iejMrhXIKvpF0rqYJzmCk1r1nQ92yTrlQRxSs8hfzZTdtHFtbsjF1Y/file?dl=1# [following]\n",
            "--2019-12-08 13:10:08--  https://ucf9bb924bc399881be2f9ce503f.dl.dropboxusercontent.com/cd/0/get/At339IDFUWVvlppSEKekGjo4SvJ5w3v0B2JtnNKvAKSnHVvafffLqNfg_GWGIfHX0PwlfLmnKvg68iejMrhXIKvpF0rqYJzmCk1r1nQ92yTrlQRxSs8hfzZTdtHFtbsjF1Y/file?dl=1\n",
            "Resolving ucf9bb924bc399881be2f9ce503f.dl.dropboxusercontent.com (ucf9bb924bc399881be2f9ce503f.dl.dropboxusercontent.com)... 162.125.65.6, 2620:100:6021:6::a27d:4106\n",
            "Connecting to ucf9bb924bc399881be2f9ce503f.dl.dropboxusercontent.com (ucf9bb924bc399881be2f9ce503f.dl.dropboxusercontent.com)|162.125.65.6|:443... connected.\n",
            "HTTP request sent, awaiting response... 200 OK\n",
            "Length: 9598299 (9.2M) [application/binary]\n",
            "Saving to: ‘tok.valid.abstract.txt’\n",
            "\n",
            "tok.valid.abstract. 100%[===================>]   9.15M  26.3MB/s    in 0.3s    \n",
            "\n",
            "2019-12-08 13:10:09 (26.3 MB/s) - ‘tok.valid.abstract.txt’ saved [9598299/9598299]\n",
            "\n",
            "--2019-12-08 13:10:10--  https://www.dropbox.com/s/aiy87847kusb7ju/tok.valid.title.txt?dl=1\n",
            "Resolving www.dropbox.com (www.dropbox.com)... 162.125.65.1, 2620:100:6021:1::a27d:4101\n",
            "Connecting to www.dropbox.com (www.dropbox.com)|162.125.65.1|:443... connected.\n",
            "HTTP request sent, awaiting response... 301 Moved Permanently\n",
            "Location: /s/dl/aiy87847kusb7ju/tok.valid.title.txt [following]\n",
            "--2019-12-08 13:10:11--  https://www.dropbox.com/s/dl/aiy87847kusb7ju/tok.valid.title.txt\n",
            "Reusing existing connection to www.dropbox.com:443.\n",
            "HTTP request sent, awaiting response... 302 Found\n",
            "Location: https://ucc053a710d314f78bb67c03acb1.dl.dropboxusercontent.com/cd/0/get/At2w8403Mq7Nqc912yTsG1GDhZKz_kun6HQfZwqkTSrlJY74SUVQmTbp7auvuUppGF1m8gA9xfiwdCVA4i0EXpD4v8cF4PmEQevZJRevwrs7QuPrYFS8mmHCwNZ2Q9vQIXI/file?dl=1# [following]\n",
            "--2019-12-08 13:10:11--  https://ucc053a710d314f78bb67c03acb1.dl.dropboxusercontent.com/cd/0/get/At2w8403Mq7Nqc912yTsG1GDhZKz_kun6HQfZwqkTSrlJY74SUVQmTbp7auvuUppGF1m8gA9xfiwdCVA4i0EXpD4v8cF4PmEQevZJRevwrs7QuPrYFS8mmHCwNZ2Q9vQIXI/file?dl=1\n",
            "Resolving ucc053a710d314f78bb67c03acb1.dl.dropboxusercontent.com (ucc053a710d314f78bb67c03acb1.dl.dropboxusercontent.com)... 162.125.65.6, 2620:100:6021:6::a27d:4106\n",
            "Connecting to ucc053a710d314f78bb67c03acb1.dl.dropboxusercontent.com (ucc053a710d314f78bb67c03acb1.dl.dropboxusercontent.com)|162.125.65.6|:443... connected.\n",
            "HTTP request sent, awaiting response... 200 OK\n",
            "Length: 711754 (695K) [application/binary]\n",
            "Saving to: ‘tok.valid.title.txt’\n",
            "\n",
            "tok.valid.title.txt 100%[===================>] 695.07K  --.-KB/s    in 0.08s   \n",
            "\n",
            "2019-12-08 13:10:14 (8.58 MB/s) - ‘tok.valid.title.txt’ saved [711754/711754]\n",
            "\n"
          ],
          "name": "stdout"
        }
      ]
    },
    {
      "cell_type": "code",
      "metadata": {
        "id": "h9Q9RIcWoHR4",
        "colab_type": "code",
        "colab": {}
      },
      "source": [
        "with open('tok.valid.abstract.txt','rb') as f:\n",
        "    body_data = f.read().decode(\"utf-8\").split('\\n')\n",
        "    \n",
        "with open('tok.valid.title.txt','rb') as f:\n",
        "    target_data = f.read().decode(\"utf-8\").split('\\n')"
      ],
      "execution_count": 0,
      "outputs": []
    },
    {
      "cell_type": "code",
      "metadata": {
        "id": "Ol9gjtz3hp3W",
        "colab_type": "code",
        "outputId": "616e13e7-f561-4bf6-df29-9d77468f91f4",
        "colab": {
          "base_uri": "https://localhost:8080/",
          "height": 70
        }
      },
      "source": [
        "!pip install py-rouge\n",
        "\n",
        "import nltk\n",
        "nltk.download('punkt')\n",
        "import rouge\n",
        "\n",
        "def prepare_results(metric, p, r, f):\n",
        "    return '\\t{}:\\t{}: {:5.2f}\\t{}: {:5.2f}\\t{}: {:5.2f}'.format(metric, 'P', 100.0 * p, 'R', 100.0 * r, 'F1', 100.0 * f)\n",
        "\n",
        "\n",
        "def print_rouge(hypo, ref):\n",
        "\n",
        "    for aggregator in ['Avg']:# 'Best', 'Individual'\n",
        "        print('Evaluation with {}'.format(aggregator))\n",
        "        apply_avg = aggregator == 'Avg'\n",
        "        apply_best = aggregator == 'Best'\n",
        "\n",
        "        evaluator = rouge.Rouge(metrics=['rouge-n', 'rouge-l'],\n",
        "                            max_n=2,\n",
        "                            limit_length=True,\n",
        "                            length_limit=100,\n",
        "                            length_limit_type='words',\n",
        "                            apply_avg=apply_avg,\n",
        "                            apply_best=apply_best,\n",
        "                            alpha=0.5, # Default F1_score\n",
        "                            weight_factor=1.2,\n",
        "                            stemming=True)\n",
        "        \n",
        "        all_hypothesis = hypo\n",
        "        all_references = ref\n",
        "\n",
        "        scores = evaluator.get_scores(all_hypothesis, all_references)\n",
        "\n",
        "        for metric, results in sorted(scores.items(), key=lambda x: x[0]):\n",
        "            if not apply_avg and not apply_best: # value is a type of list as we evaluate each summary vs each reference\n",
        "                for hypothesis_id, results_per_ref in enumerate(results):\n",
        "                    nb_references = len(results_per_ref['p'])\n",
        "                    for reference_id in range(nb_references):\n",
        "                        print('\\tHypothesis #{} & Reference #{}: '.format(hypothesis_id, reference_id))\n",
        "                        print('\\t' + prepare_results(metric, results_per_ref['p'][reference_id], results_per_ref['r'][reference_id], results_per_ref['f'][reference_id]))\n",
        "                print()\n",
        "            else:\n",
        "                print(prepare_results(metric, results['p'], results['r'], results['f']))\n",
        "        print()"
      ],
      "execution_count": 54,
      "outputs": [
        {
          "output_type": "stream",
          "text": [
            "Requirement already satisfied: py-rouge in /usr/local/lib/python3.6/dist-packages (1.1)\n",
            "[nltk_data] Downloading package punkt to /root/nltk_data...\n",
            "[nltk_data]   Package punkt is already up-to-date!\n"
          ],
          "name": "stdout"
        }
      ]
    },
    {
      "cell_type": "code",
      "metadata": {
        "id": "KwW5Gy-NpvTx",
        "colab_type": "code",
        "colab": {
          "base_uri": "https://localhost:8080/",
          "height": 492
        },
        "outputId": "d395ae8e-1934-449a-ec54-64ee094677c3"
      },
      "source": [
        "for n in range(3):\n",
        "    print(\"Lead-{}\".format(n + 1))\n",
        "    print_rouge(['.'.join(body_data[i].split(\".\")[:n+1]) for i in range(len(target_data))], target_data)\n",
        "    print()\n",
        "\n",
        "print(\"Last-1\")\n",
        "print_rouge(['.'.join(body_data[i].split(\".\")[-2:]) for i in range(len(target_data))], target_data)"
      ],
      "execution_count": 55,
      "outputs": [
        {
          "output_type": "stream",
          "text": [
            "Lead-1\n",
            "Evaluation with Avg\n",
            "\trouge-1:\tP: 26.31\tR: 45.31\tF1: 31.57\n",
            "\trouge-2:\tP: 11.26\tR: 20.10\tF1: 13.64\n",
            "\trouge-l:\tP: 26.40\tR: 41.45\tF1: 31.00\n",
            "\n",
            "\n",
            "Lead-2\n",
            "Evaluation with Avg\n",
            "\trouge-1:\tP: 18.33\tR: 59.62\tF1: 27.03\n",
            "\trouge-2:\tP:  7.81\tR: 26.68\tF1: 11.62\n",
            "\trouge-l:\tP: 18.93\tR: 51.12\tF1: 26.85\n",
            "\n",
            "\n",
            "Lead-3\n",
            "Evaluation with Avg\n",
            "\trouge-1:\tP: 14.65\tR: 67.75\tF1: 23.43\n",
            "\trouge-2:\tP:  6.42\tR: 31.15\tF1: 10.33\n",
            "\trouge-l:\tP: 15.62\tR: 56.80\tF1: 23.95\n",
            "\n",
            "\n",
            "Last-1\n",
            "Evaluation with Avg\n",
            "\trouge-1:\tP: 19.33\tR: 33.73\tF1: 22.93\n",
            "\trouge-2:\tP:  5.54\tR: 10.42\tF1:  6.82\n",
            "\trouge-l:\tP: 20.09\tR: 31.89\tF1: 23.38\n",
            "\n"
          ],
          "name": "stdout"
        }
      ]
    }
  ]
}