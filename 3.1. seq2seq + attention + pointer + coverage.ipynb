{
 "cells": [
  {
   "cell_type": "code",
   "execution_count": 0,
   "metadata": {
    "colab": {
     "base_uri": "https://localhost:8080/",
     "height": 35
    },
    "colab_type": "code",
    "id": "z6YcmNYRS2XN",
    "outputId": "2faed62f-cb0d-40b7-c3d2-a21d5e25b28a"
   },
   "outputs": [
    {
     "name": "stdout",
     "output_type": "stream",
     "text": [
      "TensorFlow 2.x selected.\n"
     ]
    }
   ],
   "source": [
    "try:\n",
    "    %tensorflow_version 2.x\n",
    "except Exception:\n",
    "    pass\n",
    "\n",
    "import tensorflow as tf\n",
    "import numpy as np\n",
    "import os"
   ]
  },
  {
   "cell_type": "code",
   "execution_count": 0,
   "metadata": {
    "colab": {},
    "colab_type": "code",
    "id": "qq85hhsbhYug"
   },
   "outputs": [],
   "source": [
    "# from google.colab import files\n",
    "# from google.colab import drive\n",
    "# drive.mount('/content/gdrive')"
   ]
  },
  {
   "cell_type": "markdown",
   "metadata": {
    "colab_type": "text",
    "id": "8XFPMTnOV7rV"
   },
   "source": [
    "Load the text files"
   ]
  },
  {
   "cell_type": "code",
   "execution_count": 0,
   "metadata": {
    "colab": {
     "base_uri": "https://localhost:8080/",
     "height": 384
    },
    "colab_type": "code",
    "id": "7iSTmwbxS7cJ",
    "outputId": "97f37755-e85c-4822-8b2f-bf21732fa168"
   },
   "outputs": [
    {
     "name": "stdout",
     "output_type": "stream",
     "text": [
      "--2019-12-05 10:59:58--  https://www.dropbox.com/s/aiy87847kusb7ju/tok.valid.title.txt?dl=1\n",
      "Resolving www.dropbox.com (www.dropbox.com)... 162.125.82.1, 2620:100:6032:1::a27d:5201\n",
      "Connecting to www.dropbox.com (www.dropbox.com)|162.125.82.1|:443... connected.\n",
      "HTTP request sent, awaiting response... 301 Moved Permanently\n",
      "Location: /s/dl/aiy87847kusb7ju/tok.valid.title.txt [following]\n",
      "--2019-12-05 10:59:58--  https://www.dropbox.com/s/dl/aiy87847kusb7ju/tok.valid.title.txt\n",
      "Reusing existing connection to www.dropbox.com:443.\n",
      "HTTP request sent, awaiting response... 302 Found\n",
      "Location: https://uc2db5aeae3d32fbb3a12a56fa6b.dl.dropboxusercontent.com/cd/0/get/AtqBzyquZapOMc5zj_VA9T4xuW-IRI-XUFu-MID_HtwrTLQrO-M6MaKQCiFQ7hui2mvuONP2WLLh9hhm-TJcbQWxaRt9jvhM0n1dRONfFf9_uKUC5tBYxzikLnMfVny_5QQ/file?dl=1# [following]\n",
      "--2019-12-05 10:59:58--  https://uc2db5aeae3d32fbb3a12a56fa6b.dl.dropboxusercontent.com/cd/0/get/AtqBzyquZapOMc5zj_VA9T4xuW-IRI-XUFu-MID_HtwrTLQrO-M6MaKQCiFQ7hui2mvuONP2WLLh9hhm-TJcbQWxaRt9jvhM0n1dRONfFf9_uKUC5tBYxzikLnMfVny_5QQ/file?dl=1\n",
      "Resolving uc2db5aeae3d32fbb3a12a56fa6b.dl.dropboxusercontent.com (uc2db5aeae3d32fbb3a12a56fa6b.dl.dropboxusercontent.com)... 162.125.82.6, 2620:100:6032:6::a27d:5206\n",
      "Connecting to uc2db5aeae3d32fbb3a12a56fa6b.dl.dropboxusercontent.com (uc2db5aeae3d32fbb3a12a56fa6b.dl.dropboxusercontent.com)|162.125.82.6|:443... connected.\n",
      "HTTP request sent, awaiting response... 200 OK\n",
      "Length: 711754 (695K) [application/binary]\n",
      "Saving to: ‘tok.valid.title.txt’\n",
      "\n",
      "tok.valid.title.txt 100%[===================>] 695.07K   444KB/s    in 1.6s    \n",
      "\n",
      "2019-12-05 11:00:01 (444 KB/s) - ‘tok.valid.title.txt’ saved [711754/711754]\n",
      "\n"
     ]
    }
   ],
   "source": [
    "if not os.path.exists('tok.valid.abstract.txt'):\n",
    "  !wget -O 'tok.valid.abstract.txt' 'https://www.dropbox.com/s/0c6e9yf8yhf9a75/tok.valid.abstract.txt?dl=1'\n",
    "if not os.path.exists('tok.valid.body.txt'):\n",
    "  !wget -O 'tok.valid.title.txt' 'https://www.dropbox.com/s/aiy87847kusb7ju/tok.valid.title.txt?dl=1'"
   ]
  },
  {
   "cell_type": "code",
   "execution_count": 0,
   "metadata": {
    "colab": {},
    "colab_type": "code",
    "id": "VZGjRsj3TdyM"
   },
   "outputs": [],
   "source": [
    "with open('tok.valid.abstract.txt','rb') as f:\n",
    "    body_data = f.read().decode(\"utf-8\").split('\\n')\n",
    "    \n",
    "with open('tok.valid.title.txt','rb') as f:\n",
    "    target_data = f.read().decode(\"utf-8\").split('\\n')"
   ]
  },
  {
   "cell_type": "markdown",
   "metadata": {
    "colab_type": "text",
    "id": "-tZMq4lCWA5x"
   },
   "source": [
    "Create vocabulary using keras tokenizer "
   ]
  },
  {
   "cell_type": "code",
   "execution_count": 0,
   "metadata": {
    "colab": {},
    "colab_type": "code",
    "id": "QRFn7JpiUc6l"
   },
   "outputs": [],
   "source": [
    "vocab_size = 20000\n",
    "tokenizer = tf.keras.preprocessing.text.Tokenizer(num_words=vocab_size, oov_token='<UNK>')\n",
    "tokenizer.fit_on_texts(body_data)\n",
    "tokenizer.index_word[vocab_size] = '<s>'\n",
    "tokenizer.index_word[vocab_size+1] = '<\\s>'"
   ]
  },
  {
   "cell_type": "code",
   "execution_count": 0,
   "metadata": {
    "colab": {},
    "colab_type": "code",
    "id": "uxBcIPC-p6rJ"
   },
   "outputs": [],
   "source": [
    "class Vocab(object):\n",
    "  def __init__(self, max_size):\n",
    "    self._word_to_id = {}\n",
    "    self._id_to_word = {}\n",
    "    self._count = 0 # Total number of words in the Vocab\n",
    "    self._word_to_id['<PAD>'] = self._count\n",
    "    self._id_to_word[self._count] = '<PAD>'\n",
    "    self._count += 1\n",
    "    for _, word in tokenizer.index_word.items():\n",
    "      self._word_to_id[word] = self._count\n",
    "      self._id_to_word[self._count] = word\n",
    "      self._count += 1\n",
    "      if max_size != 0 and self._count >= max_size:\n",
    "        break\n",
    "    print(\"Finished constructing vocabulary of %i total words. Last word added: %s\" % (self._count, self._id_to_word[self._count-1]))\n",
    "  def word2id(self, word):\n",
    "    \"\"\"Returns the id (integer) of a word (string). Returns [UNK] id if word is OOV.\"\"\"\n",
    "    if word not in self._word_to_id:\n",
    "      return self._word_to_id['<UNK>']\n",
    "    return self._word_to_id[word]\n",
    "\n",
    "  def id2word(self, word_id):\n",
    "    \"\"\"Returns the word (string) corresponding to an id (integer).\"\"\"\n",
    "    if word_id not in self._id_to_word:\n",
    "      raise ValueError('Id not found in vocab: %d' % word_id)\n",
    "    return self._id_to_word[word_id]\n",
    "\n",
    "  def size(self):\n",
    "    \"\"\"Returns the total size of the vocabulary\"\"\"\n",
    "    return self._count"
   ]
  },
  {
   "cell_type": "code",
   "execution_count": 0,
   "metadata": {
    "colab": {
     "base_uri": "https://localhost:8080/",
     "height": 35
    },
    "colab_type": "code",
    "id": "O1a8Z8pBttgo",
    "outputId": "531b29bf-55da-4148-a5da-7c25e309dad1"
   },
   "outputs": [
    {
     "name": "stdout",
     "output_type": "stream",
     "text": [
      "Finished constructing vocabulary of 20002 total words. Last word added: <\\s>\n"
     ]
    }
   ],
   "source": [
    "vocab = Vocab(vocab_size+2)"
   ]
  },
  {
   "cell_type": "markdown",
   "metadata": {
    "colab_type": "text",
    "id": "ic6c2rZrsg8t"
   },
   "source": [
    "Add the method to encode the input and decode the output, also consider OOV case"
   ]
  },
  {
   "cell_type": "code",
   "execution_count": 0,
   "metadata": {
    "colab": {},
    "colab_type": "code",
    "id": "5wSPsQ34uTBn"
   },
   "outputs": [],
   "source": [
    "def source2ids(source_words):\n",
    "  \"\"\"Map the source words to their ids and return a list of OOVs in the source.\n",
    "  Args:\n",
    "    source_words: list of words (strings)\n",
    "    vocab: Vocabulary object\n",
    "  Returns:\n",
    "    ids:\n",
    "      A list of word ids (integers); OOVs are represented by their temporary source OOV number. If the vocabulary size is 50k and the source has 3 OOVs, then these temporary OOV numbers will be 50000, 50001, 50002.\n",
    "    oovs:\n",
    "      A list of the OOV words in the source (strings), in the order corresponding to their temporary source OOV numbers.\"\"\"\n",
    "  ids = []\n",
    "  oovs = []\n",
    "  unk_id = vocab.word2id(\"<UNK>\")\n",
    "  for w in source_words.split(\" \"):\n",
    "    i = vocab.word2id(w)\n",
    "    if i == unk_id: # If w is OOV\n",
    "      if w not in oovs: # Add to list of OOVs\n",
    "        oovs.append(w)\n",
    "      oov_num = oovs.index(w) # This is 0 for the first source OOV, 1 for the second source OOV...\n",
    "      ids.append(vocab.size() + oov_num) # This is e.g. 20000 for the first source OOV, 50001 for the second...\n",
    "    else:\n",
    "      ids.append(i)\n",
    "  return ids, oovs"
   ]
  },
  {
   "cell_type": "code",
   "execution_count": 0,
   "metadata": {
    "colab": {},
    "colab_type": "code",
    "id": "U9tQmTwx5o1m"
   },
   "outputs": [],
   "source": [
    "def outputids2words(id_list, source_oovs):\n",
    "  \"\"\"Maps output ids to words, including mapping in-source OOVs from their temporary ids to the original OOV string (applicable in pointer-generator mode).\n",
    "  Args:\n",
    "    id_list: list of ids (integers)\n",
    "    vocab: Vocabulary object\n",
    "    source_oovs: list of OOV words (strings) in the order corresponding to their temporary source OOV ids (that have been assigned in pointer-generator mode), or None (in baseline mode)\n",
    "  Returns:\n",
    "    words: list of words (strings)\n",
    "  \"\"\"\n",
    "  words = []\n",
    "  for i in id_list:\n",
    "    try:\n",
    "      w = vocab.id2word(i) # might be [UNK]\n",
    "    except ValueError as e: # w is OOV\n",
    "      assert source_oovs is not None, \"Error: cannot find the ID the in the vocabulary.\"\n",
    "      source_oov_idx = i - vocab.size()\n",
    "      try:\n",
    "        w = source_oovs[source_oov_idx]\n",
    "      except ValueError as e: # i doesn't correspond to an source oov\n",
    "        raise ValueError('Error: model produced word ID %i corresponding to source OOV %i but this example only has %i source OOVs' % (i, source_oov_idx, len(source_oovs)))\n",
    "    words.append(w)\n",
    "  return ' '.join(words)"
   ]
  },
  {
   "cell_type": "code",
   "execution_count": 0,
   "metadata": {
    "colab": {
     "base_uri": "https://localhost:8080/",
     "height": 69
    },
    "colab_type": "code",
    "id": "hBLApm5HuKUS",
    "outputId": "84c2154c-fd9a-4947-813b-53f755c0def9"
   },
   "outputs": [
    {
     "name": "stdout",
     "output_type": "stream",
     "text": [
      "([18, 14, 7, 20002, 20003], ['weird', 'typo'])\n",
      "[[18, 14, 7, 1, 1]]\n",
      "this is a weird typo\n"
     ]
    }
   ],
   "source": [
    "print(source2ids('this is a weird typo'))\n",
    "print(tokenizer.texts_to_sequences([\"this is a weird typo\"]))\n",
    "print(outputids2words([18,14,7,20002,20003],[\"weird\",\"typo\"]))"
   ]
  },
  {
   "cell_type": "markdown",
   "metadata": {
    "colab_type": "text",
    "id": "VAQomCC3swOr"
   },
   "source": [
    "Turn on/off the pointer and coverage"
   ]
  },
  {
   "cell_type": "code",
   "execution_count": 0,
   "metadata": {
    "colab": {},
    "colab_type": "code",
    "id": "_Y8qsr2cQ_Sm"
   },
   "outputs": [],
   "source": [
    "on_pointer = True\n",
    "on_coverage = True"
   ]
  },
  {
   "cell_type": "markdown",
   "metadata": {
    "colab_type": "text",
    "id": "j0dDtN5jmUlQ"
   },
   "source": [
    "Convert text to numeric indicies"
   ]
  },
  {
   "cell_type": "code",
   "execution_count": 0,
   "metadata": {
    "colab": {
     "base_uri": "https://localhost:8080/",
     "height": 55
    },
    "colab_type": "code",
    "id": "lKe9LKo7WZnN",
    "outputId": "394a9a66-9b8b-4300-c1e3-0580a8293710"
   },
   "outputs": [
    {
     "name": "stdout",
     "output_type": "stream",
     "text": [
      "[5, 337, 6, 8806, 2, 492, 39, 2178, 4, 1263, 2658, 8807, 4549, 648, 371, 587, 274, 12, 416, 13, 45, 278, 4, 2, 41, 12, 93, 4008, 5294, 3, 2002, 346, 1417, 9, 1932, 5, 154, 3, 2, 274, 6, 362, 406, 26, 8311, 479, 1, 81, 3, 1417, 497, 860, 5, 180, 1886, 58, 2178, 783, 4, 1758, 7, 128, 111, 6, 2178, 1417, 310, 2, 2178, 1417, 240, 14, 938, 61, 5, 3186, 2, 79, 3, 519, 1856, 16, 8807, 4549, 2, 4660, 3, 18, 240, 188, 95, 9, 49, 399, 5, 68, 274, 121, 9, 7, 102, 492, 39, 2, 41, 3, 2, 2178, 4, 1263, 2658, 648, 91, 73, 17, 502, 3, 2, 371, 274, 12, 93, 13, 794, 1002, 83, 329, 27, 1554, 44, 165, 37, 27, 316, 5, 19, 3, 371, 274, 2, 8807, 111, 6, 2178, 1417, 9, 3726, 128, 280, 2, 111, 6, 1263, 1417, 9, 69, 4, 18, 65, 1616, 25, 1808, 13, 26, 8311, 479, 1, 81, 3, 1417, 2, 2178, 1417, 240, 14, 3726, 3860, 2446, 27, 1, 188, 7, 34, 6, 99, 1229, 284, 22, 830, 11, 2, 132, 3, 2178, 20, 1263, 2658, 8807, 4549, 648, 389, 382, 5, 169, 3187, 1060, 2, 2658, 8807, 4549, 5, 112, 1886, 5, 209, 2, 2178, 1417, 240, 65, 25, 5591, 61, 6, 620, 2, 79, 3, 519, 1856, 16, 2658, 8807, 4549]\n"
     ]
    }
   ],
   "source": [
    "if on_pointer is True:\n",
    "  body_seqs_oov=[source2ids(seq)[0] for seq in body_data]\n",
    "  body_oovs=[source2ids(seq)[1] for seq in body_data]\n",
    "  len_oovs=[len(oov) for oov in body_oovs]\n",
    "body_seqs=tokenizer.texts_to_sequences(body_data)\n",
    "target_seqs=tokenizer.texts_to_sequences(target_data)\n",
    "\n",
    "print(body_seqs[0])"
   ]
  },
  {
   "cell_type": "markdown",
   "metadata": {
    "colab_type": "text",
    "id": "61FYCoAHL1Qq"
   },
   "source": [
    "Add start and end tokens to all sequences. Start token index = vocab_size and end token index = vocab_size+1"
   ]
  },
  {
   "cell_type": "code",
   "execution_count": 0,
   "metadata": {
    "colab": {},
    "colab_type": "code",
    "id": "iAQioivgL0d7"
   },
   "outputs": [],
   "source": [
    "body_seqs = [[vocab_size]+seq+[vocab_size+1] for seq in body_seqs]\n",
    "target_seqs = [[vocab_size]+seq+[vocab_size+1] for seq in target_seqs]"
   ]
  },
  {
   "cell_type": "markdown",
   "metadata": {
    "colab_type": "text",
    "id": "7dI4drSSmeH9"
   },
   "source": [
    "Pad all sequences with zeros up to the maximum sequence length"
   ]
  },
  {
   "cell_type": "code",
   "execution_count": 0,
   "metadata": {
    "colab": {},
    "colab_type": "code",
    "id": "lgghEtRqXDCR"
   },
   "outputs": [],
   "source": [
    "max_len_body = max([len(seq) for seq in body_seqs])\n",
    "max_len_target = max([len(seq) for seq in target_seqs])\n",
    "body_seqs=tf.keras.preprocessing.sequence.pad_sequences(body_seqs, maxlen=max_len_body, padding=\"post\")\n",
    "target_seqs=tf.keras.preprocessing.sequence.pad_sequences(target_seqs, maxlen=max_len_target, padding=\"post\")"
   ]
  },
  {
   "cell_type": "markdown",
   "metadata": {
    "colab_type": "text",
    "id": "d0iPCVdBmn0b"
   },
   "source": [
    "Create a dataset from which batches of a certain size can be extracted"
   ]
  },
  {
   "cell_type": "code",
   "execution_count": 0,
   "metadata": {
    "colab": {},
    "colab_type": "code",
    "id": "4rl-aGPvYU4n"
   },
   "outputs": [],
   "source": [
    "buffer_size = len(body_seqs)\n",
    "batch_size = 16\n",
    "index = tf.convert_to_tensor(range(buffer_size))\n",
    "train_dataset = tf.data.Dataset.from_tensor_slices((body_seqs,target_seqs,index,len_oovs))\n",
    "train_dataset = train_dataset.shuffle(buffer_size).batch(batch_size, drop_remainder=True)"
   ]
  },
  {
   "cell_type": "markdown",
   "metadata": {
    "colab_type": "text",
    "id": "uWzPMTsus_5b"
   },
   "source": [
    "Model: Encoder, Attention and Decoder"
   ]
  },
  {
   "cell_type": "code",
   "execution_count": 0,
   "metadata": {
    "colab": {},
    "colab_type": "code",
    "id": "Cg2rZviFl_MA"
   },
   "outputs": [],
   "source": [
    "class Encoder(tf.keras.Model):\n",
    "    def __init__(self, vocab_size, embedding_dim, hidden_units):\n",
    "        super().__init__()\n",
    "        \n",
    "        self.hidden_units = hidden_units\n",
    "        self.embedding = tf.keras.layers.Embedding(vocab_size, embedding_dim)\n",
    "        self.bi_gru = tf.keras.layers.Bidirectional(tf.keras.layers.GRU(\n",
    "            hidden_units,\n",
    "            return_sequences=True,\n",
    "            return_state=True,\n",
    "            recurrent_initializer='glorot_uniform',\n",
    "        ))\n",
    "    def call(self, encoder_input, encoder_states):\n",
    "        # inputs: encoder_input = (batch_size, seq_length)\n",
    "        #         encoder_states = list[(batch_size, hidden_units),(batch_size, hidden_units)]\n",
    "        \n",
    "        # embedding look-up layer\n",
    "        encoder_emb = self.embedding(encoder_input) # (batch_size,seq_length,embedding_dim)\n",
    "        \n",
    "        # encoder_output = (batch_size,seq_length,hidden_units)\n",
    "        # encoder_states = (batch_size,hidden_units)\n",
    "        encoder_output, state_fwd, state_back = self.bi_gru(encoder_emb,initial_state=encoder_states)\n",
    "        encoder_states = [state_fwd,state_back]\n",
    "\n",
    "        return encoder_output, encoder_states"
   ]
  },
  {
   "cell_type": "code",
   "execution_count": 0,
   "metadata": {
    "colab": {},
    "colab_type": "code",
    "id": "IsySdqmepD5q"
   },
   "outputs": [],
   "source": [
    "class BahdanauAttention(tf.keras.Model):\n",
    "    def __init__(self, hidden_units,is_coverage=False):\n",
    "        super().__init__()\n",
    "        \n",
    "        self.Wh = tf.keras.layers.Dense(hidden_units) # weight matrix for encoder hidden state\n",
    "        self.Ws = tf.keras.layers.Dense(hidden_units) # weight matrix for decoder state\n",
    "        self.wc = tf.keras.layers.Dense(1) # weight vector for coverage\n",
    "        self.V = tf.keras.layers.Dense(1)\n",
    "        self.coverage = is_coverage\n",
    "        if self.coverage is False:\n",
    "            self.wc.trainable = False\n",
    "        \n",
    "    def call(self, decoder_state, encoder_output,coverage_vector):\n",
    "        # inputs: decoder_state = (batch_size, hidden_units)\n",
    "        #         encoder_output = (batch_size, seq_length, hidden_units)\n",
    "        #         coverage_vector = (batch_size, seq_length)\n",
    "\n",
    "        # expand dimension of decoder state and coverage vector to allow addition\n",
    "        decoder_state = tf.expand_dims(decoder_state, 1) # (batch_size, 1, hidden_units)\n",
    "        coverage_vector = tf.expand_dims(coverage_vector, 1) # (batch_size, 1, seq_length)\n",
    "\n",
    "        # calculate attention scores\n",
    "        # score = (batch_size, length, 1)\n",
    "        score = self.V(tf.nn.tanh(\n",
    "                        self.Wh(encoder_output) +  # (batch_size, length, hidden_units) -> (batch_size, length, attention_units)\n",
    "                        self.Ws(decoder_state) +  # (batch_size, 1, hidden_units) -> (batch_size, 1, attention_units)\n",
    "                        self.wc(coverage_vector) # (batch_size, 1, seq_length) -> (batch_size, 1, 1)\n",
    "                        )) \n",
    "        \n",
    "        attention_weights = tf.nn.log_softmax(score, axis=1) # (batch_size, seq_length, 1)\n",
    "        # only update coverage vector if coverage is enabled\n",
    "        coverage_vector = tf.squeeze(coverage_vector,1) # (batch_size, seq_length)\n",
    "        if self.coverage is True:\n",
    "            coverage_vector+=tf.squeeze(tf.exp(attention_weights)) \n",
    "\n",
    "        context_vector = tf.exp(attention_weights) * encoder_output # (batch_size, seq_length, hidden_units)\n",
    "        context_vector = tf.reduce_sum(context_vector, axis=1) # (batch_size, hidden_units)\n",
    "\n",
    "        return context_vector, attention_weights, coverage_vector"
   ]
  },
  {
   "cell_type": "code",
   "execution_count": 0,
   "metadata": {
    "colab": {},
    "colab_type": "code",
    "id": "DBONK9JFpGFj"
   },
   "outputs": [],
   "source": [
    "class Decoder(tf.keras.Model):\n",
    "    def __init__(self, vocab_size, embedding_dim, hidden_units, is_pointer=False):\n",
    "        super().__init__()\n",
    "        \n",
    "        self.hidden_units = hidden_units\n",
    "        self.embedding = tf.keras.layers.Embedding(vocab_size, embedding_dim)\n",
    "        self.gru = tf.keras.layers.GRU(\n",
    "            hidden_units,\n",
    "            return_sequences=True,\n",
    "            return_state=True,\n",
    "            recurrent_initializer='glorot_uniform',\n",
    "        )\n",
    "        self.W1 = tf.keras.layers.Dense(hidden_units)\n",
    "        self.W2 = tf.keras.layers.Dense(vocab_size)\n",
    "        self.pointer = is_pointer\n",
    "        # Pointer Generator\n",
    "        # wh = tf.keras.layers.Dense(1)\n",
    "        # ws = tf.keras.layers.Dense(1)\n",
    "        # wx = tf.keras.layers.Dense(1)\n",
    "        if is_pointer is True:\n",
    "          self.w_gen = tf.keras.layers.Dense(1)\n",
    "        \n",
    "    def call(self, decoder_input, decoder_state, encoder_output,context_vector):\n",
    "        # inputs: decoder_input = (batch_size, 1)\n",
    "        #         decoder_state = (batch_size, hidden_units)\n",
    "        #         encoder_output = (batch_size,seq_length, hidden_units)\n",
    "        #         coverage_vector = (batch_size,seq_length)\n",
    "        # embedding look-up layer\n",
    "        decoder_emb = self.embedding(decoder_input) # (batch_size, seq_length, hidden_units)\n",
    "\n",
    "        # decoder_output = (batch_size,seq_length,hidden_units)\n",
    "        # decoder_state = (batch_size,hidden_units)\n",
    "        decoder_output , decoder_state = self.gru(decoder_emb,initial_state=decoder_state)\n",
    "\n",
    "        # concatenate context vector and decoder state \n",
    "        concat_vector = tf.concat([context_vector,decoder_state], axis=-1)\n",
    "        # reshape to 1d array\n",
    "        concat_vector = tf.reshape(concat_vector, (-1, concat_vector.shape[1]))\n",
    "        # create vocabulary distribution\n",
    "        p_vocab = tf.nn.log_softmax(self.W2(self.W1(concat_vector)))\n",
    "        p_gen = None\n",
    "        if self.pointer is True:\n",
    "          # calculate p_gen\n",
    "          x_gen = tf.concat([context_vector,decoder_state,tf.squeeze(decoder_emb,1)], axis = -1)\n",
    "          p_gen = tf.nn.sigmoid(self.w_gen(x_gen))\n",
    "        return p_vocab, decoder_state, p_gen"
   ]
  },
  {
   "cell_type": "markdown",
   "metadata": {
    "colab_type": "text",
    "id": "RbTAz1aFtEqm"
   },
   "source": [
    "Helper function to get final log distribution"
   ]
  },
  {
   "cell_type": "code",
   "execution_count": 0,
   "metadata": {
    "colab": {},
    "colab_type": "code",
    "id": "lSxdAOQ5EwIO"
   },
   "outputs": [],
   "source": [
    "def get_final_distribution(update, p_gen, p_vocab, attention_weights, max_oovs, batch_size = batch_size):\n",
    "  if on_pointer:\n",
    "    # Get the weighted probabiity\n",
    "    p_gen = tf.clip_by_value(p_gen,0.001,0.999)\n",
    "    p_gen_v = tf.tile(tf.math.log(p_gen),[1,vocab.size()])\n",
    "    len_seq = tf.shape(attention_weights)[1]\n",
    "    p_gen_a = tf.tile(p_gen,[1,len_seq])\n",
    "    p_vocab_f = p_gen_v+p_vocab\n",
    "    attention_f = tf.math.log((tf.ones(len_seq)-p_gen_a))+tf.squeeze(attention_weights,-1)\n",
    "    # Get the extended-vocab probability distribution\n",
    "    extended_size = vocab.size() + max_oovs # the maximum (over the batch) size of the extended vocabulary\n",
    "    extension = 1e38*tf.ones((batch_size, max_oovs), tf.float32)\n",
    "    batch_nums = tf.expand_dims(tf.range(0, limit=batch_size),1)\n",
    "    batch_nums = tf.tile(batch_nums,[1,len_seq])\n",
    "    indices = tf.stack((batch_nums, update), axis=2)\n",
    "    p_vocab_f = tf.concat([p_vocab_f,extension], axis = -1)\n",
    "    updates = tf.stack([tf.gather_nd(p_vocab_f,indices),attention_f], axis = 0)\n",
    "    updates = tf.reduce_logsumexp(updates,0)\n",
    "    # Add the attention to the probability\n",
    "    p_vocab = tf.tensor_scatter_nd_update(p_vocab_f,indices,updates)\n",
    "  return p_vocab"
   ]
  },
  {
   "cell_type": "markdown",
   "metadata": {
    "colab_type": "text",
    "id": "9udcRhiTdREd"
   },
   "source": [
    "Initialize encoder and decoder"
   ]
  },
  {
   "cell_type": "code",
   "execution_count": 0,
   "metadata": {
    "colab": {},
    "colab_type": "code",
    "id": "cIdpMfncpK5q"
   },
   "outputs": [],
   "source": [
    "embedding_dim = 128\n",
    "hidden_units = 128\n",
    "encoder = Encoder(vocab.size(), embedding_dim, hidden_units) # +2 on due to start and end tokens\n",
    "attention = BahdanauAttention(hidden_units,is_coverage=on_coverage)\n",
    "decoder = Decoder(vocab.size(), embedding_dim, hidden_units, is_pointer = on_pointer)"
   ]
  },
  {
   "cell_type": "markdown",
   "metadata": {
    "colab_type": "text",
    "id": "OlPleBGNkdLQ"
   },
   "source": [
    "Run one batch through the model in order to initialize model parameters"
   ]
  },
  {
   "cell_type": "code",
   "execution_count": 0,
   "metadata": {
    "colab": {},
    "colab_type": "code",
    "id": "hsM9QUZpkaMu"
   },
   "outputs": [],
   "source": [
    "encoder_input_init , decoder_target, index, len_oovs = next(iter(train_dataset))\n",
    "encoder_init_states = [tf.zeros((batch_size, encoder.hidden_units)) for i in range(2)]\n",
    "if on_pointer:\n",
    "  max_oovs = max(len_oovs)\n",
    "else:\n",
    "  max_oovs = 0\n",
    "\n",
    "encoder_output, encoder_states = encoder(encoder_input_init,encoder_init_states)\n",
    "decoder_state = encoder_states[0] \n",
    "coverage_vector = tf.zeros((16,encoder_input_init.shape[1]))\n",
    "decoder_input_t = decoder_target[:,0]\n",
    "context_vector, attention_weights, coverage_vector = attention(decoder_state, encoder_output,coverage_vector)\n",
    "p_vocab,decoder_state,p_gen = decoder(tf.expand_dims(decoder_input_t,1),decoder_state,encoder_output,context_vector)\n",
    "p_vocab = get_final_distribution(encoder_input_init, p_gen, p_vocab, attention_weights, max_oovs, batch_size)\n"
   ]
  },
  {
   "cell_type": "markdown",
   "metadata": {
    "colab_type": "text",
    "id": "C2kcLbzOhrlt"
   },
   "source": [
    "Load pretrained weights if needed"
   ]
  },
  {
   "cell_type": "code",
   "execution_count": 0,
   "metadata": {
    "colab": {},
    "colab_type": "code",
    "id": "z2180O-yPUEh"
   },
   "outputs": [],
   "source": [
    "# model_save_path = \"\"\n",
    "# encoder_save_name = \"encoder_weights30.h5\"\n",
    "# decoder_save_name = \"decoder_weights30.h5\"\n",
    "# attention_save_name = \"attention_30epochs.h5\"\n",
    "# encoder.load_weights(os.path.join(model_save_path,encoder_save_name))\n",
    "# decoder.load_weight(os.path.join(model_save_path,decoder_save_name))\n",
    "# attention.load_weights(os.path.join(model_save_path,attention_save_name))"
   ]
  },
  {
   "cell_type": "markdown",
   "metadata": {
    "colab_type": "text",
    "id": "pC567knspwSz"
   },
   "source": [
    "Define optimizer and loss function"
   ]
  },
  {
   "cell_type": "code",
   "execution_count": 0,
   "metadata": {
    "colab": {},
    "colab_type": "code",
    "id": "sVNa8U62pvUO"
   },
   "outputs": [],
   "source": [
    "optimizer = tf.keras.optimizers.Adam(1e-3,clipnorm=10)\n",
    "\n",
    "def nll_loss(p_vocab,target):\n",
    "    # apply a mask such that pad zeros do not affect the loss\n",
    "    mask = tf.math.logical_not(tf.math.equal(target, 0))\n",
    "    loss = -p_vocab\n",
    "    mask = tf.cast(mask, dtype=loss.dtype)\n",
    "    loss *= mask  \n",
    "    return loss\n",
    "\n",
    "def coverage_loss(attention_weights,coverage_vector,target):\n",
    "    mask = tf.math.logical_not(tf.math.equal(target, 0))\n",
    "    coverage_vector = tf.expand_dims(coverage_vector,axis=2)\n",
    "    ct_min = tf.reduce_min(tf.concat([tf.math.exp(attention_weights),coverage_vector],axis=2),axis=2)\n",
    "    cov_loss = tf.reduce_sum(ct_min,axis=1)\n",
    "    mask = tf.cast(mask, dtype=cov_loss.dtype)\n",
    "    cov_loss *= mask\n",
    "    return cov_loss"
   ]
  },
  {
   "cell_type": "markdown",
   "metadata": {
    "colab_type": "text",
    "id": "ctb2Zl8RuxnA"
   },
   "source": [
    "Define a function for performing one training step (one batch)"
   ]
  },
  {
   "cell_type": "code",
   "execution_count": 0,
   "metadata": {
    "colab": {},
    "colab_type": "code",
    "id": "Ee51wXkDkfcO"
   },
   "outputs": [],
   "source": [
    "@tf.function\n",
    "def train_step(encoder_input, decoder_target, len_oovs):\n",
    "    \"\"\"Function which performs one training step (batch)\"\"\"\n",
    "    loss = tf.zeros(batch_size)\n",
    "    lambda_cov = 1\n",
    "    if on_pointer:\n",
    "      max_oovs = tf.math.reduce_max(len_oovs,0)\n",
    "    else:\n",
    "      max_oovs = 0\n",
    "    with tf.GradientTape() as tape:\n",
    "        # run body_sequence input through encoder\n",
    "        encoder_init_states = [tf.zeros((batch_size, encoder.hidden_units)) for i in range(2)]\n",
    "        encoder_output, encoder_states = encoder(encoder_input,encoder_init_states)\n",
    "        # initialize decoder with encoder forward state\n",
    "        decoder_state = encoder_states[0] # !!!interpolate between forward and backward instead!!!\n",
    "        coverage_vector = tf.zeros((16,encoder_input.shape[1]))\n",
    "        # loop over each word in target sequence\n",
    "        for t in range(decoder_target.shape[1]-1):\n",
    "            # run decoder input through decoder and generate vocabulary distribution\n",
    "            decoder_input_t = decoder_target[:,t]\n",
    "            decoder_target_t = decoder_target[:,t+1]\n",
    "            # get attention scores\n",
    "            context_vector, attention_weights, coverage_vector = attention(decoder_state, encoder_output,coverage_vector)\n",
    "            # get vocabulary distribution for each batch at time t\n",
    "            p_vocab,decoder_state,p_gen = decoder(tf.expand_dims(decoder_input_t,1),decoder_state,encoder_output,context_vector)\n",
    "            p_vocab = get_final_distribution(encoder_input, p_gen, p_vocab, attention_weights, max_oovs, batch_size)\n",
    "            # for each batch get the probability of the target word at time t+1\n",
    "            p_vocab_list = []\n",
    "            for i in range(len(decoder_target_t)):\n",
    "                p_vocab_list.append(p_vocab[i,decoder_target_t[i]])\n",
    "            p_vocab_target = tf.stack(p_vocab_list)\n",
    "            # calculate the loss at each time step t and add to current loss\n",
    "            loss += nll_loss(p_vocab_target,decoder_target_t) + lambda_cov*coverage_loss(attention_weights,coverage_vector,decoder_target_t)\n",
    "\n",
    "        # get the non-padded length of each sequence in the batch\n",
    "        seq_len_mask = tf.cast(tf.math.logical_not(tf.math.equal(decoder_target, 0)),tf.float32)\n",
    "        batch_seq_len = tf.reduce_sum(seq_len_mask,axis=1)\n",
    "\n",
    "        # get batch loss by dividing the loss of each batch by the target sequence length and mean\n",
    "        batch_loss = tf.reduce_mean(loss/batch_seq_len)\n",
    "\n",
    "    # update trainable variables\n",
    "    variables = encoder.trainable_variables + decoder.trainable_variables\n",
    "    gradients = tape.gradient(batch_loss, variables)\n",
    "    optimizer.apply_gradients(zip(gradients, variables))\n",
    "    \n",
    "    return batch_loss"
   ]
  },
  {
   "cell_type": "markdown",
   "metadata": {
    "colab_type": "text",
    "id": "XH_-kaqadXXo"
   },
   "source": [
    "Training loop"
   ]
  },
  {
   "cell_type": "code",
   "execution_count": 25,
   "metadata": {
    "colab": {
     "base_uri": "https://localhost:8080/",
     "height": 387,
     "referenced_widgets": [
      "b6dba2e470ef45f799225cfd09e23a58",
      "00f77d72740f43959dd27a7fc2b8db3e",
      "41cbf4148e74450894643e57ff7b18e9",
      "b34179d8b0e844f584d532086c94de02",
      "46f4642cdb9a4f0586d2a38e0877a085",
      "45dde5369acc4c139de4e7e1348cb964",
      "c605e60d78204359b3cecb49c916bb37",
      "ac56c63f56d049c3bcd0942805feaefc",
      "c422e092805e40048023ffdc4c260eb1",
      "289312668988414e99ea2f97066d138e",
      "d3d3663ecf5b4764927047b436081ce5",
      "d78ecab173c949a3a552cb89bd0478a2",
      "bf0d072fecc443cead1961578e48a5bc",
      "4673d58abc1e41faa241cd7b2f911804",
      "bc4bdf27a17e48ada350dde57cfb6b52",
      "29337fc06519468f886fd922e33a9809",
      "6f14d43a9d8645e7b4d0752caed03394",
      "e02f964ca01b4cb6afb10d25ee5c41e1",
      "7f6eacded6a441aa821c40eb48810544",
      "0cfb5835d6c94ca0b0995df4c0a24c68",
      "358d77c373374242ae00b0ca368535ea",
      "a4fc757e88de49d5ac0e87e015967711",
      "fdfc339b42a24501a32bd6620b077592",
      "d937f3d845f843e2aa6067bab97e1b7f",
      "72aa3a7c2ea5483ab79dd4a1f4ee5384",
      "f2355ef07cc741c08b8617230657730c",
      "7fce399ae71448a4983b9d86255dfdd8",
      "0091b76976dd41f2bde30b6afe094fb0",
      "bec98121840e4e33b17e90d3f4a99972",
      "f8bbeb6c8e2c4206a99f251a509b56f3",
      "cbf6f9dac21d415b8ada1012c5ecc135",
      "e55550bf128149b3bcfa9018a08a49a7",
      "dc9062704f7649d0853780c91d5e9598",
      "e7243b6080354773abd185ad70a71608",
      "73d5e005615d43b29536ec21ece3f007",
      "7d6bdcf30baf40679b62be39ca469125",
      "134ee0df50cf43908251b8918d5937f1",
      "a847e407b51c49f88f8c339b454bdccf",
      "2bfdbbed84864aa0b6991e3776c5f0dd",
      "9807774e61ca4f67bf8dea823633042d",
      "4c6eda25cd11453688eacd648ab09871",
      "80c3355dfddb44deb8f817d36848540b",
      "c0e62b21b2c74b89a27ef9b8f80aa242",
      "5e611ca89d554ce190fead65416dee9b",
      "110195c3c14d4117bdb0c25eb86dc2ac",
      "ce96a3ca3ba34d1a861d12df828c1f32",
      "e4061b2be76a41f19addfef5001d4bdc",
      "3380bfbe1064450e9f7c539d0d597a35",
      "b9cc99952cfe462f8d2259d863d673e3",
      "0f770dc632dd4b00851707619f8fdf83",
      "22941dbfc9ac4fcea571accfb7795444",
      "2a39e61c1a1c439cafacd890ed2086c6",
      "76f4b55c80e043208f1627f6d2c6f0d1",
      "270bed4dab05419daa594de7330e3d19",
      "c3e71b95ea1c4c5db6f45c8d4746baf0",
      "b88b53e2487e40638dfe928b130dc115",
      "9895c53a5ec848cabdab6c4b677eca95",
      "7375e784a94146149b2b53fca801b80b",
      "2869aafed853467290a83a8a9c17ef2e",
      "c9e684eab1d1487ea1b3893480a00405",
      "6ab74e892e7e43548128d0c6c5cef9da",
      "5ba6f5fc454c408e9bc2eaa6683d2288",
      "fade0b280467465e9f6d1a7bb7bda9d7",
      "96b927dcd3824c62862d0579f3d8cd7b",
      "b0de7477a0dc46bba324b4dcfb776674",
      "00323ec860524b069c054da5f895dc71",
      "f88729084a01414fb2b4fc9bc871e09e",
      "b2facd17345e450fb717652314eb6996",
      "36d3910f27554db1bc64751296df7e37",
      "b6d3cd8c2e684858abefa3a0074e6bf1",
      "3e08161cce4b4f5bb7c0d140a09e0974",
      "1cd6348f8f594be3b2f6bcb035d88b33",
      "1641a33fb6d94e4e97b8efb937cb9706",
      "54d8353a3e2d405aa34b630b30d40942",
      "00e0cd71832048b4a7105907aaae20c5",
      "e2029eb049d14059a2d2c25bf52e148a",
      "da2f93d75c834b3f8e2b6c364cb1cb67",
      "31b750530c2d438ca18aa31da872f34d",
      "9b3050816400484f922bb38037d61ebc",
      "3d196ffca9d5427e9827d99d99d22219",
      "6c0f09478e814bbf98af633b29c6887e",
      "c7efcac7771147edb7c704549f2b0a42",
      "2e8f27fbd09a4fe085b30b1854aaaf63",
      "882b1955797446c29dd55571da16ae99",
      "ac81ffaa1573415893afb556b0c81787",
      "8c6736ce14214719820962c8b9ea8485",
      "bc4c90a7529344c7b27016de704c4106",
      "23c20abb27964c0aa8cfd5fd087e6da4"
     ]
    },
    "colab_type": "code",
    "id": "T56FA7YkX2A_",
    "outputId": "d4784f23-5e39-4381-fbdf-28a970d7408a"
   },
   "outputs": [
    {
     "data": {
      "application/vnd.jupyter.widget-view+json": {
       "model_id": "b6dba2e470ef45f799225cfd09e23a58",
       "version_major": 2,
       "version_minor": 0
      },
      "text/plain": [
       "HBox(children=(IntProgress(value=0, max=10), HTML(value='')))"
      ]
     },
     "metadata": {
      "tags": []
     },
     "output_type": "display_data"
    },
    {
     "data": {
      "application/vnd.jupyter.widget-view+json": {
       "model_id": "c422e092805e40048023ffdc4c260eb1",
       "version_major": 2,
       "version_minor": 0
      },
      "text/plain": [
       "HBox(children=(IntProgress(value=0, max=427), HTML(value='')))"
      ]
     },
     "metadata": {
      "tags": []
     },
     "output_type": "display_data"
    },
    {
     "data": {
      "application/vnd.jupyter.widget-view+json": {
       "model_id": "6f14d43a9d8645e7b4d0752caed03394",
       "version_major": 2,
       "version_minor": 0
      },
      "text/plain": [
       "HBox(children=(IntProgress(value=0, max=427), HTML(value='')))"
      ]
     },
     "metadata": {
      "tags": []
     },
     "output_type": "display_data"
    },
    {
     "data": {
      "application/vnd.jupyter.widget-view+json": {
       "model_id": "72aa3a7c2ea5483ab79dd4a1f4ee5384",
       "version_major": 2,
       "version_minor": 0
      },
      "text/plain": [
       "HBox(children=(IntProgress(value=0, max=427), HTML(value='')))"
      ]
     },
     "metadata": {
      "tags": []
     },
     "output_type": "display_data"
    },
    {
     "data": {
      "application/vnd.jupyter.widget-view+json": {
       "model_id": "dc9062704f7649d0853780c91d5e9598",
       "version_major": 2,
       "version_minor": 0
      },
      "text/plain": [
       "HBox(children=(IntProgress(value=0, max=427), HTML(value='')))"
      ]
     },
     "metadata": {
      "tags": []
     },
     "output_type": "display_data"
    },
    {
     "data": {
      "application/vnd.jupyter.widget-view+json": {
       "model_id": "4c6eda25cd11453688eacd648ab09871",
       "version_major": 2,
       "version_minor": 0
      },
      "text/plain": [
       "HBox(children=(IntProgress(value=0, max=427), HTML(value='')))"
      ]
     },
     "metadata": {
      "tags": []
     },
     "output_type": "display_data"
    },
    {
     "data": {
      "application/vnd.jupyter.widget-view+json": {
       "model_id": "b9cc99952cfe462f8d2259d863d673e3",
       "version_major": 2,
       "version_minor": 0
      },
      "text/plain": [
       "HBox(children=(IntProgress(value=0, max=427), HTML(value='')))"
      ]
     },
     "metadata": {
      "tags": []
     },
     "output_type": "display_data"
    },
    {
     "data": {
      "application/vnd.jupyter.widget-view+json": {
       "model_id": "9895c53a5ec848cabdab6c4b677eca95",
       "version_major": 2,
       "version_minor": 0
      },
      "text/plain": [
       "HBox(children=(IntProgress(value=0, max=427), HTML(value='')))"
      ]
     },
     "metadata": {
      "tags": []
     },
     "output_type": "display_data"
    },
    {
     "data": {
      "application/vnd.jupyter.widget-view+json": {
       "model_id": "b0de7477a0dc46bba324b4dcfb776674",
       "version_major": 2,
       "version_minor": 0
      },
      "text/plain": [
       "HBox(children=(IntProgress(value=0, max=427), HTML(value='')))"
      ]
     },
     "metadata": {
      "tags": []
     },
     "output_type": "display_data"
    },
    {
     "data": {
      "application/vnd.jupyter.widget-view+json": {
       "model_id": "1641a33fb6d94e4e97b8efb937cb9706",
       "version_major": 2,
       "version_minor": 0
      },
      "text/plain": [
       "HBox(children=(IntProgress(value=0, max=427), HTML(value='')))"
      ]
     },
     "metadata": {
      "tags": []
     },
     "output_type": "display_data"
    },
    {
     "data": {
      "application/vnd.jupyter.widget-view+json": {
       "model_id": "6c0f09478e814bbf98af633b29c6887e",
       "version_major": 2,
       "version_minor": 0
      },
      "text/plain": [
       "HBox(children=(IntProgress(value=0, max=427), HTML(value='')))"
      ]
     },
     "metadata": {
      "tags": []
     },
     "output_type": "display_data"
    },
    {
     "name": "stdout",
     "output_type": "stream",
     "text": [
      "\n"
     ]
    }
   ],
   "source": [
    "from tqdm import tqdm_notebook as tqdm\n",
    "\n",
    "epochs = 10\n",
    "\n",
    "epoch_loss = tf.keras.metrics.Mean()\n",
    "with tqdm(total=epochs) as epoch_progress:\n",
    "    for epoch in range(epochs):\n",
    "        epoch_loss.reset_states()\n",
    "\n",
    "        with tqdm(total=len(body_seqs) // batch_size) as batch_progress:\n",
    "            for batch, (encoder_input, decoder_target, index, len_oovs) in enumerate(train_dataset):\n",
    "                batch_loss = train_step(encoder_input, decoder_target, len_oovs)\n",
    "                epoch_loss(batch_loss)\n",
    "                \n",
    "                if (batch % 10) == 0:\n",
    "                    batch_progress.set_description(f'Epoch {epoch + 1}')\n",
    "                    batch_progress.set_postfix(Batch=batch, Loss=batch_loss.numpy())\n",
    "                batch_progress.update()\n",
    "        \n",
    "        epoch_progress.set_description(f'Epoch {epoch + 1}')\n",
    "        epoch_progress.set_postfix(Loss=epoch_loss.result().numpy())\n",
    "        epoch_progress.update()"
   ]
  },
  {
   "cell_type": "markdown",
   "metadata": {
    "colab_type": "text",
    "id": "0ZCMatONESEz"
   },
   "source": [
    "Evaluate model"
   ]
  },
  {
   "cell_type": "code",
   "execution_count": 0,
   "metadata": {
    "colab": {},
    "colab_type": "code",
    "id": "-zh_Vi0NEi2A"
   },
   "outputs": [],
   "source": [
    "def greedy_search(encoder_input,max_sum_len = 20):\n",
    "    \"\"\"Function which returns a summary by always picking the highest probability option conditioned on the previous word\"\"\"\n",
    "    # run body_sequence through encoder\n",
    "    encoder_init_states = [tf.zeros((1, encoder.hidden_units)) for i in range(2)]\n",
    "    encoder_output, encoder_states = encoder(encoder_input,encoder_init_states)\n",
    "    # initialize decoder with encoder forward state\n",
    "    decoder_state = encoder_states[0]\n",
    "\n",
    "    decoder_input_t = tf.ones(1)*tokenizer.num_words # initialize with start token\n",
    "    summary = [tokenizer.num_words]\n",
    "    coverage_vector = tf.zeros((1,encoder_input.shape[1]))\n",
    "    while decoder_input_t[0].numpy()!=(tokenizer.num_words+1) and len(summary)<max_sum_len: # as long as decoder input is different from end token continue\n",
    "        context_vector, attention_weights, coverage_vector = attention(decoder_state, encoder_output,coverage_vector)\n",
    "        p_vocab, decoder_state, p_gen = decoder(tf.expand_dims(decoder_input_t,1),decoder_state,encoder_output,context_vector)\n",
    "        p_vocab = get_final_distribution(encoder_input, p_gen, p_vocab, attention_weights, max_oovs,1)\n",
    "        decoder_input_t = tf.argmax(p_vocab,axis=1) \n",
    "        decoder_word_idx = int(decoder_input_t[0].numpy())\n",
    "        summary.append(decoder_word_idx)\n",
    "    return summary"
   ]
  },
  {
   "cell_type": "code",
   "execution_count": 0,
   "metadata": {
    "colab": {},
    "colab_type": "code",
    "id": "-yWZKItF6bzg"
   },
   "outputs": [],
   "source": [
    "def best_k_candidates(prev,k,encoder_output):\n",
    "    # use decoder to generate probability over vocabulary for the next token\n",
    "    decoder_input_t = tf.expand_dims(tf.expand_dims(prev[0][-1],0),1)\n",
    "    context_vector, attention_weights, coverage_vector = attention(prev[2][0], encoder_output,prev[2][1])\n",
    "    p_vocab, decoder_state,p_gen = decoder(decoder_input_t, prev[2][0],encoder_output,context_vector)\n",
    "    p_vocab = get_final_distribution(encoder_input, p_gen, p_vocab, attention_weights, max_oovs, 1)    \n",
    "    # sort the hypothesis by probability\n",
    "    idx = tf.argsort(p_vocab, direction='DESCENDING')  # sorted indices\n",
    "    ranks = tf.argsort(idx, direction='ASCENDING')  # ranks\n",
    "    filter_k = ranks < k # return True in the position with rank 1, 2, ..., k\n",
    "    # just for convenience, change to numpy\n",
    "    size = vocab.size()+max_oovs \n",
    "    p_vocab = p_vocab.numpy().reshape(-1)\n",
    "    filter_k = filter_k.numpy().reshape(-1)\n",
    "    # get the best hypothesis\n",
    "    best_k_candidates = [ [prev[0]+[x],p_vocab[x]+prev[1],[decoder_state,coverage_vector,attention_weights,max_oovs,prev[2][4]]] for x in range(size) if filter_k[x] ]\n",
    "    return best_k_candidates"
   ]
  },
  {
   "cell_type": "code",
   "execution_count": 0,
   "metadata": {
    "colab": {},
    "colab_type": "code",
    "id": "1w7QDpxS7KdO"
   },
   "outputs": [],
   "source": [
    "def best_k_of_k2(best_k,k,completed,encoder_output):\n",
    "    results = []\n",
    "    # for each previous hypothesis, find k best hypothesis induced from it. THis will result in k^2 hypothesis\n",
    "    for hypo in best_k:\n",
    "      results = results + best_k_candidates(hypo, k, encoder_output)\n",
    "    # sort the list and extract k best hypothesis\n",
    "    results = sorted(results,key = lambda x: x[1],reverse= True)[0:k]\n",
    "    # if there is a completed hypothesis (end token generated), transfer it to completed set and decrease the beam size\n",
    "    for result in results:  \n",
    "      if result[0][-1] == vocab.word2id('<\\s>'):\n",
    "        k-=1\n",
    "        results.remove(result)\n",
    "        completed += [result]\n",
    "    return results,k,completed"
   ]
  },
  {
   "cell_type": "code",
   "execution_count": 0,
   "metadata": {
    "colab": {},
    "colab_type": "code",
    "id": "sVihBTAE7ekD"
   },
   "outputs": [],
   "source": [
    "def beam_search(encoder_input, max_sum_len = 20, beam_width = 5):\n",
    "      # run body_sequence input through encoder\n",
    "      encoder_init_states = [tf.zeros((1, encoder.hidden_units)) for i in range(2)]\n",
    "      encoder_output, encoder_states = encoder(encoder_input,encoder_init_states)\n",
    "\n",
    "      # initialize decoder with encoder forward states\n",
    "      decoder_states = encoder_states[0]\n",
    "      coverage_vector = tf.zeros((1,encoder_input.shape[1]))\n",
    "      # initialize the hypothesis: [sequence <s>, log probability 0, decoder states]\n",
    "      prev = [[vocab_size],0,[decoder_states,coverage_vector, attention_weights, max_oovs, encoder_input]]\n",
    "      # get the beam size and create a list to store completed hypothesis \n",
    "      k = beam_width\n",
    "      completed = []\n",
    "      # get k best first token\n",
    "      best_k = best_k_candidates(prev,k,encoder_output)\n",
    "\n",
    "      # use beam search for max_sum_len (maximum length) steps\n",
    "      for i in range(max_sum_len):\n",
    "        # get k best hypothesis when adding a new token\n",
    "        best_k,k,completed = best_k_of_k2(best_k,k,completed,encoder_output)\n",
    "        # stop when there are enough completed hypothesis\n",
    "        if len(completed) == k:\n",
    "          break \n",
    "      \n",
    "      # when there are no completed hypothesis, take 5 last hypothesis as the final candidates\n",
    "      if len(completed) == 0:\n",
    "        completed = best_k\n",
    "      # normalized the hypothesis probability by the length of hypothesis\n",
    "      for hypo in completed:\n",
    "        hypo[1]/=len(hypo[0])\n",
    "        hypo = [hypo[1],hypo[2]]   \n",
    "      # sort the hypothesis by normalized probability and choose the best one       \n",
    "      best_k = sorted(completed,key=lambda x: x[1],reverse=True)[0][0]\n",
    "      return best_k"
   ]
  },
  {
   "cell_type": "code",
   "execution_count": 0,
   "metadata": {
    "colab": {},
    "colab_type": "code",
    "id": "lj9oGQo9w3GB"
   },
   "outputs": [],
   "source": [
    "encoder_save_name = \"encoder_30epochs.h5\"\n",
    "decoder_save_name = \"decoder_30epochs.h5\"\n",
    "attention_save_name = \"attention_30epochs.h5\"\n",
    "encoder.save_weights(encoder_save_name)\n",
    "decoder.save_weights(decoder_save_name)\n",
    "attention.save_weights(attention_save_name)"
   ]
  },
  {
   "cell_type": "code",
   "execution_count": 0,
   "metadata": {
    "colab": {},
    "colab_type": "code",
    "id": "ktHV__vixcE9"
   },
   "outputs": [],
   "source": [
    "# files.download(attention_save_name)"
   ]
  },
  {
   "cell_type": "code",
   "execution_count": 0,
   "metadata": {
    "colab": {},
    "colab_type": "code",
    "id": "V7XqpsXBu_Bn"
   },
   "outputs": [],
   "source": [
    "encoder_input, decoder_target, index, len_oovs = next(iter(train_dataset))\n",
    "if on_pointer:\n",
    "  max_oovs = max(len_oovs)\n",
    "else:\n",
    "  max_oovs = 0"
   ]
  },
  {
   "cell_type": "code",
   "execution_count": 0,
   "metadata": {
    "colab": {},
    "colab_type": "code",
    "id": "ShWnw-PzEai2"
   },
   "outputs": [],
   "source": [
    "encoder_input = tf.expand_dims(encoder_input[0,:],0)\n",
    "summary_greedy = greedy_search(encoder_input)\n",
    "summary_beam = beam_search(encoder_input)"
   ]
  },
  {
   "cell_type": "code",
   "execution_count": 0,
   "metadata": {
    "colab": {},
    "colab_type": "code",
    "id": "QEjMdLyQEdUc"
   },
   "outputs": [],
   "source": [
    "target_summary = [d for d in decoder_target.numpy()[0] if d!=0]"
   ]
  },
  {
   "cell_type": "code",
   "execution_count": 35,
   "metadata": {
    "colab": {
     "base_uri": "https://localhost:8080/",
     "height": 69
    },
    "colab_type": "code",
    "id": "CJmkncscEfr1",
    "outputId": "5a0b2ceb-cee3-4e04-e1b3-a582cc54f891"
   },
   "outputs": [
    {
     "name": "stdout",
     "output_type": "stream",
     "text": [
      "Generated by greedy search:<s> focused campaign improves mineral and bone bone bone bone bone <\\s>\n",
      "Generated by bream search:<s> focused campaign as a predictor of mineral and bone bone bone disorder <\\s>\n",
      "Target:<s> focused clinical campaign improves mineral and bone disorder outcomes <\\s>\n"
     ]
    }
   ],
   "source": [
    "print(\"Generated by greedy search:\"+ outputids2words(summary_greedy,body_oovs[index[0]]))\n",
    "print(\"Generated by bream search:\"+ outputids2words(summary_beam,body_oovs[index[0]]))\n",
    "print(\"Target:\"+\" \".join([tokenizer.index_word[idx] for idx in target_summary]))"
   ]
  }
 ],
 "metadata": {
  "accelerator": "GPU",
  "colab": {
   "collapsed_sections": [],
   "name": "Model",
   "provenance": []
  },
  "kernelspec": {
   "display_name": "Python 3",
   "language": "python",
   "name": "python3"
  },
  "language_info": {
   "codemirror_mode": {
    "name": "ipython",
    "version": 3
   },
   "file_extension": ".py",
   "mimetype": "text/x-python",
   "name": "python",
   "nbconvert_exporter": "python",
   "pygments_lexer": "ipython3",
   "version": "3.7.3"
  },
  "widgets": {
   "application/vnd.jupyter.widget-state+json": {
    "00323ec860524b069c054da5f895dc71": {
     "model_module": "@jupyter-widgets/base",
     "model_name": "LayoutModel",
     "state": {
      "_model_module": "@jupyter-widgets/base",
      "_model_module_version": "1.2.0",
      "_model_name": "LayoutModel",
      "_view_count": null,
      "_view_module": "@jupyter-widgets/base",
      "_view_module_version": "1.2.0",
      "_view_name": "LayoutView",
      "align_content": null,
      "align_items": null,
      "align_self": null,
      "border": null,
      "bottom": null,
      "display": null,
      "flex": null,
      "flex_flow": null,
      "grid_area": null,
      "grid_auto_columns": null,
      "grid_auto_flow": null,
      "grid_auto_rows": null,
      "grid_column": null,
      "grid_gap": null,
      "grid_row": null,
      "grid_template_areas": null,
      "grid_template_columns": null,
      "grid_template_rows": null,
      "height": null,
      "justify_content": null,
      "justify_items": null,
      "left": null,
      "margin": null,
      "max_height": null,
      "max_width": null,
      "min_height": null,
      "min_width": null,
      "object_fit": null,
      "object_position": null,
      "order": null,
      "overflow": null,
      "overflow_x": null,
      "overflow_y": null,
      "padding": null,
      "right": null,
      "top": null,
      "visibility": null,
      "width": null
     }
    },
    "0091b76976dd41f2bde30b6afe094fb0": {
     "model_module": "@jupyter-widgets/controls",
     "model_name": "HTMLModel",
     "state": {
      "_dom_classes": [],
      "_model_module": "@jupyter-widgets/controls",
      "_model_module_version": "1.5.0",
      "_model_name": "HTMLModel",
      "_view_count": null,
      "_view_module": "@jupyter-widgets/controls",
      "_view_module_version": "1.5.0",
      "_view_name": "HTMLView",
      "description": "",
      "description_tooltip": null,
      "layout": "IPY_MODEL_e55550bf128149b3bcfa9018a08a49a7",
      "placeholder": "​",
      "style": "IPY_MODEL_cbf6f9dac21d415b8ada1012c5ecc135",
      "value": "100% 427/427 [03:16&lt;00:00,  2.17it/s, Batch=420, Loss=4.49]"
     }
    },
    "00e0cd71832048b4a7105907aaae20c5": {
     "model_module": "@jupyter-widgets/controls",
     "model_name": "IntProgressModel",
     "state": {
      "_dom_classes": [],
      "_model_module": "@jupyter-widgets/controls",
      "_model_module_version": "1.5.0",
      "_model_name": "IntProgressModel",
      "_view_count": null,
      "_view_module": "@jupyter-widgets/controls",
      "_view_module_version": "1.5.0",
      "_view_name": "ProgressView",
      "bar_style": "success",
      "description": "Epoch 9",
      "description_tooltip": null,
      "layout": "IPY_MODEL_31b750530c2d438ca18aa31da872f34d",
      "max": 427,
      "min": 0,
      "orientation": "horizontal",
      "style": "IPY_MODEL_da2f93d75c834b3f8e2b6c364cb1cb67",
      "value": 427
     }
    },
    "00f77d72740f43959dd27a7fc2b8db3e": {
     "model_module": "@jupyter-widgets/base",
     "model_name": "LayoutModel",
     "state": {
      "_model_module": "@jupyter-widgets/base",
      "_model_module_version": "1.2.0",
      "_model_name": "LayoutModel",
      "_view_count": null,
      "_view_module": "@jupyter-widgets/base",
      "_view_module_version": "1.2.0",
      "_view_name": "LayoutView",
      "align_content": null,
      "align_items": null,
      "align_self": null,
      "border": null,
      "bottom": null,
      "display": null,
      "flex": null,
      "flex_flow": null,
      "grid_area": null,
      "grid_auto_columns": null,
      "grid_auto_flow": null,
      "grid_auto_rows": null,
      "grid_column": null,
      "grid_gap": null,
      "grid_row": null,
      "grid_template_areas": null,
      "grid_template_columns": null,
      "grid_template_rows": null,
      "height": null,
      "justify_content": null,
      "justify_items": null,
      "left": null,
      "margin": null,
      "max_height": null,
      "max_width": null,
      "min_height": null,
      "min_width": null,
      "object_fit": null,
      "object_position": null,
      "order": null,
      "overflow": null,
      "overflow_x": null,
      "overflow_y": null,
      "padding": null,
      "right": null,
      "top": null,
      "visibility": null,
      "width": null
     }
    },
    "0cfb5835d6c94ca0b0995df4c0a24c68": {
     "model_module": "@jupyter-widgets/controls",
     "model_name": "HTMLModel",
     "state": {
      "_dom_classes": [],
      "_model_module": "@jupyter-widgets/controls",
      "_model_module_version": "1.5.0",
      "_model_name": "HTMLModel",
      "_view_count": null,
      "_view_module": "@jupyter-widgets/controls",
      "_view_module_version": "1.5.0",
      "_view_name": "HTMLView",
      "description": "",
      "description_tooltip": null,
      "layout": "IPY_MODEL_d937f3d845f843e2aa6067bab97e1b7f",
      "placeholder": "​",
      "style": "IPY_MODEL_fdfc339b42a24501a32bd6620b077592",
      "value": "100% 427/427 [03:20&lt;00:00,  2.10it/s, Batch=420, Loss=4.74]"
     }
    },
    "0f770dc632dd4b00851707619f8fdf83": {
     "model_module": "@jupyter-widgets/base",
     "model_name": "LayoutModel",
     "state": {
      "_model_module": "@jupyter-widgets/base",
      "_model_module_version": "1.2.0",
      "_model_name": "LayoutModel",
      "_view_count": null,
      "_view_module": "@jupyter-widgets/base",
      "_view_module_version": "1.2.0",
      "_view_name": "LayoutView",
      "align_content": null,
      "align_items": null,
      "align_self": null,
      "border": null,
      "bottom": null,
      "display": null,
      "flex": null,
      "flex_flow": null,
      "grid_area": null,
      "grid_auto_columns": null,
      "grid_auto_flow": null,
      "grid_auto_rows": null,
      "grid_column": null,
      "grid_gap": null,
      "grid_row": null,
      "grid_template_areas": null,
      "grid_template_columns": null,
      "grid_template_rows": null,
      "height": null,
      "justify_content": null,
      "justify_items": null,
      "left": null,
      "margin": null,
      "max_height": null,
      "max_width": null,
      "min_height": null,
      "min_width": null,
      "object_fit": null,
      "object_position": null,
      "order": null,
      "overflow": null,
      "overflow_x": null,
      "overflow_y": null,
      "padding": null,
      "right": null,
      "top": null,
      "visibility": null,
      "width": null
     }
    },
    "110195c3c14d4117bdb0c25eb86dc2ac": {
     "model_module": "@jupyter-widgets/controls",
     "model_name": "ProgressStyleModel",
     "state": {
      "_model_module": "@jupyter-widgets/controls",
      "_model_module_version": "1.5.0",
      "_model_name": "ProgressStyleModel",
      "_view_count": null,
      "_view_module": "@jupyter-widgets/base",
      "_view_module_version": "1.2.0",
      "_view_name": "StyleView",
      "bar_color": null,
      "description_width": "initial"
     }
    },
    "134ee0df50cf43908251b8918d5937f1": {
     "model_module": "@jupyter-widgets/controls",
     "model_name": "ProgressStyleModel",
     "state": {
      "_model_module": "@jupyter-widgets/controls",
      "_model_module_version": "1.5.0",
      "_model_name": "ProgressStyleModel",
      "_view_count": null,
      "_view_module": "@jupyter-widgets/base",
      "_view_module_version": "1.2.0",
      "_view_name": "StyleView",
      "bar_color": null,
      "description_width": "initial"
     }
    },
    "1641a33fb6d94e4e97b8efb937cb9706": {
     "model_module": "@jupyter-widgets/controls",
     "model_name": "HBoxModel",
     "state": {
      "_dom_classes": [],
      "_model_module": "@jupyter-widgets/controls",
      "_model_module_version": "1.5.0",
      "_model_name": "HBoxModel",
      "_view_count": null,
      "_view_module": "@jupyter-widgets/controls",
      "_view_module_version": "1.5.0",
      "_view_name": "HBoxView",
      "box_style": "",
      "children": [
       "IPY_MODEL_00e0cd71832048b4a7105907aaae20c5",
       "IPY_MODEL_e2029eb049d14059a2d2c25bf52e148a"
      ],
      "layout": "IPY_MODEL_54d8353a3e2d405aa34b630b30d40942"
     }
    },
    "1cd6348f8f594be3b2f6bcb035d88b33": {
     "model_module": "@jupyter-widgets/base",
     "model_name": "LayoutModel",
     "state": {
      "_model_module": "@jupyter-widgets/base",
      "_model_module_version": "1.2.0",
      "_model_name": "LayoutModel",
      "_view_count": null,
      "_view_module": "@jupyter-widgets/base",
      "_view_module_version": "1.2.0",
      "_view_name": "LayoutView",
      "align_content": null,
      "align_items": null,
      "align_self": null,
      "border": null,
      "bottom": null,
      "display": null,
      "flex": null,
      "flex_flow": null,
      "grid_area": null,
      "grid_auto_columns": null,
      "grid_auto_flow": null,
      "grid_auto_rows": null,
      "grid_column": null,
      "grid_gap": null,
      "grid_row": null,
      "grid_template_areas": null,
      "grid_template_columns": null,
      "grid_template_rows": null,
      "height": null,
      "justify_content": null,
      "justify_items": null,
      "left": null,
      "margin": null,
      "max_height": null,
      "max_width": null,
      "min_height": null,
      "min_width": null,
      "object_fit": null,
      "object_position": null,
      "order": null,
      "overflow": null,
      "overflow_x": null,
      "overflow_y": null,
      "padding": null,
      "right": null,
      "top": null,
      "visibility": null,
      "width": null
     }
    },
    "22941dbfc9ac4fcea571accfb7795444": {
     "model_module": "@jupyter-widgets/controls",
     "model_name": "IntProgressModel",
     "state": {
      "_dom_classes": [],
      "_model_module": "@jupyter-widgets/controls",
      "_model_module_version": "1.5.0",
      "_model_name": "IntProgressModel",
      "_view_count": null,
      "_view_module": "@jupyter-widgets/controls",
      "_view_module_version": "1.5.0",
      "_view_name": "ProgressView",
      "bar_style": "success",
      "description": "Epoch 6",
      "description_tooltip": null,
      "layout": "IPY_MODEL_270bed4dab05419daa594de7330e3d19",
      "max": 427,
      "min": 0,
      "orientation": "horizontal",
      "style": "IPY_MODEL_76f4b55c80e043208f1627f6d2c6f0d1",
      "value": 427
     }
    },
    "23c20abb27964c0aa8cfd5fd087e6da4": {
     "model_module": "@jupyter-widgets/base",
     "model_name": "LayoutModel",
     "state": {
      "_model_module": "@jupyter-widgets/base",
      "_model_module_version": "1.2.0",
      "_model_name": "LayoutModel",
      "_view_count": null,
      "_view_module": "@jupyter-widgets/base",
      "_view_module_version": "1.2.0",
      "_view_name": "LayoutView",
      "align_content": null,
      "align_items": null,
      "align_self": null,
      "border": null,
      "bottom": null,
      "display": null,
      "flex": null,
      "flex_flow": null,
      "grid_area": null,
      "grid_auto_columns": null,
      "grid_auto_flow": null,
      "grid_auto_rows": null,
      "grid_column": null,
      "grid_gap": null,
      "grid_row": null,
      "grid_template_areas": null,
      "grid_template_columns": null,
      "grid_template_rows": null,
      "height": null,
      "justify_content": null,
      "justify_items": null,
      "left": null,
      "margin": null,
      "max_height": null,
      "max_width": null,
      "min_height": null,
      "min_width": null,
      "object_fit": null,
      "object_position": null,
      "order": null,
      "overflow": null,
      "overflow_x": null,
      "overflow_y": null,
      "padding": null,
      "right": null,
      "top": null,
      "visibility": null,
      "width": null
     }
    },
    "270bed4dab05419daa594de7330e3d19": {
     "model_module": "@jupyter-widgets/base",
     "model_name": "LayoutModel",
     "state": {
      "_model_module": "@jupyter-widgets/base",
      "_model_module_version": "1.2.0",
      "_model_name": "LayoutModel",
      "_view_count": null,
      "_view_module": "@jupyter-widgets/base",
      "_view_module_version": "1.2.0",
      "_view_name": "LayoutView",
      "align_content": null,
      "align_items": null,
      "align_self": null,
      "border": null,
      "bottom": null,
      "display": null,
      "flex": null,
      "flex_flow": null,
      "grid_area": null,
      "grid_auto_columns": null,
      "grid_auto_flow": null,
      "grid_auto_rows": null,
      "grid_column": null,
      "grid_gap": null,
      "grid_row": null,
      "grid_template_areas": null,
      "grid_template_columns": null,
      "grid_template_rows": null,
      "height": null,
      "justify_content": null,
      "justify_items": null,
      "left": null,
      "margin": null,
      "max_height": null,
      "max_width": null,
      "min_height": null,
      "min_width": null,
      "object_fit": null,
      "object_position": null,
      "order": null,
      "overflow": null,
      "overflow_x": null,
      "overflow_y": null,
      "padding": null,
      "right": null,
      "top": null,
      "visibility": null,
      "width": null
     }
    },
    "2869aafed853467290a83a8a9c17ef2e": {
     "model_module": "@jupyter-widgets/controls",
     "model_name": "IntProgressModel",
     "state": {
      "_dom_classes": [],
      "_model_module": "@jupyter-widgets/controls",
      "_model_module_version": "1.5.0",
      "_model_name": "IntProgressModel",
      "_view_count": null,
      "_view_module": "@jupyter-widgets/controls",
      "_view_module_version": "1.5.0",
      "_view_name": "ProgressView",
      "bar_style": "success",
      "description": "Epoch 7",
      "description_tooltip": null,
      "layout": "IPY_MODEL_5ba6f5fc454c408e9bc2eaa6683d2288",
      "max": 427,
      "min": 0,
      "orientation": "horizontal",
      "style": "IPY_MODEL_6ab74e892e7e43548128d0c6c5cef9da",
      "value": 427
     }
    },
    "289312668988414e99ea2f97066d138e": {
     "model_module": "@jupyter-widgets/base",
     "model_name": "LayoutModel",
     "state": {
      "_model_module": "@jupyter-widgets/base",
      "_model_module_version": "1.2.0",
      "_model_name": "LayoutModel",
      "_view_count": null,
      "_view_module": "@jupyter-widgets/base",
      "_view_module_version": "1.2.0",
      "_view_name": "LayoutView",
      "align_content": null,
      "align_items": null,
      "align_self": null,
      "border": null,
      "bottom": null,
      "display": null,
      "flex": null,
      "flex_flow": null,
      "grid_area": null,
      "grid_auto_columns": null,
      "grid_auto_flow": null,
      "grid_auto_rows": null,
      "grid_column": null,
      "grid_gap": null,
      "grid_row": null,
      "grid_template_areas": null,
      "grid_template_columns": null,
      "grid_template_rows": null,
      "height": null,
      "justify_content": null,
      "justify_items": null,
      "left": null,
      "margin": null,
      "max_height": null,
      "max_width": null,
      "min_height": null,
      "min_width": null,
      "object_fit": null,
      "object_position": null,
      "order": null,
      "overflow": null,
      "overflow_x": null,
      "overflow_y": null,
      "padding": null,
      "right": null,
      "top": null,
      "visibility": null,
      "width": null
     }
    },
    "29337fc06519468f886fd922e33a9809": {
     "model_module": "@jupyter-widgets/base",
     "model_name": "LayoutModel",
     "state": {
      "_model_module": "@jupyter-widgets/base",
      "_model_module_version": "1.2.0",
      "_model_name": "LayoutModel",
      "_view_count": null,
      "_view_module": "@jupyter-widgets/base",
      "_view_module_version": "1.2.0",
      "_view_name": "LayoutView",
      "align_content": null,
      "align_items": null,
      "align_self": null,
      "border": null,
      "bottom": null,
      "display": null,
      "flex": null,
      "flex_flow": null,
      "grid_area": null,
      "grid_auto_columns": null,
      "grid_auto_flow": null,
      "grid_auto_rows": null,
      "grid_column": null,
      "grid_gap": null,
      "grid_row": null,
      "grid_template_areas": null,
      "grid_template_columns": null,
      "grid_template_rows": null,
      "height": null,
      "justify_content": null,
      "justify_items": null,
      "left": null,
      "margin": null,
      "max_height": null,
      "max_width": null,
      "min_height": null,
      "min_width": null,
      "object_fit": null,
      "object_position": null,
      "order": null,
      "overflow": null,
      "overflow_x": null,
      "overflow_y": null,
      "padding": null,
      "right": null,
      "top": null,
      "visibility": null,
      "width": null
     }
    },
    "2a39e61c1a1c439cafacd890ed2086c6": {
     "model_module": "@jupyter-widgets/controls",
     "model_name": "HTMLModel",
     "state": {
      "_dom_classes": [],
      "_model_module": "@jupyter-widgets/controls",
      "_model_module_version": "1.5.0",
      "_model_name": "HTMLModel",
      "_view_count": null,
      "_view_module": "@jupyter-widgets/controls",
      "_view_module_version": "1.5.0",
      "_view_name": "HTMLView",
      "description": "",
      "description_tooltip": null,
      "layout": "IPY_MODEL_b88b53e2487e40638dfe928b130dc115",
      "placeholder": "​",
      "style": "IPY_MODEL_c3e71b95ea1c4c5db6f45c8d4746baf0",
      "value": "100% 427/427 [03:16&lt;00:00,  2.16it/s, Batch=420, Loss=3.81]"
     }
    },
    "2bfdbbed84864aa0b6991e3776c5f0dd": {
     "model_module": "@jupyter-widgets/controls",
     "model_name": "DescriptionStyleModel",
     "state": {
      "_model_module": "@jupyter-widgets/controls",
      "_model_module_version": "1.5.0",
      "_model_name": "DescriptionStyleModel",
      "_view_count": null,
      "_view_module": "@jupyter-widgets/base",
      "_view_module_version": "1.2.0",
      "_view_name": "StyleView",
      "description_width": ""
     }
    },
    "2e8f27fbd09a4fe085b30b1854aaaf63": {
     "model_module": "@jupyter-widgets/controls",
     "model_name": "IntProgressModel",
     "state": {
      "_dom_classes": [],
      "_model_module": "@jupyter-widgets/controls",
      "_model_module_version": "1.5.0",
      "_model_name": "IntProgressModel",
      "_view_count": null,
      "_view_module": "@jupyter-widgets/controls",
      "_view_module_version": "1.5.0",
      "_view_name": "ProgressView",
      "bar_style": "success",
      "description": "Epoch 10",
      "description_tooltip": null,
      "layout": "IPY_MODEL_8c6736ce14214719820962c8b9ea8485",
      "max": 427,
      "min": 0,
      "orientation": "horizontal",
      "style": "IPY_MODEL_ac81ffaa1573415893afb556b0c81787",
      "value": 427
     }
    },
    "31b750530c2d438ca18aa31da872f34d": {
     "model_module": "@jupyter-widgets/base",
     "model_name": "LayoutModel",
     "state": {
      "_model_module": "@jupyter-widgets/base",
      "_model_module_version": "1.2.0",
      "_model_name": "LayoutModel",
      "_view_count": null,
      "_view_module": "@jupyter-widgets/base",
      "_view_module_version": "1.2.0",
      "_view_name": "LayoutView",
      "align_content": null,
      "align_items": null,
      "align_self": null,
      "border": null,
      "bottom": null,
      "display": null,
      "flex": null,
      "flex_flow": null,
      "grid_area": null,
      "grid_auto_columns": null,
      "grid_auto_flow": null,
      "grid_auto_rows": null,
      "grid_column": null,
      "grid_gap": null,
      "grid_row": null,
      "grid_template_areas": null,
      "grid_template_columns": null,
      "grid_template_rows": null,
      "height": null,
      "justify_content": null,
      "justify_items": null,
      "left": null,
      "margin": null,
      "max_height": null,
      "max_width": null,
      "min_height": null,
      "min_width": null,
      "object_fit": null,
      "object_position": null,
      "order": null,
      "overflow": null,
      "overflow_x": null,
      "overflow_y": null,
      "padding": null,
      "right": null,
      "top": null,
      "visibility": null,
      "width": null
     }
    },
    "3380bfbe1064450e9f7c539d0d597a35": {
     "model_module": "@jupyter-widgets/base",
     "model_name": "LayoutModel",
     "state": {
      "_model_module": "@jupyter-widgets/base",
      "_model_module_version": "1.2.0",
      "_model_name": "LayoutModel",
      "_view_count": null,
      "_view_module": "@jupyter-widgets/base",
      "_view_module_version": "1.2.0",
      "_view_name": "LayoutView",
      "align_content": null,
      "align_items": null,
      "align_self": null,
      "border": null,
      "bottom": null,
      "display": null,
      "flex": null,
      "flex_flow": null,
      "grid_area": null,
      "grid_auto_columns": null,
      "grid_auto_flow": null,
      "grid_auto_rows": null,
      "grid_column": null,
      "grid_gap": null,
      "grid_row": null,
      "grid_template_areas": null,
      "grid_template_columns": null,
      "grid_template_rows": null,
      "height": null,
      "justify_content": null,
      "justify_items": null,
      "left": null,
      "margin": null,
      "max_height": null,
      "max_width": null,
      "min_height": null,
      "min_width": null,
      "object_fit": null,
      "object_position": null,
      "order": null,
      "overflow": null,
      "overflow_x": null,
      "overflow_y": null,
      "padding": null,
      "right": null,
      "top": null,
      "visibility": null,
      "width": null
     }
    },
    "358d77c373374242ae00b0ca368535ea": {
     "model_module": "@jupyter-widgets/controls",
     "model_name": "ProgressStyleModel",
     "state": {
      "_model_module": "@jupyter-widgets/controls",
      "_model_module_version": "1.5.0",
      "_model_name": "ProgressStyleModel",
      "_view_count": null,
      "_view_module": "@jupyter-widgets/base",
      "_view_module_version": "1.2.0",
      "_view_name": "StyleView",
      "bar_color": null,
      "description_width": "initial"
     }
    },
    "36d3910f27554db1bc64751296df7e37": {
     "model_module": "@jupyter-widgets/controls",
     "model_name": "ProgressStyleModel",
     "state": {
      "_model_module": "@jupyter-widgets/controls",
      "_model_module_version": "1.5.0",
      "_model_name": "ProgressStyleModel",
      "_view_count": null,
      "_view_module": "@jupyter-widgets/base",
      "_view_module_version": "1.2.0",
      "_view_name": "StyleView",
      "bar_color": null,
      "description_width": "initial"
     }
    },
    "3d196ffca9d5427e9827d99d99d22219": {
     "model_module": "@jupyter-widgets/base",
     "model_name": "LayoutModel",
     "state": {
      "_model_module": "@jupyter-widgets/base",
      "_model_module_version": "1.2.0",
      "_model_name": "LayoutModel",
      "_view_count": null,
      "_view_module": "@jupyter-widgets/base",
      "_view_module_version": "1.2.0",
      "_view_name": "LayoutView",
      "align_content": null,
      "align_items": null,
      "align_self": null,
      "border": null,
      "bottom": null,
      "display": null,
      "flex": null,
      "flex_flow": null,
      "grid_area": null,
      "grid_auto_columns": null,
      "grid_auto_flow": null,
      "grid_auto_rows": null,
      "grid_column": null,
      "grid_gap": null,
      "grid_row": null,
      "grid_template_areas": null,
      "grid_template_columns": null,
      "grid_template_rows": null,
      "height": null,
      "justify_content": null,
      "justify_items": null,
      "left": null,
      "margin": null,
      "max_height": null,
      "max_width": null,
      "min_height": null,
      "min_width": null,
      "object_fit": null,
      "object_position": null,
      "order": null,
      "overflow": null,
      "overflow_x": null,
      "overflow_y": null,
      "padding": null,
      "right": null,
      "top": null,
      "visibility": null,
      "width": null
     }
    },
    "3e08161cce4b4f5bb7c0d140a09e0974": {
     "model_module": "@jupyter-widgets/controls",
     "model_name": "DescriptionStyleModel",
     "state": {
      "_model_module": "@jupyter-widgets/controls",
      "_model_module_version": "1.5.0",
      "_model_name": "DescriptionStyleModel",
      "_view_count": null,
      "_view_module": "@jupyter-widgets/base",
      "_view_module_version": "1.2.0",
      "_view_name": "StyleView",
      "description_width": ""
     }
    },
    "41cbf4148e74450894643e57ff7b18e9": {
     "model_module": "@jupyter-widgets/controls",
     "model_name": "IntProgressModel",
     "state": {
      "_dom_classes": [],
      "_model_module": "@jupyter-widgets/controls",
      "_model_module_version": "1.5.0",
      "_model_name": "IntProgressModel",
      "_view_count": null,
      "_view_module": "@jupyter-widgets/controls",
      "_view_module_version": "1.5.0",
      "_view_name": "ProgressView",
      "bar_style": "success",
      "description": "Epoch 10",
      "description_tooltip": null,
      "layout": "IPY_MODEL_45dde5369acc4c139de4e7e1348cb964",
      "max": 10,
      "min": 0,
      "orientation": "horizontal",
      "style": "IPY_MODEL_46f4642cdb9a4f0586d2a38e0877a085",
      "value": 10
     }
    },
    "45dde5369acc4c139de4e7e1348cb964": {
     "model_module": "@jupyter-widgets/base",
     "model_name": "LayoutModel",
     "state": {
      "_model_module": "@jupyter-widgets/base",
      "_model_module_version": "1.2.0",
      "_model_name": "LayoutModel",
      "_view_count": null,
      "_view_module": "@jupyter-widgets/base",
      "_view_module_version": "1.2.0",
      "_view_name": "LayoutView",
      "align_content": null,
      "align_items": null,
      "align_self": null,
      "border": null,
      "bottom": null,
      "display": null,
      "flex": null,
      "flex_flow": null,
      "grid_area": null,
      "grid_auto_columns": null,
      "grid_auto_flow": null,
      "grid_auto_rows": null,
      "grid_column": null,
      "grid_gap": null,
      "grid_row": null,
      "grid_template_areas": null,
      "grid_template_columns": null,
      "grid_template_rows": null,
      "height": null,
      "justify_content": null,
      "justify_items": null,
      "left": null,
      "margin": null,
      "max_height": null,
      "max_width": null,
      "min_height": null,
      "min_width": null,
      "object_fit": null,
      "object_position": null,
      "order": null,
      "overflow": null,
      "overflow_x": null,
      "overflow_y": null,
      "padding": null,
      "right": null,
      "top": null,
      "visibility": null,
      "width": null
     }
    },
    "4673d58abc1e41faa241cd7b2f911804": {
     "model_module": "@jupyter-widgets/base",
     "model_name": "LayoutModel",
     "state": {
      "_model_module": "@jupyter-widgets/base",
      "_model_module_version": "1.2.0",
      "_model_name": "LayoutModel",
      "_view_count": null,
      "_view_module": "@jupyter-widgets/base",
      "_view_module_version": "1.2.0",
      "_view_name": "LayoutView",
      "align_content": null,
      "align_items": null,
      "align_self": null,
      "border": null,
      "bottom": null,
      "display": null,
      "flex": null,
      "flex_flow": null,
      "grid_area": null,
      "grid_auto_columns": null,
      "grid_auto_flow": null,
      "grid_auto_rows": null,
      "grid_column": null,
      "grid_gap": null,
      "grid_row": null,
      "grid_template_areas": null,
      "grid_template_columns": null,
      "grid_template_rows": null,
      "height": null,
      "justify_content": null,
      "justify_items": null,
      "left": null,
      "margin": null,
      "max_height": null,
      "max_width": null,
      "min_height": null,
      "min_width": null,
      "object_fit": null,
      "object_position": null,
      "order": null,
      "overflow": null,
      "overflow_x": null,
      "overflow_y": null,
      "padding": null,
      "right": null,
      "top": null,
      "visibility": null,
      "width": null
     }
    },
    "46f4642cdb9a4f0586d2a38e0877a085": {
     "model_module": "@jupyter-widgets/controls",
     "model_name": "ProgressStyleModel",
     "state": {
      "_model_module": "@jupyter-widgets/controls",
      "_model_module_version": "1.5.0",
      "_model_name": "ProgressStyleModel",
      "_view_count": null,
      "_view_module": "@jupyter-widgets/base",
      "_view_module_version": "1.2.0",
      "_view_name": "StyleView",
      "bar_color": null,
      "description_width": "initial"
     }
    },
    "4c6eda25cd11453688eacd648ab09871": {
     "model_module": "@jupyter-widgets/controls",
     "model_name": "HBoxModel",
     "state": {
      "_dom_classes": [],
      "_model_module": "@jupyter-widgets/controls",
      "_model_module_version": "1.5.0",
      "_model_name": "HBoxModel",
      "_view_count": null,
      "_view_module": "@jupyter-widgets/controls",
      "_view_module_version": "1.5.0",
      "_view_name": "HBoxView",
      "box_style": "",
      "children": [
       "IPY_MODEL_c0e62b21b2c74b89a27ef9b8f80aa242",
       "IPY_MODEL_5e611ca89d554ce190fead65416dee9b"
      ],
      "layout": "IPY_MODEL_80c3355dfddb44deb8f817d36848540b"
     }
    },
    "54d8353a3e2d405aa34b630b30d40942": {
     "model_module": "@jupyter-widgets/base",
     "model_name": "LayoutModel",
     "state": {
      "_model_module": "@jupyter-widgets/base",
      "_model_module_version": "1.2.0",
      "_model_name": "LayoutModel",
      "_view_count": null,
      "_view_module": "@jupyter-widgets/base",
      "_view_module_version": "1.2.0",
      "_view_name": "LayoutView",
      "align_content": null,
      "align_items": null,
      "align_self": null,
      "border": null,
      "bottom": null,
      "display": null,
      "flex": null,
      "flex_flow": null,
      "grid_area": null,
      "grid_auto_columns": null,
      "grid_auto_flow": null,
      "grid_auto_rows": null,
      "grid_column": null,
      "grid_gap": null,
      "grid_row": null,
      "grid_template_areas": null,
      "grid_template_columns": null,
      "grid_template_rows": null,
      "height": null,
      "justify_content": null,
      "justify_items": null,
      "left": null,
      "margin": null,
      "max_height": null,
      "max_width": null,
      "min_height": null,
      "min_width": null,
      "object_fit": null,
      "object_position": null,
      "order": null,
      "overflow": null,
      "overflow_x": null,
      "overflow_y": null,
      "padding": null,
      "right": null,
      "top": null,
      "visibility": null,
      "width": null
     }
    },
    "5ba6f5fc454c408e9bc2eaa6683d2288": {
     "model_module": "@jupyter-widgets/base",
     "model_name": "LayoutModel",
     "state": {
      "_model_module": "@jupyter-widgets/base",
      "_model_module_version": "1.2.0",
      "_model_name": "LayoutModel",
      "_view_count": null,
      "_view_module": "@jupyter-widgets/base",
      "_view_module_version": "1.2.0",
      "_view_name": "LayoutView",
      "align_content": null,
      "align_items": null,
      "align_self": null,
      "border": null,
      "bottom": null,
      "display": null,
      "flex": null,
      "flex_flow": null,
      "grid_area": null,
      "grid_auto_columns": null,
      "grid_auto_flow": null,
      "grid_auto_rows": null,
      "grid_column": null,
      "grid_gap": null,
      "grid_row": null,
      "grid_template_areas": null,
      "grid_template_columns": null,
      "grid_template_rows": null,
      "height": null,
      "justify_content": null,
      "justify_items": null,
      "left": null,
      "margin": null,
      "max_height": null,
      "max_width": null,
      "min_height": null,
      "min_width": null,
      "object_fit": null,
      "object_position": null,
      "order": null,
      "overflow": null,
      "overflow_x": null,
      "overflow_y": null,
      "padding": null,
      "right": null,
      "top": null,
      "visibility": null,
      "width": null
     }
    },
    "5e611ca89d554ce190fead65416dee9b": {
     "model_module": "@jupyter-widgets/controls",
     "model_name": "HTMLModel",
     "state": {
      "_dom_classes": [],
      "_model_module": "@jupyter-widgets/controls",
      "_model_module_version": "1.5.0",
      "_model_name": "HTMLModel",
      "_view_count": null,
      "_view_module": "@jupyter-widgets/controls",
      "_view_module_version": "1.5.0",
      "_view_name": "HTMLView",
      "description": "",
      "description_tooltip": null,
      "layout": "IPY_MODEL_3380bfbe1064450e9f7c539d0d597a35",
      "placeholder": "​",
      "style": "IPY_MODEL_e4061b2be76a41f19addfef5001d4bdc",
      "value": "100% 427/427 [03:17&lt;00:00,  2.19it/s, Batch=420, Loss=4.12]"
     }
    },
    "6ab74e892e7e43548128d0c6c5cef9da": {
     "model_module": "@jupyter-widgets/controls",
     "model_name": "ProgressStyleModel",
     "state": {
      "_model_module": "@jupyter-widgets/controls",
      "_model_module_version": "1.5.0",
      "_model_name": "ProgressStyleModel",
      "_view_count": null,
      "_view_module": "@jupyter-widgets/base",
      "_view_module_version": "1.2.0",
      "_view_name": "StyleView",
      "bar_color": null,
      "description_width": "initial"
     }
    },
    "6c0f09478e814bbf98af633b29c6887e": {
     "model_module": "@jupyter-widgets/controls",
     "model_name": "HBoxModel",
     "state": {
      "_dom_classes": [],
      "_model_module": "@jupyter-widgets/controls",
      "_model_module_version": "1.5.0",
      "_model_name": "HBoxModel",
      "_view_count": null,
      "_view_module": "@jupyter-widgets/controls",
      "_view_module_version": "1.5.0",
      "_view_name": "HBoxView",
      "box_style": "",
      "children": [
       "IPY_MODEL_2e8f27fbd09a4fe085b30b1854aaaf63",
       "IPY_MODEL_882b1955797446c29dd55571da16ae99"
      ],
      "layout": "IPY_MODEL_c7efcac7771147edb7c704549f2b0a42"
     }
    },
    "6f14d43a9d8645e7b4d0752caed03394": {
     "model_module": "@jupyter-widgets/controls",
     "model_name": "HBoxModel",
     "state": {
      "_dom_classes": [],
      "_model_module": "@jupyter-widgets/controls",
      "_model_module_version": "1.5.0",
      "_model_name": "HBoxModel",
      "_view_count": null,
      "_view_module": "@jupyter-widgets/controls",
      "_view_module_version": "1.5.0",
      "_view_name": "HBoxView",
      "box_style": "",
      "children": [
       "IPY_MODEL_7f6eacded6a441aa821c40eb48810544",
       "IPY_MODEL_0cfb5835d6c94ca0b0995df4c0a24c68"
      ],
      "layout": "IPY_MODEL_e02f964ca01b4cb6afb10d25ee5c41e1"
     }
    },
    "72aa3a7c2ea5483ab79dd4a1f4ee5384": {
     "model_module": "@jupyter-widgets/controls",
     "model_name": "HBoxModel",
     "state": {
      "_dom_classes": [],
      "_model_module": "@jupyter-widgets/controls",
      "_model_module_version": "1.5.0",
      "_model_name": "HBoxModel",
      "_view_count": null,
      "_view_module": "@jupyter-widgets/controls",
      "_view_module_version": "1.5.0",
      "_view_name": "HBoxView",
      "box_style": "",
      "children": [
       "IPY_MODEL_7fce399ae71448a4983b9d86255dfdd8",
       "IPY_MODEL_0091b76976dd41f2bde30b6afe094fb0"
      ],
      "layout": "IPY_MODEL_f2355ef07cc741c08b8617230657730c"
     }
    },
    "7375e784a94146149b2b53fca801b80b": {
     "model_module": "@jupyter-widgets/base",
     "model_name": "LayoutModel",
     "state": {
      "_model_module": "@jupyter-widgets/base",
      "_model_module_version": "1.2.0",
      "_model_name": "LayoutModel",
      "_view_count": null,
      "_view_module": "@jupyter-widgets/base",
      "_view_module_version": "1.2.0",
      "_view_name": "LayoutView",
      "align_content": null,
      "align_items": null,
      "align_self": null,
      "border": null,
      "bottom": null,
      "display": null,
      "flex": null,
      "flex_flow": null,
      "grid_area": null,
      "grid_auto_columns": null,
      "grid_auto_flow": null,
      "grid_auto_rows": null,
      "grid_column": null,
      "grid_gap": null,
      "grid_row": null,
      "grid_template_areas": null,
      "grid_template_columns": null,
      "grid_template_rows": null,
      "height": null,
      "justify_content": null,
      "justify_items": null,
      "left": null,
      "margin": null,
      "max_height": null,
      "max_width": null,
      "min_height": null,
      "min_width": null,
      "object_fit": null,
      "object_position": null,
      "order": null,
      "overflow": null,
      "overflow_x": null,
      "overflow_y": null,
      "padding": null,
      "right": null,
      "top": null,
      "visibility": null,
      "width": null
     }
    },
    "73d5e005615d43b29536ec21ece3f007": {
     "model_module": "@jupyter-widgets/controls",
     "model_name": "IntProgressModel",
     "state": {
      "_dom_classes": [],
      "_model_module": "@jupyter-widgets/controls",
      "_model_module_version": "1.5.0",
      "_model_name": "IntProgressModel",
      "_view_count": null,
      "_view_module": "@jupyter-widgets/controls",
      "_view_module_version": "1.5.0",
      "_view_name": "ProgressView",
      "bar_style": "success",
      "description": "Epoch 4",
      "description_tooltip": null,
      "layout": "IPY_MODEL_a847e407b51c49f88f8c339b454bdccf",
      "max": 427,
      "min": 0,
      "orientation": "horizontal",
      "style": "IPY_MODEL_134ee0df50cf43908251b8918d5937f1",
      "value": 427
     }
    },
    "76f4b55c80e043208f1627f6d2c6f0d1": {
     "model_module": "@jupyter-widgets/controls",
     "model_name": "ProgressStyleModel",
     "state": {
      "_model_module": "@jupyter-widgets/controls",
      "_model_module_version": "1.5.0",
      "_model_name": "ProgressStyleModel",
      "_view_count": null,
      "_view_module": "@jupyter-widgets/base",
      "_view_module_version": "1.2.0",
      "_view_name": "StyleView",
      "bar_color": null,
      "description_width": "initial"
     }
    },
    "7d6bdcf30baf40679b62be39ca469125": {
     "model_module": "@jupyter-widgets/controls",
     "model_name": "HTMLModel",
     "state": {
      "_dom_classes": [],
      "_model_module": "@jupyter-widgets/controls",
      "_model_module_version": "1.5.0",
      "_model_name": "HTMLModel",
      "_view_count": null,
      "_view_module": "@jupyter-widgets/controls",
      "_view_module_version": "1.5.0",
      "_view_name": "HTMLView",
      "description": "",
      "description_tooltip": null,
      "layout": "IPY_MODEL_9807774e61ca4f67bf8dea823633042d",
      "placeholder": "​",
      "style": "IPY_MODEL_2bfdbbed84864aa0b6991e3776c5f0dd",
      "value": "100% 427/427 [03:16&lt;00:00,  2.19it/s, Batch=420, Loss=4.22]"
     }
    },
    "7f6eacded6a441aa821c40eb48810544": {
     "model_module": "@jupyter-widgets/controls",
     "model_name": "IntProgressModel",
     "state": {
      "_dom_classes": [],
      "_model_module": "@jupyter-widgets/controls",
      "_model_module_version": "1.5.0",
      "_model_name": "IntProgressModel",
      "_view_count": null,
      "_view_module": "@jupyter-widgets/controls",
      "_view_module_version": "1.5.0",
      "_view_name": "ProgressView",
      "bar_style": "success",
      "description": "Epoch 2",
      "description_tooltip": null,
      "layout": "IPY_MODEL_a4fc757e88de49d5ac0e87e015967711",
      "max": 427,
      "min": 0,
      "orientation": "horizontal",
      "style": "IPY_MODEL_358d77c373374242ae00b0ca368535ea",
      "value": 427
     }
    },
    "7fce399ae71448a4983b9d86255dfdd8": {
     "model_module": "@jupyter-widgets/controls",
     "model_name": "IntProgressModel",
     "state": {
      "_dom_classes": [],
      "_model_module": "@jupyter-widgets/controls",
      "_model_module_version": "1.5.0",
      "_model_name": "IntProgressModel",
      "_view_count": null,
      "_view_module": "@jupyter-widgets/controls",
      "_view_module_version": "1.5.0",
      "_view_name": "ProgressView",
      "bar_style": "success",
      "description": "Epoch 3",
      "description_tooltip": null,
      "layout": "IPY_MODEL_f8bbeb6c8e2c4206a99f251a509b56f3",
      "max": 427,
      "min": 0,
      "orientation": "horizontal",
      "style": "IPY_MODEL_bec98121840e4e33b17e90d3f4a99972",
      "value": 427
     }
    },
    "80c3355dfddb44deb8f817d36848540b": {
     "model_module": "@jupyter-widgets/base",
     "model_name": "LayoutModel",
     "state": {
      "_model_module": "@jupyter-widgets/base",
      "_model_module_version": "1.2.0",
      "_model_name": "LayoutModel",
      "_view_count": null,
      "_view_module": "@jupyter-widgets/base",
      "_view_module_version": "1.2.0",
      "_view_name": "LayoutView",
      "align_content": null,
      "align_items": null,
      "align_self": null,
      "border": null,
      "bottom": null,
      "display": null,
      "flex": null,
      "flex_flow": null,
      "grid_area": null,
      "grid_auto_columns": null,
      "grid_auto_flow": null,
      "grid_auto_rows": null,
      "grid_column": null,
      "grid_gap": null,
      "grid_row": null,
      "grid_template_areas": null,
      "grid_template_columns": null,
      "grid_template_rows": null,
      "height": null,
      "justify_content": null,
      "justify_items": null,
      "left": null,
      "margin": null,
      "max_height": null,
      "max_width": null,
      "min_height": null,
      "min_width": null,
      "object_fit": null,
      "object_position": null,
      "order": null,
      "overflow": null,
      "overflow_x": null,
      "overflow_y": null,
      "padding": null,
      "right": null,
      "top": null,
      "visibility": null,
      "width": null
     }
    },
    "882b1955797446c29dd55571da16ae99": {
     "model_module": "@jupyter-widgets/controls",
     "model_name": "HTMLModel",
     "state": {
      "_dom_classes": [],
      "_model_module": "@jupyter-widgets/controls",
      "_model_module_version": "1.5.0",
      "_model_name": "HTMLModel",
      "_view_count": null,
      "_view_module": "@jupyter-widgets/controls",
      "_view_module_version": "1.5.0",
      "_view_name": "HTMLView",
      "description": "",
      "description_tooltip": null,
      "layout": "IPY_MODEL_23c20abb27964c0aa8cfd5fd087e6da4",
      "placeholder": "​",
      "style": "IPY_MODEL_bc4c90a7529344c7b27016de704c4106",
      "value": "100% 427/427 [03:16&lt;00:00,  2.21it/s, Batch=420, Loss=3.08]"
     }
    },
    "8c6736ce14214719820962c8b9ea8485": {
     "model_module": "@jupyter-widgets/base",
     "model_name": "LayoutModel",
     "state": {
      "_model_module": "@jupyter-widgets/base",
      "_model_module_version": "1.2.0",
      "_model_name": "LayoutModel",
      "_view_count": null,
      "_view_module": "@jupyter-widgets/base",
      "_view_module_version": "1.2.0",
      "_view_name": "LayoutView",
      "align_content": null,
      "align_items": null,
      "align_self": null,
      "border": null,
      "bottom": null,
      "display": null,
      "flex": null,
      "flex_flow": null,
      "grid_area": null,
      "grid_auto_columns": null,
      "grid_auto_flow": null,
      "grid_auto_rows": null,
      "grid_column": null,
      "grid_gap": null,
      "grid_row": null,
      "grid_template_areas": null,
      "grid_template_columns": null,
      "grid_template_rows": null,
      "height": null,
      "justify_content": null,
      "justify_items": null,
      "left": null,
      "margin": null,
      "max_height": null,
      "max_width": null,
      "min_height": null,
      "min_width": null,
      "object_fit": null,
      "object_position": null,
      "order": null,
      "overflow": null,
      "overflow_x": null,
      "overflow_y": null,
      "padding": null,
      "right": null,
      "top": null,
      "visibility": null,
      "width": null
     }
    },
    "96b927dcd3824c62862d0579f3d8cd7b": {
     "model_module": "@jupyter-widgets/base",
     "model_name": "LayoutModel",
     "state": {
      "_model_module": "@jupyter-widgets/base",
      "_model_module_version": "1.2.0",
      "_model_name": "LayoutModel",
      "_view_count": null,
      "_view_module": "@jupyter-widgets/base",
      "_view_module_version": "1.2.0",
      "_view_name": "LayoutView",
      "align_content": null,
      "align_items": null,
      "align_self": null,
      "border": null,
      "bottom": null,
      "display": null,
      "flex": null,
      "flex_flow": null,
      "grid_area": null,
      "grid_auto_columns": null,
      "grid_auto_flow": null,
      "grid_auto_rows": null,
      "grid_column": null,
      "grid_gap": null,
      "grid_row": null,
      "grid_template_areas": null,
      "grid_template_columns": null,
      "grid_template_rows": null,
      "height": null,
      "justify_content": null,
      "justify_items": null,
      "left": null,
      "margin": null,
      "max_height": null,
      "max_width": null,
      "min_height": null,
      "min_width": null,
      "object_fit": null,
      "object_position": null,
      "order": null,
      "overflow": null,
      "overflow_x": null,
      "overflow_y": null,
      "padding": null,
      "right": null,
      "top": null,
      "visibility": null,
      "width": null
     }
    },
    "9807774e61ca4f67bf8dea823633042d": {
     "model_module": "@jupyter-widgets/base",
     "model_name": "LayoutModel",
     "state": {
      "_model_module": "@jupyter-widgets/base",
      "_model_module_version": "1.2.0",
      "_model_name": "LayoutModel",
      "_view_count": null,
      "_view_module": "@jupyter-widgets/base",
      "_view_module_version": "1.2.0",
      "_view_name": "LayoutView",
      "align_content": null,
      "align_items": null,
      "align_self": null,
      "border": null,
      "bottom": null,
      "display": null,
      "flex": null,
      "flex_flow": null,
      "grid_area": null,
      "grid_auto_columns": null,
      "grid_auto_flow": null,
      "grid_auto_rows": null,
      "grid_column": null,
      "grid_gap": null,
      "grid_row": null,
      "grid_template_areas": null,
      "grid_template_columns": null,
      "grid_template_rows": null,
      "height": null,
      "justify_content": null,
      "justify_items": null,
      "left": null,
      "margin": null,
      "max_height": null,
      "max_width": null,
      "min_height": null,
      "min_width": null,
      "object_fit": null,
      "object_position": null,
      "order": null,
      "overflow": null,
      "overflow_x": null,
      "overflow_y": null,
      "padding": null,
      "right": null,
      "top": null,
      "visibility": null,
      "width": null
     }
    },
    "9895c53a5ec848cabdab6c4b677eca95": {
     "model_module": "@jupyter-widgets/controls",
     "model_name": "HBoxModel",
     "state": {
      "_dom_classes": [],
      "_model_module": "@jupyter-widgets/controls",
      "_model_module_version": "1.5.0",
      "_model_name": "HBoxModel",
      "_view_count": null,
      "_view_module": "@jupyter-widgets/controls",
      "_view_module_version": "1.5.0",
      "_view_name": "HBoxView",
      "box_style": "",
      "children": [
       "IPY_MODEL_2869aafed853467290a83a8a9c17ef2e",
       "IPY_MODEL_c9e684eab1d1487ea1b3893480a00405"
      ],
      "layout": "IPY_MODEL_7375e784a94146149b2b53fca801b80b"
     }
    },
    "9b3050816400484f922bb38037d61ebc": {
     "model_module": "@jupyter-widgets/controls",
     "model_name": "DescriptionStyleModel",
     "state": {
      "_model_module": "@jupyter-widgets/controls",
      "_model_module_version": "1.5.0",
      "_model_name": "DescriptionStyleModel",
      "_view_count": null,
      "_view_module": "@jupyter-widgets/base",
      "_view_module_version": "1.2.0",
      "_view_name": "StyleView",
      "description_width": ""
     }
    },
    "a4fc757e88de49d5ac0e87e015967711": {
     "model_module": "@jupyter-widgets/base",
     "model_name": "LayoutModel",
     "state": {
      "_model_module": "@jupyter-widgets/base",
      "_model_module_version": "1.2.0",
      "_model_name": "LayoutModel",
      "_view_count": null,
      "_view_module": "@jupyter-widgets/base",
      "_view_module_version": "1.2.0",
      "_view_name": "LayoutView",
      "align_content": null,
      "align_items": null,
      "align_self": null,
      "border": null,
      "bottom": null,
      "display": null,
      "flex": null,
      "flex_flow": null,
      "grid_area": null,
      "grid_auto_columns": null,
      "grid_auto_flow": null,
      "grid_auto_rows": null,
      "grid_column": null,
      "grid_gap": null,
      "grid_row": null,
      "grid_template_areas": null,
      "grid_template_columns": null,
      "grid_template_rows": null,
      "height": null,
      "justify_content": null,
      "justify_items": null,
      "left": null,
      "margin": null,
      "max_height": null,
      "max_width": null,
      "min_height": null,
      "min_width": null,
      "object_fit": null,
      "object_position": null,
      "order": null,
      "overflow": null,
      "overflow_x": null,
      "overflow_y": null,
      "padding": null,
      "right": null,
      "top": null,
      "visibility": null,
      "width": null
     }
    },
    "a847e407b51c49f88f8c339b454bdccf": {
     "model_module": "@jupyter-widgets/base",
     "model_name": "LayoutModel",
     "state": {
      "_model_module": "@jupyter-widgets/base",
      "_model_module_version": "1.2.0",
      "_model_name": "LayoutModel",
      "_view_count": null,
      "_view_module": "@jupyter-widgets/base",
      "_view_module_version": "1.2.0",
      "_view_name": "LayoutView",
      "align_content": null,
      "align_items": null,
      "align_self": null,
      "border": null,
      "bottom": null,
      "display": null,
      "flex": null,
      "flex_flow": null,
      "grid_area": null,
      "grid_auto_columns": null,
      "grid_auto_flow": null,
      "grid_auto_rows": null,
      "grid_column": null,
      "grid_gap": null,
      "grid_row": null,
      "grid_template_areas": null,
      "grid_template_columns": null,
      "grid_template_rows": null,
      "height": null,
      "justify_content": null,
      "justify_items": null,
      "left": null,
      "margin": null,
      "max_height": null,
      "max_width": null,
      "min_height": null,
      "min_width": null,
      "object_fit": null,
      "object_position": null,
      "order": null,
      "overflow": null,
      "overflow_x": null,
      "overflow_y": null,
      "padding": null,
      "right": null,
      "top": null,
      "visibility": null,
      "width": null
     }
    },
    "ac56c63f56d049c3bcd0942805feaefc": {
     "model_module": "@jupyter-widgets/base",
     "model_name": "LayoutModel",
     "state": {
      "_model_module": "@jupyter-widgets/base",
      "_model_module_version": "1.2.0",
      "_model_name": "LayoutModel",
      "_view_count": null,
      "_view_module": "@jupyter-widgets/base",
      "_view_module_version": "1.2.0",
      "_view_name": "LayoutView",
      "align_content": null,
      "align_items": null,
      "align_self": null,
      "border": null,
      "bottom": null,
      "display": null,
      "flex": null,
      "flex_flow": null,
      "grid_area": null,
      "grid_auto_columns": null,
      "grid_auto_flow": null,
      "grid_auto_rows": null,
      "grid_column": null,
      "grid_gap": null,
      "grid_row": null,
      "grid_template_areas": null,
      "grid_template_columns": null,
      "grid_template_rows": null,
      "height": null,
      "justify_content": null,
      "justify_items": null,
      "left": null,
      "margin": null,
      "max_height": null,
      "max_width": null,
      "min_height": null,
      "min_width": null,
      "object_fit": null,
      "object_position": null,
      "order": null,
      "overflow": null,
      "overflow_x": null,
      "overflow_y": null,
      "padding": null,
      "right": null,
      "top": null,
      "visibility": null,
      "width": null
     }
    },
    "ac81ffaa1573415893afb556b0c81787": {
     "model_module": "@jupyter-widgets/controls",
     "model_name": "ProgressStyleModel",
     "state": {
      "_model_module": "@jupyter-widgets/controls",
      "_model_module_version": "1.5.0",
      "_model_name": "ProgressStyleModel",
      "_view_count": null,
      "_view_module": "@jupyter-widgets/base",
      "_view_module_version": "1.2.0",
      "_view_name": "StyleView",
      "bar_color": null,
      "description_width": "initial"
     }
    },
    "b0de7477a0dc46bba324b4dcfb776674": {
     "model_module": "@jupyter-widgets/controls",
     "model_name": "HBoxModel",
     "state": {
      "_dom_classes": [],
      "_model_module": "@jupyter-widgets/controls",
      "_model_module_version": "1.5.0",
      "_model_name": "HBoxModel",
      "_view_count": null,
      "_view_module": "@jupyter-widgets/controls",
      "_view_module_version": "1.5.0",
      "_view_name": "HBoxView",
      "box_style": "",
      "children": [
       "IPY_MODEL_f88729084a01414fb2b4fc9bc871e09e",
       "IPY_MODEL_b2facd17345e450fb717652314eb6996"
      ],
      "layout": "IPY_MODEL_00323ec860524b069c054da5f895dc71"
     }
    },
    "b2facd17345e450fb717652314eb6996": {
     "model_module": "@jupyter-widgets/controls",
     "model_name": "HTMLModel",
     "state": {
      "_dom_classes": [],
      "_model_module": "@jupyter-widgets/controls",
      "_model_module_version": "1.5.0",
      "_model_name": "HTMLModel",
      "_view_count": null,
      "_view_module": "@jupyter-widgets/controls",
      "_view_module_version": "1.5.0",
      "_view_name": "HTMLView",
      "description": "",
      "description_tooltip": null,
      "layout": "IPY_MODEL_1cd6348f8f594be3b2f6bcb035d88b33",
      "placeholder": "​",
      "style": "IPY_MODEL_3e08161cce4b4f5bb7c0d140a09e0974",
      "value": "100% 427/427 [03:16&lt;00:00,  2.17it/s, Batch=420, Loss=3.53]"
     }
    },
    "b34179d8b0e844f584d532086c94de02": {
     "model_module": "@jupyter-widgets/controls",
     "model_name": "HTMLModel",
     "state": {
      "_dom_classes": [],
      "_model_module": "@jupyter-widgets/controls",
      "_model_module_version": "1.5.0",
      "_model_name": "HTMLModel",
      "_view_count": null,
      "_view_module": "@jupyter-widgets/controls",
      "_view_module_version": "1.5.0",
      "_view_name": "HTMLView",
      "description": "",
      "description_tooltip": null,
      "layout": "IPY_MODEL_ac56c63f56d049c3bcd0942805feaefc",
      "placeholder": "​",
      "style": "IPY_MODEL_c605e60d78204359b3cecb49c916bb37",
      "value": "100% 10/10 [34:28&lt;00:00, 200.83s/it, Loss=2.94]"
     }
    },
    "b6d3cd8c2e684858abefa3a0074e6bf1": {
     "model_module": "@jupyter-widgets/base",
     "model_name": "LayoutModel",
     "state": {
      "_model_module": "@jupyter-widgets/base",
      "_model_module_version": "1.2.0",
      "_model_name": "LayoutModel",
      "_view_count": null,
      "_view_module": "@jupyter-widgets/base",
      "_view_module_version": "1.2.0",
      "_view_name": "LayoutView",
      "align_content": null,
      "align_items": null,
      "align_self": null,
      "border": null,
      "bottom": null,
      "display": null,
      "flex": null,
      "flex_flow": null,
      "grid_area": null,
      "grid_auto_columns": null,
      "grid_auto_flow": null,
      "grid_auto_rows": null,
      "grid_column": null,
      "grid_gap": null,
      "grid_row": null,
      "grid_template_areas": null,
      "grid_template_columns": null,
      "grid_template_rows": null,
      "height": null,
      "justify_content": null,
      "justify_items": null,
      "left": null,
      "margin": null,
      "max_height": null,
      "max_width": null,
      "min_height": null,
      "min_width": null,
      "object_fit": null,
      "object_position": null,
      "order": null,
      "overflow": null,
      "overflow_x": null,
      "overflow_y": null,
      "padding": null,
      "right": null,
      "top": null,
      "visibility": null,
      "width": null
     }
    },
    "b6dba2e470ef45f799225cfd09e23a58": {
     "model_module": "@jupyter-widgets/controls",
     "model_name": "HBoxModel",
     "state": {
      "_dom_classes": [],
      "_model_module": "@jupyter-widgets/controls",
      "_model_module_version": "1.5.0",
      "_model_name": "HBoxModel",
      "_view_count": null,
      "_view_module": "@jupyter-widgets/controls",
      "_view_module_version": "1.5.0",
      "_view_name": "HBoxView",
      "box_style": "",
      "children": [
       "IPY_MODEL_41cbf4148e74450894643e57ff7b18e9",
       "IPY_MODEL_b34179d8b0e844f584d532086c94de02"
      ],
      "layout": "IPY_MODEL_00f77d72740f43959dd27a7fc2b8db3e"
     }
    },
    "b88b53e2487e40638dfe928b130dc115": {
     "model_module": "@jupyter-widgets/base",
     "model_name": "LayoutModel",
     "state": {
      "_model_module": "@jupyter-widgets/base",
      "_model_module_version": "1.2.0",
      "_model_name": "LayoutModel",
      "_view_count": null,
      "_view_module": "@jupyter-widgets/base",
      "_view_module_version": "1.2.0",
      "_view_name": "LayoutView",
      "align_content": null,
      "align_items": null,
      "align_self": null,
      "border": null,
      "bottom": null,
      "display": null,
      "flex": null,
      "flex_flow": null,
      "grid_area": null,
      "grid_auto_columns": null,
      "grid_auto_flow": null,
      "grid_auto_rows": null,
      "grid_column": null,
      "grid_gap": null,
      "grid_row": null,
      "grid_template_areas": null,
      "grid_template_columns": null,
      "grid_template_rows": null,
      "height": null,
      "justify_content": null,
      "justify_items": null,
      "left": null,
      "margin": null,
      "max_height": null,
      "max_width": null,
      "min_height": null,
      "min_width": null,
      "object_fit": null,
      "object_position": null,
      "order": null,
      "overflow": null,
      "overflow_x": null,
      "overflow_y": null,
      "padding": null,
      "right": null,
      "top": null,
      "visibility": null,
      "width": null
     }
    },
    "b9cc99952cfe462f8d2259d863d673e3": {
     "model_module": "@jupyter-widgets/controls",
     "model_name": "HBoxModel",
     "state": {
      "_dom_classes": [],
      "_model_module": "@jupyter-widgets/controls",
      "_model_module_version": "1.5.0",
      "_model_name": "HBoxModel",
      "_view_count": null,
      "_view_module": "@jupyter-widgets/controls",
      "_view_module_version": "1.5.0",
      "_view_name": "HBoxView",
      "box_style": "",
      "children": [
       "IPY_MODEL_22941dbfc9ac4fcea571accfb7795444",
       "IPY_MODEL_2a39e61c1a1c439cafacd890ed2086c6"
      ],
      "layout": "IPY_MODEL_0f770dc632dd4b00851707619f8fdf83"
     }
    },
    "bc4bdf27a17e48ada350dde57cfb6b52": {
     "model_module": "@jupyter-widgets/controls",
     "model_name": "DescriptionStyleModel",
     "state": {
      "_model_module": "@jupyter-widgets/controls",
      "_model_module_version": "1.5.0",
      "_model_name": "DescriptionStyleModel",
      "_view_count": null,
      "_view_module": "@jupyter-widgets/base",
      "_view_module_version": "1.2.0",
      "_view_name": "StyleView",
      "description_width": ""
     }
    },
    "bc4c90a7529344c7b27016de704c4106": {
     "model_module": "@jupyter-widgets/controls",
     "model_name": "DescriptionStyleModel",
     "state": {
      "_model_module": "@jupyter-widgets/controls",
      "_model_module_version": "1.5.0",
      "_model_name": "DescriptionStyleModel",
      "_view_count": null,
      "_view_module": "@jupyter-widgets/base",
      "_view_module_version": "1.2.0",
      "_view_name": "StyleView",
      "description_width": ""
     }
    },
    "bec98121840e4e33b17e90d3f4a99972": {
     "model_module": "@jupyter-widgets/controls",
     "model_name": "ProgressStyleModel",
     "state": {
      "_model_module": "@jupyter-widgets/controls",
      "_model_module_version": "1.5.0",
      "_model_name": "ProgressStyleModel",
      "_view_count": null,
      "_view_module": "@jupyter-widgets/base",
      "_view_module_version": "1.2.0",
      "_view_name": "StyleView",
      "bar_color": null,
      "description_width": "initial"
     }
    },
    "bf0d072fecc443cead1961578e48a5bc": {
     "model_module": "@jupyter-widgets/controls",
     "model_name": "ProgressStyleModel",
     "state": {
      "_model_module": "@jupyter-widgets/controls",
      "_model_module_version": "1.5.0",
      "_model_name": "ProgressStyleModel",
      "_view_count": null,
      "_view_module": "@jupyter-widgets/base",
      "_view_module_version": "1.2.0",
      "_view_name": "StyleView",
      "bar_color": null,
      "description_width": "initial"
     }
    },
    "c0e62b21b2c74b89a27ef9b8f80aa242": {
     "model_module": "@jupyter-widgets/controls",
     "model_name": "IntProgressModel",
     "state": {
      "_dom_classes": [],
      "_model_module": "@jupyter-widgets/controls",
      "_model_module_version": "1.5.0",
      "_model_name": "IntProgressModel",
      "_view_count": null,
      "_view_module": "@jupyter-widgets/controls",
      "_view_module_version": "1.5.0",
      "_view_name": "ProgressView",
      "bar_style": "success",
      "description": "Epoch 5",
      "description_tooltip": null,
      "layout": "IPY_MODEL_ce96a3ca3ba34d1a861d12df828c1f32",
      "max": 427,
      "min": 0,
      "orientation": "horizontal",
      "style": "IPY_MODEL_110195c3c14d4117bdb0c25eb86dc2ac",
      "value": 427
     }
    },
    "c3e71b95ea1c4c5db6f45c8d4746baf0": {
     "model_module": "@jupyter-widgets/controls",
     "model_name": "DescriptionStyleModel",
     "state": {
      "_model_module": "@jupyter-widgets/controls",
      "_model_module_version": "1.5.0",
      "_model_name": "DescriptionStyleModel",
      "_view_count": null,
      "_view_module": "@jupyter-widgets/base",
      "_view_module_version": "1.2.0",
      "_view_name": "StyleView",
      "description_width": ""
     }
    },
    "c422e092805e40048023ffdc4c260eb1": {
     "model_module": "@jupyter-widgets/controls",
     "model_name": "HBoxModel",
     "state": {
      "_dom_classes": [],
      "_model_module": "@jupyter-widgets/controls",
      "_model_module_version": "1.5.0",
      "_model_name": "HBoxModel",
      "_view_count": null,
      "_view_module": "@jupyter-widgets/controls",
      "_view_module_version": "1.5.0",
      "_view_name": "HBoxView",
      "box_style": "",
      "children": [
       "IPY_MODEL_d3d3663ecf5b4764927047b436081ce5",
       "IPY_MODEL_d78ecab173c949a3a552cb89bd0478a2"
      ],
      "layout": "IPY_MODEL_289312668988414e99ea2f97066d138e"
     }
    },
    "c605e60d78204359b3cecb49c916bb37": {
     "model_module": "@jupyter-widgets/controls",
     "model_name": "DescriptionStyleModel",
     "state": {
      "_model_module": "@jupyter-widgets/controls",
      "_model_module_version": "1.5.0",
      "_model_name": "DescriptionStyleModel",
      "_view_count": null,
      "_view_module": "@jupyter-widgets/base",
      "_view_module_version": "1.2.0",
      "_view_name": "StyleView",
      "description_width": ""
     }
    },
    "c7efcac7771147edb7c704549f2b0a42": {
     "model_module": "@jupyter-widgets/base",
     "model_name": "LayoutModel",
     "state": {
      "_model_module": "@jupyter-widgets/base",
      "_model_module_version": "1.2.0",
      "_model_name": "LayoutModel",
      "_view_count": null,
      "_view_module": "@jupyter-widgets/base",
      "_view_module_version": "1.2.0",
      "_view_name": "LayoutView",
      "align_content": null,
      "align_items": null,
      "align_self": null,
      "border": null,
      "bottom": null,
      "display": null,
      "flex": null,
      "flex_flow": null,
      "grid_area": null,
      "grid_auto_columns": null,
      "grid_auto_flow": null,
      "grid_auto_rows": null,
      "grid_column": null,
      "grid_gap": null,
      "grid_row": null,
      "grid_template_areas": null,
      "grid_template_columns": null,
      "grid_template_rows": null,
      "height": null,
      "justify_content": null,
      "justify_items": null,
      "left": null,
      "margin": null,
      "max_height": null,
      "max_width": null,
      "min_height": null,
      "min_width": null,
      "object_fit": null,
      "object_position": null,
      "order": null,
      "overflow": null,
      "overflow_x": null,
      "overflow_y": null,
      "padding": null,
      "right": null,
      "top": null,
      "visibility": null,
      "width": null
     }
    },
    "c9e684eab1d1487ea1b3893480a00405": {
     "model_module": "@jupyter-widgets/controls",
     "model_name": "HTMLModel",
     "state": {
      "_dom_classes": [],
      "_model_module": "@jupyter-widgets/controls",
      "_model_module_version": "1.5.0",
      "_model_name": "HTMLModel",
      "_view_count": null,
      "_view_module": "@jupyter-widgets/controls",
      "_view_module_version": "1.5.0",
      "_view_name": "HTMLView",
      "description": "",
      "description_tooltip": null,
      "layout": "IPY_MODEL_96b927dcd3824c62862d0579f3d8cd7b",
      "placeholder": "​",
      "style": "IPY_MODEL_fade0b280467465e9f6d1a7bb7bda9d7",
      "value": "100% 427/427 [03:16&lt;00:00,  2.14it/s, Batch=420, Loss=3.56]"
     }
    },
    "cbf6f9dac21d415b8ada1012c5ecc135": {
     "model_module": "@jupyter-widgets/controls",
     "model_name": "DescriptionStyleModel",
     "state": {
      "_model_module": "@jupyter-widgets/controls",
      "_model_module_version": "1.5.0",
      "_model_name": "DescriptionStyleModel",
      "_view_count": null,
      "_view_module": "@jupyter-widgets/base",
      "_view_module_version": "1.2.0",
      "_view_name": "StyleView",
      "description_width": ""
     }
    },
    "ce96a3ca3ba34d1a861d12df828c1f32": {
     "model_module": "@jupyter-widgets/base",
     "model_name": "LayoutModel",
     "state": {
      "_model_module": "@jupyter-widgets/base",
      "_model_module_version": "1.2.0",
      "_model_name": "LayoutModel",
      "_view_count": null,
      "_view_module": "@jupyter-widgets/base",
      "_view_module_version": "1.2.0",
      "_view_name": "LayoutView",
      "align_content": null,
      "align_items": null,
      "align_self": null,
      "border": null,
      "bottom": null,
      "display": null,
      "flex": null,
      "flex_flow": null,
      "grid_area": null,
      "grid_auto_columns": null,
      "grid_auto_flow": null,
      "grid_auto_rows": null,
      "grid_column": null,
      "grid_gap": null,
      "grid_row": null,
      "grid_template_areas": null,
      "grid_template_columns": null,
      "grid_template_rows": null,
      "height": null,
      "justify_content": null,
      "justify_items": null,
      "left": null,
      "margin": null,
      "max_height": null,
      "max_width": null,
      "min_height": null,
      "min_width": null,
      "object_fit": null,
      "object_position": null,
      "order": null,
      "overflow": null,
      "overflow_x": null,
      "overflow_y": null,
      "padding": null,
      "right": null,
      "top": null,
      "visibility": null,
      "width": null
     }
    },
    "d3d3663ecf5b4764927047b436081ce5": {
     "model_module": "@jupyter-widgets/controls",
     "model_name": "IntProgressModel",
     "state": {
      "_dom_classes": [],
      "_model_module": "@jupyter-widgets/controls",
      "_model_module_version": "1.5.0",
      "_model_name": "IntProgressModel",
      "_view_count": null,
      "_view_module": "@jupyter-widgets/controls",
      "_view_module_version": "1.5.0",
      "_view_name": "ProgressView",
      "bar_style": "success",
      "description": "Epoch 1",
      "description_tooltip": null,
      "layout": "IPY_MODEL_4673d58abc1e41faa241cd7b2f911804",
      "max": 427,
      "min": 0,
      "orientation": "horizontal",
      "style": "IPY_MODEL_bf0d072fecc443cead1961578e48a5bc",
      "value": 427
     }
    },
    "d78ecab173c949a3a552cb89bd0478a2": {
     "model_module": "@jupyter-widgets/controls",
     "model_name": "HTMLModel",
     "state": {
      "_dom_classes": [],
      "_model_module": "@jupyter-widgets/controls",
      "_model_module_version": "1.5.0",
      "_model_name": "HTMLModel",
      "_view_count": null,
      "_view_module": "@jupyter-widgets/controls",
      "_view_module_version": "1.5.0",
      "_view_name": "HTMLView",
      "description": "",
      "description_tooltip": null,
      "layout": "IPY_MODEL_29337fc06519468f886fd922e33a9809",
      "placeholder": "​",
      "style": "IPY_MODEL_bc4bdf27a17e48ada350dde57cfb6b52",
      "value": "100% 427/427 [04:54&lt;00:00,  2.16it/s, Batch=420, Loss=5.16]"
     }
    },
    "d937f3d845f843e2aa6067bab97e1b7f": {
     "model_module": "@jupyter-widgets/base",
     "model_name": "LayoutModel",
     "state": {
      "_model_module": "@jupyter-widgets/base",
      "_model_module_version": "1.2.0",
      "_model_name": "LayoutModel",
      "_view_count": null,
      "_view_module": "@jupyter-widgets/base",
      "_view_module_version": "1.2.0",
      "_view_name": "LayoutView",
      "align_content": null,
      "align_items": null,
      "align_self": null,
      "border": null,
      "bottom": null,
      "display": null,
      "flex": null,
      "flex_flow": null,
      "grid_area": null,
      "grid_auto_columns": null,
      "grid_auto_flow": null,
      "grid_auto_rows": null,
      "grid_column": null,
      "grid_gap": null,
      "grid_row": null,
      "grid_template_areas": null,
      "grid_template_columns": null,
      "grid_template_rows": null,
      "height": null,
      "justify_content": null,
      "justify_items": null,
      "left": null,
      "margin": null,
      "max_height": null,
      "max_width": null,
      "min_height": null,
      "min_width": null,
      "object_fit": null,
      "object_position": null,
      "order": null,
      "overflow": null,
      "overflow_x": null,
      "overflow_y": null,
      "padding": null,
      "right": null,
      "top": null,
      "visibility": null,
      "width": null
     }
    },
    "da2f93d75c834b3f8e2b6c364cb1cb67": {
     "model_module": "@jupyter-widgets/controls",
     "model_name": "ProgressStyleModel",
     "state": {
      "_model_module": "@jupyter-widgets/controls",
      "_model_module_version": "1.5.0",
      "_model_name": "ProgressStyleModel",
      "_view_count": null,
      "_view_module": "@jupyter-widgets/base",
      "_view_module_version": "1.2.0",
      "_view_name": "StyleView",
      "bar_color": null,
      "description_width": "initial"
     }
    },
    "dc9062704f7649d0853780c91d5e9598": {
     "model_module": "@jupyter-widgets/controls",
     "model_name": "HBoxModel",
     "state": {
      "_dom_classes": [],
      "_model_module": "@jupyter-widgets/controls",
      "_model_module_version": "1.5.0",
      "_model_name": "HBoxModel",
      "_view_count": null,
      "_view_module": "@jupyter-widgets/controls",
      "_view_module_version": "1.5.0",
      "_view_name": "HBoxView",
      "box_style": "",
      "children": [
       "IPY_MODEL_73d5e005615d43b29536ec21ece3f007",
       "IPY_MODEL_7d6bdcf30baf40679b62be39ca469125"
      ],
      "layout": "IPY_MODEL_e7243b6080354773abd185ad70a71608"
     }
    },
    "e02f964ca01b4cb6afb10d25ee5c41e1": {
     "model_module": "@jupyter-widgets/base",
     "model_name": "LayoutModel",
     "state": {
      "_model_module": "@jupyter-widgets/base",
      "_model_module_version": "1.2.0",
      "_model_name": "LayoutModel",
      "_view_count": null,
      "_view_module": "@jupyter-widgets/base",
      "_view_module_version": "1.2.0",
      "_view_name": "LayoutView",
      "align_content": null,
      "align_items": null,
      "align_self": null,
      "border": null,
      "bottom": null,
      "display": null,
      "flex": null,
      "flex_flow": null,
      "grid_area": null,
      "grid_auto_columns": null,
      "grid_auto_flow": null,
      "grid_auto_rows": null,
      "grid_column": null,
      "grid_gap": null,
      "grid_row": null,
      "grid_template_areas": null,
      "grid_template_columns": null,
      "grid_template_rows": null,
      "height": null,
      "justify_content": null,
      "justify_items": null,
      "left": null,
      "margin": null,
      "max_height": null,
      "max_width": null,
      "min_height": null,
      "min_width": null,
      "object_fit": null,
      "object_position": null,
      "order": null,
      "overflow": null,
      "overflow_x": null,
      "overflow_y": null,
      "padding": null,
      "right": null,
      "top": null,
      "visibility": null,
      "width": null
     }
    },
    "e2029eb049d14059a2d2c25bf52e148a": {
     "model_module": "@jupyter-widgets/controls",
     "model_name": "HTMLModel",
     "state": {
      "_dom_classes": [],
      "_model_module": "@jupyter-widgets/controls",
      "_model_module_version": "1.5.0",
      "_model_name": "HTMLModel",
      "_view_count": null,
      "_view_module": "@jupyter-widgets/controls",
      "_view_module_version": "1.5.0",
      "_view_name": "HTMLView",
      "description": "",
      "description_tooltip": null,
      "layout": "IPY_MODEL_3d196ffca9d5427e9827d99d99d22219",
      "placeholder": "​",
      "style": "IPY_MODEL_9b3050816400484f922bb38037d61ebc",
      "value": "100% 427/427 [03:16&lt;00:00,  2.16it/s, Batch=420, Loss=3.21]"
     }
    },
    "e4061b2be76a41f19addfef5001d4bdc": {
     "model_module": "@jupyter-widgets/controls",
     "model_name": "DescriptionStyleModel",
     "state": {
      "_model_module": "@jupyter-widgets/controls",
      "_model_module_version": "1.5.0",
      "_model_name": "DescriptionStyleModel",
      "_view_count": null,
      "_view_module": "@jupyter-widgets/base",
      "_view_module_version": "1.2.0",
      "_view_name": "StyleView",
      "description_width": ""
     }
    },
    "e55550bf128149b3bcfa9018a08a49a7": {
     "model_module": "@jupyter-widgets/base",
     "model_name": "LayoutModel",
     "state": {
      "_model_module": "@jupyter-widgets/base",
      "_model_module_version": "1.2.0",
      "_model_name": "LayoutModel",
      "_view_count": null,
      "_view_module": "@jupyter-widgets/base",
      "_view_module_version": "1.2.0",
      "_view_name": "LayoutView",
      "align_content": null,
      "align_items": null,
      "align_self": null,
      "border": null,
      "bottom": null,
      "display": null,
      "flex": null,
      "flex_flow": null,
      "grid_area": null,
      "grid_auto_columns": null,
      "grid_auto_flow": null,
      "grid_auto_rows": null,
      "grid_column": null,
      "grid_gap": null,
      "grid_row": null,
      "grid_template_areas": null,
      "grid_template_columns": null,
      "grid_template_rows": null,
      "height": null,
      "justify_content": null,
      "justify_items": null,
      "left": null,
      "margin": null,
      "max_height": null,
      "max_width": null,
      "min_height": null,
      "min_width": null,
      "object_fit": null,
      "object_position": null,
      "order": null,
      "overflow": null,
      "overflow_x": null,
      "overflow_y": null,
      "padding": null,
      "right": null,
      "top": null,
      "visibility": null,
      "width": null
     }
    },
    "e7243b6080354773abd185ad70a71608": {
     "model_module": "@jupyter-widgets/base",
     "model_name": "LayoutModel",
     "state": {
      "_model_module": "@jupyter-widgets/base",
      "_model_module_version": "1.2.0",
      "_model_name": "LayoutModel",
      "_view_count": null,
      "_view_module": "@jupyter-widgets/base",
      "_view_module_version": "1.2.0",
      "_view_name": "LayoutView",
      "align_content": null,
      "align_items": null,
      "align_self": null,
      "border": null,
      "bottom": null,
      "display": null,
      "flex": null,
      "flex_flow": null,
      "grid_area": null,
      "grid_auto_columns": null,
      "grid_auto_flow": null,
      "grid_auto_rows": null,
      "grid_column": null,
      "grid_gap": null,
      "grid_row": null,
      "grid_template_areas": null,
      "grid_template_columns": null,
      "grid_template_rows": null,
      "height": null,
      "justify_content": null,
      "justify_items": null,
      "left": null,
      "margin": null,
      "max_height": null,
      "max_width": null,
      "min_height": null,
      "min_width": null,
      "object_fit": null,
      "object_position": null,
      "order": null,
      "overflow": null,
      "overflow_x": null,
      "overflow_y": null,
      "padding": null,
      "right": null,
      "top": null,
      "visibility": null,
      "width": null
     }
    },
    "f2355ef07cc741c08b8617230657730c": {
     "model_module": "@jupyter-widgets/base",
     "model_name": "LayoutModel",
     "state": {
      "_model_module": "@jupyter-widgets/base",
      "_model_module_version": "1.2.0",
      "_model_name": "LayoutModel",
      "_view_count": null,
      "_view_module": "@jupyter-widgets/base",
      "_view_module_version": "1.2.0",
      "_view_name": "LayoutView",
      "align_content": null,
      "align_items": null,
      "align_self": null,
      "border": null,
      "bottom": null,
      "display": null,
      "flex": null,
      "flex_flow": null,
      "grid_area": null,
      "grid_auto_columns": null,
      "grid_auto_flow": null,
      "grid_auto_rows": null,
      "grid_column": null,
      "grid_gap": null,
      "grid_row": null,
      "grid_template_areas": null,
      "grid_template_columns": null,
      "grid_template_rows": null,
      "height": null,
      "justify_content": null,
      "justify_items": null,
      "left": null,
      "margin": null,
      "max_height": null,
      "max_width": null,
      "min_height": null,
      "min_width": null,
      "object_fit": null,
      "object_position": null,
      "order": null,
      "overflow": null,
      "overflow_x": null,
      "overflow_y": null,
      "padding": null,
      "right": null,
      "top": null,
      "visibility": null,
      "width": null
     }
    },
    "f88729084a01414fb2b4fc9bc871e09e": {
     "model_module": "@jupyter-widgets/controls",
     "model_name": "IntProgressModel",
     "state": {
      "_dom_classes": [],
      "_model_module": "@jupyter-widgets/controls",
      "_model_module_version": "1.5.0",
      "_model_name": "IntProgressModel",
      "_view_count": null,
      "_view_module": "@jupyter-widgets/controls",
      "_view_module_version": "1.5.0",
      "_view_name": "ProgressView",
      "bar_style": "success",
      "description": "Epoch 8",
      "description_tooltip": null,
      "layout": "IPY_MODEL_b6d3cd8c2e684858abefa3a0074e6bf1",
      "max": 427,
      "min": 0,
      "orientation": "horizontal",
      "style": "IPY_MODEL_36d3910f27554db1bc64751296df7e37",
      "value": 427
     }
    },
    "f8bbeb6c8e2c4206a99f251a509b56f3": {
     "model_module": "@jupyter-widgets/base",
     "model_name": "LayoutModel",
     "state": {
      "_model_module": "@jupyter-widgets/base",
      "_model_module_version": "1.2.0",
      "_model_name": "LayoutModel",
      "_view_count": null,
      "_view_module": "@jupyter-widgets/base",
      "_view_module_version": "1.2.0",
      "_view_name": "LayoutView",
      "align_content": null,
      "align_items": null,
      "align_self": null,
      "border": null,
      "bottom": null,
      "display": null,
      "flex": null,
      "flex_flow": null,
      "grid_area": null,
      "grid_auto_columns": null,
      "grid_auto_flow": null,
      "grid_auto_rows": null,
      "grid_column": null,
      "grid_gap": null,
      "grid_row": null,
      "grid_template_areas": null,
      "grid_template_columns": null,
      "grid_template_rows": null,
      "height": null,
      "justify_content": null,
      "justify_items": null,
      "left": null,
      "margin": null,
      "max_height": null,
      "max_width": null,
      "min_height": null,
      "min_width": null,
      "object_fit": null,
      "object_position": null,
      "order": null,
      "overflow": null,
      "overflow_x": null,
      "overflow_y": null,
      "padding": null,
      "right": null,
      "top": null,
      "visibility": null,
      "width": null
     }
    },
    "fade0b280467465e9f6d1a7bb7bda9d7": {
     "model_module": "@jupyter-widgets/controls",
     "model_name": "DescriptionStyleModel",
     "state": {
      "_model_module": "@jupyter-widgets/controls",
      "_model_module_version": "1.5.0",
      "_model_name": "DescriptionStyleModel",
      "_view_count": null,
      "_view_module": "@jupyter-widgets/base",
      "_view_module_version": "1.2.0",
      "_view_name": "StyleView",
      "description_width": ""
     }
    },
    "fdfc339b42a24501a32bd6620b077592": {
     "model_module": "@jupyter-widgets/controls",
     "model_name": "DescriptionStyleModel",
     "state": {
      "_model_module": "@jupyter-widgets/controls",
      "_model_module_version": "1.5.0",
      "_model_name": "DescriptionStyleModel",
      "_view_count": null,
      "_view_module": "@jupyter-widgets/base",
      "_view_module_version": "1.2.0",
      "_view_name": "StyleView",
      "description_width": ""
     }
    }
   }
  }
 },
 "nbformat": 4,
 "nbformat_minor": 1
}
